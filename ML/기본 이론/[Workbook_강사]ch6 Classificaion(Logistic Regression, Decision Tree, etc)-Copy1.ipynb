{
 "cells": [
  {
   "cell_type": "markdown",
   "metadata": {
    "id": "4JTxsWF-5sXG"
   },
   "source": [
    "\n",
    "# [KDT] ch6 Classification"
   ]
  },
  {
   "cell_type": "markdown",
   "metadata": {},
   "source": [
    "### LogisticRegression / Decision Tree / Naive Bayes / KNN \n",
    "\n",
    " - 데이터셋: 직장인 연봉 정보 / 붗꽃 / 다이아몬드 / 타이타닉  \n",
    " - 주요 라이브러리: sklearn linear_model / \n",
    " - 알파 퀴즈(1개) / 파이 퀴즈(1개) / 시그마 퀴즈(2개) / 오메가 퀴즈(과제 1개) "
   ]
  },
  {
   "cell_type": "code",
   "execution_count": 1,
   "metadata": {
    "executionInfo": {
     "elapsed": 299,
     "status": "ok",
     "timestamp": 1668725561526,
     "user": {
      "displayName": "jinyang park",
      "userId": "06576046992691541404"
     },
     "user_tz": -540
    },
    "id": "Dtoe4P7Hwi_G"
   },
   "outputs": [],
   "source": [
    "import pandas as pd\n",
    "import numpy as np\n",
    "import matplotlib.pyplot as plt\n",
    "import seaborn as sns"
   ]
  },
  {
   "cell_type": "code",
   "execution_count": 2,
   "metadata": {},
   "outputs": [],
   "source": [
    "import warnings\n",
    "warnings.filterwarnings('ignore')"
   ]
  },
  {
   "cell_type": "code",
   "execution_count": 3,
   "metadata": {
    "executionInfo": {
     "elapsed": 1006,
     "status": "ok",
     "timestamp": 1668725562530,
     "user": {
      "displayName": "jinyang park",
      "userId": "06576046992691541404"
     },
     "user_tz": -540
    },
    "id": "2P_tOya1wwd_"
   },
   "outputs": [],
   "source": [
    "# 파일 로딩 \n",
    "df_hk = pd.read_csv('c:ktd_2_data230224/hk_221206.csv')"
   ]
  },
  {
   "cell_type": "markdown",
   "metadata": {},
   "source": [
    "## $\\alpha$(알파) 퀴즈: \n",
    "<br>직장인 데이터셋과 해당 인원들의 차량 소유 데이터셋을 바탕으로 분류 분석을 계획 중이다. \n",
    "<br>이를 위해 먼저 분류 분석을 위한 전처리 과정을 진행하고자 한다.\n",
    "\n",
    "<br>기본 데이터셋 df_hk에 차량 소유 데이터셋을 join한다.( 차량 소유 데이터 파일은 hk_221206_car.csv 이며 left 조인) \n",
    "<br>차량 정보는 배기량에 의해 A/B/C/D/E/F 타입으로 되어 있으며 차량이 없는 경우 none으로 되어 있다. \n",
    "<br>6개 차량 타입을 A, B 인 경우 SS로 변경, C, D 인 경우 MM로 변경, E, F인 경우 LL로 변경한다.(컬럼명은 car_type 동일)\n",
    "<br>car_type이 none인 경우 결측치로 판단하여 제외한다. \n",
    "<br>전처리 후 데이터 셋 명칭을 basetable1으로 명명한다. \n",
    "<br>\n",
    "<br><b>문제: car_type별 연봉 평균을 각각 구하시오(SS/MM/LL 3가지 경우 확인) </b>"
   ]
  },
  {
   "cell_type": "code",
   "execution_count": 4,
   "metadata": {},
   "outputs": [
    {
     "data": {
      "text/html": [
       "<div>\n",
       "<style scoped>\n",
       "    .dataframe tbody tr th:only-of-type {\n",
       "        vertical-align: middle;\n",
       "    }\n",
       "\n",
       "    .dataframe tbody tr th {\n",
       "        vertical-align: top;\n",
       "    }\n",
       "\n",
       "    .dataframe thead th {\n",
       "        text-align: right;\n",
       "    }\n",
       "</style>\n",
       "<table border=\"1\" class=\"dataframe\">\n",
       "  <thead>\n",
       "    <tr style=\"text-align: right;\">\n",
       "      <th></th>\n",
       "      <th>name</th>\n",
       "      <th>jumin7</th>\n",
       "      <th>gender</th>\n",
       "      <th>height</th>\n",
       "      <th>age</th>\n",
       "      <th>blood_type</th>\n",
       "      <th>company</th>\n",
       "      <th>grades</th>\n",
       "      <th>salary</th>\n",
       "      <th>expenditure</th>\n",
       "    </tr>\n",
       "  </thead>\n",
       "  <tbody>\n",
       "    <tr>\n",
       "      <th>0</th>\n",
       "      <td>hkd1</td>\n",
       "      <td>990623-2</td>\n",
       "      <td>F</td>\n",
       "      <td>161.9</td>\n",
       "      <td>22</td>\n",
       "      <td>A</td>\n",
       "      <td>A</td>\n",
       "      <td>A</td>\n",
       "      <td>4100</td>\n",
       "      <td>1975</td>\n",
       "    </tr>\n",
       "    <tr>\n",
       "      <th>1</th>\n",
       "      <td>hkd10</td>\n",
       "      <td>900303-2</td>\n",
       "      <td>F</td>\n",
       "      <td>169.4</td>\n",
       "      <td>31</td>\n",
       "      <td>A</td>\n",
       "      <td>A</td>\n",
       "      <td>B</td>\n",
       "      <td>4720</td>\n",
       "      <td>2970</td>\n",
       "    </tr>\n",
       "    <tr>\n",
       "      <th>2</th>\n",
       "      <td>hkd100</td>\n",
       "      <td>681205-2</td>\n",
       "      <td>F</td>\n",
       "      <td>168.3</td>\n",
       "      <td>55</td>\n",
       "      <td>A</td>\n",
       "      <td>A</td>\n",
       "      <td>B</td>\n",
       "      <td>7280</td>\n",
       "      <td>5905</td>\n",
       "    </tr>\n",
       "    <tr>\n",
       "      <th>3</th>\n",
       "      <td>hkd101</td>\n",
       "      <td>931226-2</td>\n",
       "      <td>F</td>\n",
       "      <td>155.3</td>\n",
       "      <td>28</td>\n",
       "      <td>AB</td>\n",
       "      <td>B</td>\n",
       "      <td>B</td>\n",
       "      <td>4060</td>\n",
       "      <td>2935</td>\n",
       "    </tr>\n",
       "    <tr>\n",
       "      <th>4</th>\n",
       "      <td>hkd102</td>\n",
       "      <td>920123-1</td>\n",
       "      <td>M</td>\n",
       "      <td>188.6</td>\n",
       "      <td>29</td>\n",
       "      <td>O</td>\n",
       "      <td>B</td>\n",
       "      <td>F</td>\n",
       "      <td>4390</td>\n",
       "      <td>4015</td>\n",
       "    </tr>\n",
       "  </tbody>\n",
       "</table>\n",
       "</div>"
      ],
      "text/plain": [
       "     name    jumin7 gender  height  age blood_type company grades  salary  \\\n",
       "0    hkd1  990623-2      F   161.9   22          A       A      A    4100   \n",
       "1   hkd10  900303-2      F   169.4   31          A       A      B    4720   \n",
       "2  hkd100  681205-2      F   168.3   55          A       A      B    7280   \n",
       "3  hkd101  931226-2      F   155.3   28         AB       B      B    4060   \n",
       "4  hkd102  920123-1      M   188.6   29          O       B      F    4390   \n",
       "\n",
       "   expenditure  \n",
       "0         1975  \n",
       "1         2970  \n",
       "2         5905  \n",
       "3         2935  \n",
       "4         4015  "
      ]
     },
     "execution_count": 4,
     "metadata": {},
     "output_type": "execute_result"
    }
   ],
   "source": [
    "df_hk[:5]"
   ]
  },
  {
   "cell_type": "code",
   "execution_count": 5,
   "metadata": {},
   "outputs": [],
   "source": [
    "# car 파일 로딩 \n",
    "df_hk_car = pd.read_csv('c:ktd_2_data230224/hk_221206_car.csv')"
   ]
  },
  {
   "cell_type": "code",
   "execution_count": 6,
   "metadata": {},
   "outputs": [
    {
     "data": {
      "text/html": [
       "<div>\n",
       "<style scoped>\n",
       "    .dataframe tbody tr th:only-of-type {\n",
       "        vertical-align: middle;\n",
       "    }\n",
       "\n",
       "    .dataframe tbody tr th {\n",
       "        vertical-align: top;\n",
       "    }\n",
       "\n",
       "    .dataframe thead th {\n",
       "        text-align: right;\n",
       "    }\n",
       "</style>\n",
       "<table border=\"1\" class=\"dataframe\">\n",
       "  <thead>\n",
       "    <tr style=\"text-align: right;\">\n",
       "      <th></th>\n",
       "      <th>name</th>\n",
       "      <th>car_type</th>\n",
       "    </tr>\n",
       "  </thead>\n",
       "  <tbody>\n",
       "    <tr>\n",
       "      <th>0</th>\n",
       "      <td>hkd1</td>\n",
       "      <td>none</td>\n",
       "    </tr>\n",
       "    <tr>\n",
       "      <th>1</th>\n",
       "      <td>hkd10</td>\n",
       "      <td>B</td>\n",
       "    </tr>\n",
       "    <tr>\n",
       "      <th>2</th>\n",
       "      <td>hkd100</td>\n",
       "      <td>D</td>\n",
       "    </tr>\n",
       "    <tr>\n",
       "      <th>3</th>\n",
       "      <td>hkd101</td>\n",
       "      <td>A</td>\n",
       "    </tr>\n",
       "    <tr>\n",
       "      <th>4</th>\n",
       "      <td>hkd102</td>\n",
       "      <td>B</td>\n",
       "    </tr>\n",
       "  </tbody>\n",
       "</table>\n",
       "</div>"
      ],
      "text/plain": [
       "     name car_type\n",
       "0    hkd1     none\n",
       "1   hkd10        B\n",
       "2  hkd100        D\n",
       "3  hkd101        A\n",
       "4  hkd102        B"
      ]
     },
     "execution_count": 6,
     "metadata": {},
     "output_type": "execute_result"
    }
   ],
   "source": [
    "# df_hk_car\n",
    "df_hk_car[:5]"
   ]
  },
  {
   "cell_type": "code",
   "execution_count": 7,
   "metadata": {},
   "outputs": [
    {
     "data": {
      "text/html": [
       "<div>\n",
       "<style scoped>\n",
       "    .dataframe tbody tr th:only-of-type {\n",
       "        vertical-align: middle;\n",
       "    }\n",
       "\n",
       "    .dataframe tbody tr th {\n",
       "        vertical-align: top;\n",
       "    }\n",
       "\n",
       "    .dataframe thead th {\n",
       "        text-align: right;\n",
       "    }\n",
       "</style>\n",
       "<table border=\"1\" class=\"dataframe\">\n",
       "  <thead>\n",
       "    <tr style=\"text-align: right;\">\n",
       "      <th></th>\n",
       "      <th>name</th>\n",
       "      <th>jumin7</th>\n",
       "      <th>gender</th>\n",
       "      <th>height</th>\n",
       "      <th>age</th>\n",
       "      <th>blood_type</th>\n",
       "      <th>company</th>\n",
       "      <th>grades</th>\n",
       "      <th>salary</th>\n",
       "      <th>expenditure</th>\n",
       "      <th>car_type</th>\n",
       "    </tr>\n",
       "  </thead>\n",
       "  <tbody>\n",
       "    <tr>\n",
       "      <th>0</th>\n",
       "      <td>hkd1</td>\n",
       "      <td>990623-2</td>\n",
       "      <td>F</td>\n",
       "      <td>161.9</td>\n",
       "      <td>22</td>\n",
       "      <td>A</td>\n",
       "      <td>A</td>\n",
       "      <td>A</td>\n",
       "      <td>4100</td>\n",
       "      <td>1975</td>\n",
       "      <td>none</td>\n",
       "    </tr>\n",
       "    <tr>\n",
       "      <th>1</th>\n",
       "      <td>hkd10</td>\n",
       "      <td>900303-2</td>\n",
       "      <td>F</td>\n",
       "      <td>169.4</td>\n",
       "      <td>31</td>\n",
       "      <td>A</td>\n",
       "      <td>A</td>\n",
       "      <td>B</td>\n",
       "      <td>4720</td>\n",
       "      <td>2970</td>\n",
       "      <td>B</td>\n",
       "    </tr>\n",
       "    <tr>\n",
       "      <th>2</th>\n",
       "      <td>hkd100</td>\n",
       "      <td>681205-2</td>\n",
       "      <td>F</td>\n",
       "      <td>168.3</td>\n",
       "      <td>55</td>\n",
       "      <td>A</td>\n",
       "      <td>A</td>\n",
       "      <td>B</td>\n",
       "      <td>7280</td>\n",
       "      <td>5905</td>\n",
       "      <td>D</td>\n",
       "    </tr>\n",
       "    <tr>\n",
       "      <th>3</th>\n",
       "      <td>hkd101</td>\n",
       "      <td>931226-2</td>\n",
       "      <td>F</td>\n",
       "      <td>155.3</td>\n",
       "      <td>28</td>\n",
       "      <td>AB</td>\n",
       "      <td>B</td>\n",
       "      <td>B</td>\n",
       "      <td>4060</td>\n",
       "      <td>2935</td>\n",
       "      <td>A</td>\n",
       "    </tr>\n",
       "    <tr>\n",
       "      <th>4</th>\n",
       "      <td>hkd102</td>\n",
       "      <td>920123-1</td>\n",
       "      <td>M</td>\n",
       "      <td>188.6</td>\n",
       "      <td>29</td>\n",
       "      <td>O</td>\n",
       "      <td>B</td>\n",
       "      <td>F</td>\n",
       "      <td>4390</td>\n",
       "      <td>4015</td>\n",
       "      <td>B</td>\n",
       "    </tr>\n",
       "  </tbody>\n",
       "</table>\n",
       "</div>"
      ],
      "text/plain": [
       "     name    jumin7 gender  height  age blood_type company grades  salary  \\\n",
       "0    hkd1  990623-2      F   161.9   22          A       A      A    4100   \n",
       "1   hkd10  900303-2      F   169.4   31          A       A      B    4720   \n",
       "2  hkd100  681205-2      F   168.3   55          A       A      B    7280   \n",
       "3  hkd101  931226-2      F   155.3   28         AB       B      B    4060   \n",
       "4  hkd102  920123-1      M   188.6   29          O       B      F    4390   \n",
       "\n",
       "   expenditure car_type  \n",
       "0         1975     none  \n",
       "1         2970        B  \n",
       "2         5905        D  \n",
       "3         2935        A  \n",
       "4         4015        B  "
      ]
     },
     "execution_count": 7,
     "metadata": {},
     "output_type": "execute_result"
    }
   ],
   "source": [
    "# merge, left join  or concat\n",
    "df_hk = pd.merge(df_hk, df_hk_car, how= 'left', on='name')\n",
    "df_hk[:5]"
   ]
  },
  {
   "cell_type": "code",
   "execution_count": 8,
   "metadata": {
    "scrolled": true
   },
   "outputs": [
    {
     "data": {
      "text/html": [
       "<div>\n",
       "<style scoped>\n",
       "    .dataframe tbody tr th:only-of-type {\n",
       "        vertical-align: middle;\n",
       "    }\n",
       "\n",
       "    .dataframe tbody tr th {\n",
       "        vertical-align: top;\n",
       "    }\n",
       "\n",
       "    .dataframe thead th {\n",
       "        text-align: right;\n",
       "    }\n",
       "</style>\n",
       "<table border=\"1\" class=\"dataframe\">\n",
       "  <thead>\n",
       "    <tr style=\"text-align: right;\">\n",
       "      <th></th>\n",
       "      <th>name</th>\n",
       "      <th>jumin7</th>\n",
       "      <th>gender</th>\n",
       "      <th>height</th>\n",
       "      <th>age</th>\n",
       "      <th>blood_type</th>\n",
       "      <th>company</th>\n",
       "      <th>grades</th>\n",
       "      <th>salary</th>\n",
       "      <th>expenditure</th>\n",
       "      <th>car_type</th>\n",
       "    </tr>\n",
       "  </thead>\n",
       "  <tbody>\n",
       "    <tr>\n",
       "      <th>0</th>\n",
       "      <td>hkd1</td>\n",
       "      <td>990623-2</td>\n",
       "      <td>F</td>\n",
       "      <td>161.9</td>\n",
       "      <td>22</td>\n",
       "      <td>A</td>\n",
       "      <td>A</td>\n",
       "      <td>A</td>\n",
       "      <td>4100</td>\n",
       "      <td>1975</td>\n",
       "      <td>NaN</td>\n",
       "    </tr>\n",
       "    <tr>\n",
       "      <th>1</th>\n",
       "      <td>hkd10</td>\n",
       "      <td>900303-2</td>\n",
       "      <td>F</td>\n",
       "      <td>169.4</td>\n",
       "      <td>31</td>\n",
       "      <td>A</td>\n",
       "      <td>A</td>\n",
       "      <td>B</td>\n",
       "      <td>4720</td>\n",
       "      <td>2970</td>\n",
       "      <td>SS</td>\n",
       "    </tr>\n",
       "    <tr>\n",
       "      <th>2</th>\n",
       "      <td>hkd100</td>\n",
       "      <td>681205-2</td>\n",
       "      <td>F</td>\n",
       "      <td>168.3</td>\n",
       "      <td>55</td>\n",
       "      <td>A</td>\n",
       "      <td>A</td>\n",
       "      <td>B</td>\n",
       "      <td>7280</td>\n",
       "      <td>5905</td>\n",
       "      <td>MM</td>\n",
       "    </tr>\n",
       "    <tr>\n",
       "      <th>3</th>\n",
       "      <td>hkd101</td>\n",
       "      <td>931226-2</td>\n",
       "      <td>F</td>\n",
       "      <td>155.3</td>\n",
       "      <td>28</td>\n",
       "      <td>AB</td>\n",
       "      <td>B</td>\n",
       "      <td>B</td>\n",
       "      <td>4060</td>\n",
       "      <td>2935</td>\n",
       "      <td>SS</td>\n",
       "    </tr>\n",
       "    <tr>\n",
       "      <th>4</th>\n",
       "      <td>hkd102</td>\n",
       "      <td>920123-1</td>\n",
       "      <td>M</td>\n",
       "      <td>188.6</td>\n",
       "      <td>29</td>\n",
       "      <td>O</td>\n",
       "      <td>B</td>\n",
       "      <td>F</td>\n",
       "      <td>4390</td>\n",
       "      <td>4015</td>\n",
       "      <td>SS</td>\n",
       "    </tr>\n",
       "  </tbody>\n",
       "</table>\n",
       "</div>"
      ],
      "text/plain": [
       "     name    jumin7 gender  height  age blood_type company grades  salary  \\\n",
       "0    hkd1  990623-2      F   161.9   22          A       A      A    4100   \n",
       "1   hkd10  900303-2      F   169.4   31          A       A      B    4720   \n",
       "2  hkd100  681205-2      F   168.3   55          A       A      B    7280   \n",
       "3  hkd101  931226-2      F   155.3   28         AB       B      B    4060   \n",
       "4  hkd102  920123-1      M   188.6   29          O       B      F    4390   \n",
       "\n",
       "   expenditure car_type  \n",
       "0         1975      NaN  \n",
       "1         2970       SS  \n",
       "2         5905       MM  \n",
       "3         2935       SS  \n",
       "4         4015       SS  "
      ]
     },
     "execution_count": 8,
     "metadata": {},
     "output_type": "execute_result"
    }
   ],
   "source": [
    "# map or replace\n",
    "# 6개 차량 타입을 A, B 인 경우 SS로 변경, C, D 인 경우 MM로 변경, E, F인 경우 LL로\n",
    "\n",
    "\n",
    "df_hk['car_type'] = df_hk['car_type'].map({'A':'SS', 'B': 'SS', 'C':'MM', 'D': 'MM','E':'LL', 'F': 'LL'})\n",
    "df_hk[:5]"
   ]
  },
  {
   "cell_type": "code",
   "execution_count": 9,
   "metadata": {},
   "outputs": [
    {
     "data": {
      "text/plain": [
       "name            0\n",
       "jumin7          0\n",
       "gender          0\n",
       "height          0\n",
       "age             0\n",
       "blood_type      0\n",
       "company         0\n",
       "grades          0\n",
       "salary          0\n",
       "expenditure     0\n",
       "car_type       14\n",
       "dtype: int64"
      ]
     },
     "execution_count": 9,
     "metadata": {},
     "output_type": "execute_result"
    }
   ],
   "source": [
    "df_hk.isna().sum()"
   ]
  },
  {
   "cell_type": "code",
   "execution_count": 10,
   "metadata": {
    "scrolled": true
   },
   "outputs": [
    {
     "data": {
      "text/plain": [
       "name           0\n",
       "jumin7         0\n",
       "gender         0\n",
       "height         0\n",
       "age            0\n",
       "blood_type     0\n",
       "company        0\n",
       "grades         0\n",
       "salary         0\n",
       "expenditure    0\n",
       "car_type       0\n",
       "dtype: int64"
      ]
     },
     "execution_count": 10,
     "metadata": {},
     "output_type": "execute_result"
    }
   ],
   "source": [
    "df_hk = df_hk.dropna().reset_index(drop=True)\n",
    "df_hk.isna().sum()"
   ]
  },
  {
   "cell_type": "code",
   "execution_count": 11,
   "metadata": {},
   "outputs": [],
   "source": [
    "# df_hk = df_hk.drop(['level_0','index'], axis=1)"
   ]
  },
  {
   "cell_type": "code",
   "execution_count": 12,
   "metadata": {},
   "outputs": [
    {
     "data": {
      "text/html": [
       "<div>\n",
       "<style scoped>\n",
       "    .dataframe tbody tr th:only-of-type {\n",
       "        vertical-align: middle;\n",
       "    }\n",
       "\n",
       "    .dataframe tbody tr th {\n",
       "        vertical-align: top;\n",
       "    }\n",
       "\n",
       "    .dataframe thead th {\n",
       "        text-align: right;\n",
       "    }\n",
       "</style>\n",
       "<table border=\"1\" class=\"dataframe\">\n",
       "  <thead>\n",
       "    <tr style=\"text-align: right;\">\n",
       "      <th></th>\n",
       "      <th>name</th>\n",
       "      <th>jumin7</th>\n",
       "      <th>gender</th>\n",
       "      <th>height</th>\n",
       "      <th>age</th>\n",
       "      <th>blood_type</th>\n",
       "      <th>company</th>\n",
       "      <th>grades</th>\n",
       "      <th>salary</th>\n",
       "      <th>expenditure</th>\n",
       "      <th>car_type</th>\n",
       "    </tr>\n",
       "  </thead>\n",
       "  <tbody>\n",
       "    <tr>\n",
       "      <th>0</th>\n",
       "      <td>hkd10</td>\n",
       "      <td>900303-2</td>\n",
       "      <td>F</td>\n",
       "      <td>169.4</td>\n",
       "      <td>31</td>\n",
       "      <td>A</td>\n",
       "      <td>A</td>\n",
       "      <td>B</td>\n",
       "      <td>4720</td>\n",
       "      <td>2970</td>\n",
       "      <td>SS</td>\n",
       "    </tr>\n",
       "    <tr>\n",
       "      <th>1</th>\n",
       "      <td>hkd100</td>\n",
       "      <td>681205-2</td>\n",
       "      <td>F</td>\n",
       "      <td>168.3</td>\n",
       "      <td>55</td>\n",
       "      <td>A</td>\n",
       "      <td>A</td>\n",
       "      <td>B</td>\n",
       "      <td>7280</td>\n",
       "      <td>5905</td>\n",
       "      <td>MM</td>\n",
       "    </tr>\n",
       "  </tbody>\n",
       "</table>\n",
       "</div>"
      ],
      "text/plain": [
       "     name    jumin7 gender  height  age blood_type company grades  salary  \\\n",
       "0   hkd10  900303-2      F   169.4   31          A       A      B    4720   \n",
       "1  hkd100  681205-2      F   168.3   55          A       A      B    7280   \n",
       "\n",
       "   expenditure car_type  \n",
       "0         2970       SS  \n",
       "1         5905       MM  "
      ]
     },
     "execution_count": 12,
     "metadata": {},
     "output_type": "execute_result"
    }
   ],
   "source": [
    "basetable1 = df_hk.copy()\n",
    "basetable1[:2]"
   ]
  },
  {
   "cell_type": "markdown",
   "metadata": {},
   "source": [
    "## 1. 로지스틱 회귀분석 워밍업\n",
    "\n",
    "<br> <진행순서>\n",
    "<br> basetable1 236개 샘플을 활용하여 \n",
    "<br> 1. 종속변수를 gender\n",
    "<br> 2. 독립변수 height, age, salary, expenditure 4개로 구성하는 로지스틱 회귀분석을 설계 \n",
    "<br> 3. 독립변수 4개별 회귀계수를 확인하시오 \n",
    "<br>\n",
    "<br>from sklearn.linear_model import LogisticRegression 활용 \n",
    "<br>(파라미터 가이드: Seed=1234, Solver='newton-cg', 나머지: Default)\n",
    "<br>\n",
    "\n",
    "### Chat GPT\n",
    "\n",
    "Q) solver의 역할이 뭔가요\n",
    "\n",
    "A) \n",
    "solverLogisticRegression최적화에 사용할 알고리즘을 지정하는 scikit-learn 클래스의 매개변수입니다 . 즉, 모델에 대한 최상의 계수를 찾는 데 사용되는 방법을 결정합니다.\n",
    "\n",
    "솔버의 선택은 속도와 정확도 측면에서 모델의 성능에 큰 영향을 미칠 수 있습니다. 일부 솔버는 더 작은 데이터 세트에 더 적합하고 다른 솔버는 더 큰 데이터 세트 또는 많은 수의 기능이 있는 데이터 세트에 더 적합합니다.\n",
    "\n",
    "scikit-learn에서 사용 가능한 솔버는 'newton-cg', 'lbfgs', 'liblinear', 'sag' 및 'saga'입니다. 각 솔버에는 고유한 강점과 약점이 있으므로 문제에 적합한 솔버를 선택하는 것이 중요합니다. 예를 들어 'newton-cg' 및 'lbfgs'는 많은 수의 기능이 있는 문제에 적합한 선택인 반면 'liblinear'는 더 작은 데이터 세트에 적합한 선택입니다."
   ]
  },
  {
   "cell_type": "code",
   "execution_count": 13,
   "metadata": {},
   "outputs": [],
   "source": [
    "# step1) LogisticRegression 클래스 호출\n",
    "from sklearn.linear_model import LogisticRegression\n",
    "from sklearn.linear_model import LogisticRegression"
   ]
  },
  {
   "cell_type": "code",
   "execution_count": 14,
   "metadata": {
    "scrolled": true
   },
   "outputs": [
    {
     "data": {
      "text/html": [
       "<div>\n",
       "<style scoped>\n",
       "    .dataframe tbody tr th:only-of-type {\n",
       "        vertical-align: middle;\n",
       "    }\n",
       "\n",
       "    .dataframe tbody tr th {\n",
       "        vertical-align: top;\n",
       "    }\n",
       "\n",
       "    .dataframe thead th {\n",
       "        text-align: right;\n",
       "    }\n",
       "</style>\n",
       "<table border=\"1\" class=\"dataframe\">\n",
       "  <thead>\n",
       "    <tr style=\"text-align: right;\">\n",
       "      <th></th>\n",
       "      <th>gender</th>\n",
       "      <th>height</th>\n",
       "      <th>age</th>\n",
       "      <th>salary</th>\n",
       "      <th>expenditure</th>\n",
       "    </tr>\n",
       "  </thead>\n",
       "  <tbody>\n",
       "    <tr>\n",
       "      <th>0</th>\n",
       "      <td>F</td>\n",
       "      <td>169.4</td>\n",
       "      <td>31</td>\n",
       "      <td>4720</td>\n",
       "      <td>2970</td>\n",
       "    </tr>\n",
       "    <tr>\n",
       "      <th>1</th>\n",
       "      <td>F</td>\n",
       "      <td>168.3</td>\n",
       "      <td>55</td>\n",
       "      <td>7280</td>\n",
       "      <td>5905</td>\n",
       "    </tr>\n",
       "  </tbody>\n",
       "</table>\n",
       "</div>"
      ],
      "text/plain": [
       "  gender  height  age  salary  expenditure\n",
       "0      F   169.4   31    4720         2970\n",
       "1      F   168.3   55    7280         5905"
      ]
     },
     "execution_count": 14,
     "metadata": {},
     "output_type": "execute_result"
    }
   ],
   "source": [
    "# step2) ['gender','height', 'age', 'salary', 'expenditure'] df_hk 생성\n",
    "\n",
    "df_hk_0 = basetable1[['gender','height', 'age', 'salary', 'expenditure'] ]\n",
    "df_hk_0[:2]"
   ]
  },
  {
   "cell_type": "code",
   "execution_count": 15,
   "metadata": {},
   "outputs": [
    {
     "data": {
      "text/plain": [
       "LogisticRegression(random_state=1234, solver='newton-cg')"
      ]
     },
     "execution_count": 15,
     "metadata": {},
     "output_type": "execute_result"
    }
   ],
   "source": [
    "# step2) LogisticRegression 모델생성,  random_state=1234, solver='newton-cg'\n",
    "model_1 = LogisticRegression(random_state=1234 , solver='newton-cg'  ).fit(df_hk_0.drop('gender', axis = 1),\n",
    "                                                                 df_hk_0['gender'])\n",
    "model_1"
   ]
  },
  {
   "cell_type": "code",
   "execution_count": 16,
   "metadata": {},
   "outputs": [
    {
     "data": {
      "text/plain": [
       "array([ 3.77537818e-01, -5.71497284e-02, -9.77602920e-05,  4.33790677e-04])"
      ]
     },
     "execution_count": 16,
     "metadata": {},
     "output_type": "execute_result"
    }
   ],
   "source": [
    "# LogisticRegression 모델 attribute\n",
    "model_1.coef_[0]"
   ]
  },
  {
   "cell_type": "code",
   "execution_count": 17,
   "metadata": {},
   "outputs": [
    {
     "data": {
      "text/plain": [
       "array([[ 3.77537818e-01, -5.71497284e-02, -9.77602920e-05,\n",
       "         4.33790677e-04]])"
      ]
     },
     "execution_count": 17,
     "metadata": {},
     "output_type": "execute_result"
    }
   ],
   "source": [
    "# coef_\n",
    "model_1.coef_ "
   ]
  },
  {
   "cell_type": "code",
   "execution_count": 18,
   "metadata": {},
   "outputs": [
    {
     "ename": "AttributeError",
     "evalue": "'LogisticRegression' object has no attribute 'feature_names_in_'",
     "output_type": "error",
     "traceback": [
      "\u001b[1;31m---------------------------------------------------------------------------\u001b[0m",
      "\u001b[1;31mAttributeError\u001b[0m                            Traceback (most recent call last)",
      "\u001b[1;32mC:\\Users\\Public\\Documents\\ESTsoft\\CreatorTemp/ipykernel_10972/2797785754.py\u001b[0m in \u001b[0;36m<module>\u001b[1;34m\u001b[0m\n\u001b[0;32m      1\u001b[0m \u001b[1;31m# feature_names_in_\u001b[0m\u001b[1;33m\u001b[0m\u001b[1;33m\u001b[0m\u001b[0m\n\u001b[1;32m----> 2\u001b[1;33m \u001b[0mmodel_1\u001b[0m\u001b[1;33m.\u001b[0m\u001b[0mfeature_names_in_\u001b[0m\u001b[1;33m\u001b[0m\u001b[1;33m\u001b[0m\u001b[0m\n\u001b[0m",
      "\u001b[1;31mAttributeError\u001b[0m: 'LogisticRegression' object has no attribute 'feature_names_in_'"
     ]
    }
   ],
   "source": [
    "# feature_names_in_\n",
    "model_1.feature_names_in_"
   ]
  },
  {
   "cell_type": "code",
   "execution_count": 19,
   "metadata": {},
   "outputs": [
    {
     "ename": "AttributeError",
     "evalue": "'LogisticRegression' object has no attribute 'feature_names_in_'",
     "output_type": "error",
     "traceback": [
      "\u001b[1;31m---------------------------------------------------------------------------\u001b[0m",
      "\u001b[1;31mAttributeError\u001b[0m                            Traceback (most recent call last)",
      "\u001b[1;32mC:\\Users\\Public\\Documents\\ESTsoft\\CreatorTemp/ipykernel_10972/1362520121.py\u001b[0m in \u001b[0;36m<module>\u001b[1;34m\u001b[0m\n\u001b[0;32m      1\u001b[0m \u001b[1;31m# step3) 독립변수 4개별 회귀계수(coef) 확인\u001b[0m\u001b[1;33m\u001b[0m\u001b[1;33m\u001b[0m\u001b[0m\n\u001b[1;32m----> 2\u001b[1;33m \u001b[0mpd\u001b[0m\u001b[1;33m.\u001b[0m\u001b[0mDataFrame\u001b[0m\u001b[1;33m(\u001b[0m\u001b[1;33m{\u001b[0m\u001b[1;34m'feature'\u001b[0m\u001b[1;33m:\u001b[0m \u001b[0mmodel_1\u001b[0m\u001b[1;33m.\u001b[0m\u001b[0mfeature_names_in_\u001b[0m\u001b[1;33m,\u001b[0m \u001b[1;34m'coef'\u001b[0m \u001b[1;33m:\u001b[0m\u001b[0mmodel_1\u001b[0m\u001b[1;33m.\u001b[0m\u001b[0mcoef_\u001b[0m\u001b[1;33m[\u001b[0m\u001b[1;36m0\u001b[0m\u001b[1;33m]\u001b[0m \u001b[1;33m}\u001b[0m\u001b[1;33m)\u001b[0m\u001b[1;33m\u001b[0m\u001b[1;33m\u001b[0m\u001b[0m\n\u001b[0m",
      "\u001b[1;31mAttributeError\u001b[0m: 'LogisticRegression' object has no attribute 'feature_names_in_'"
     ]
    }
   ],
   "source": [
    "# step3) 독립변수 4개별 회귀계수(coef) 확인\n",
    "pd.DataFrame({'feature': model_1.feature_names_in_, 'coef' :model_1.coef_[0] })"
   ]
  },
  {
   "cell_type": "markdown",
   "metadata": {},
   "source": [
    "신장이 1cm 늘어날시 결과에 미치는 영향력이 0.3775이 아님에 유의 \n",
    "<br> 로그가 붙어 있는 오즈비이기 때문에 타깃에 미치는 영향력을 직관적으로 알기 위해서는 로그를 떼어내고 해석해야 함"
   ]
  },
  {
   "cell_type": "markdown",
   "metadata": {},
   "source": [
    " $$ Log \\left\\{ \\frac{ p  }{ 1-p   }\\right\\}  = -62.4681 + 0.3775\\times height + (-0.0571)\\times age + (-0.0001) \\times salary + 0.0004 \\times expenditure $$"
   ]
  },
  {
   "cell_type": "markdown",
   "metadata": {},
   "source": [
    "### 관련 식을 Target 관련 확률로 변환 \n",
    "#### $$ p = \\frac{1}{1+\\exp(-1\\times(-62.4681 + (0.3775)\\times height + (-0.0571)\\times age + (-0.0001) \\times salary + 0.0004 \\times expenditure))} $$\n",
    "p 가 0.5 이상일 경우 1 / 0.5 미만이면 0으로 분류(cut-off 임계치는 수정 가능) "
   ]
  },
  {
   "cell_type": "markdown",
   "metadata": {
    "id": "hfMi2HeL4piH"
   },
   "source": [
    "\n",
    "## 1-0. 로지스틱 회귀분석 statemodels 활용\n",
    "\n",
    "특정 자동차 모델 예측모델 만들기 "
   ]
  },
  {
   "cell_type": "code",
   "execution_count": 20,
   "metadata": {},
   "outputs": [],
   "source": [
    "from statsmodels.formula.api import logit\n",
    "from statsmodels.formula.api import logit"
   ]
  },
  {
   "cell_type": "code",
   "execution_count": 21,
   "metadata": {},
   "outputs": [
    {
     "data": {
      "text/html": [
       "<div>\n",
       "<style scoped>\n",
       "    .dataframe tbody tr th:only-of-type {\n",
       "        vertical-align: middle;\n",
       "    }\n",
       "\n",
       "    .dataframe tbody tr th {\n",
       "        vertical-align: top;\n",
       "    }\n",
       "\n",
       "    .dataframe thead th {\n",
       "        text-align: right;\n",
       "    }\n",
       "</style>\n",
       "<table border=\"1\" class=\"dataframe\">\n",
       "  <thead>\n",
       "    <tr style=\"text-align: right;\">\n",
       "      <th></th>\n",
       "      <th>name</th>\n",
       "      <th>jumin7</th>\n",
       "      <th>gender</th>\n",
       "      <th>height</th>\n",
       "      <th>age</th>\n",
       "      <th>blood_type</th>\n",
       "      <th>company</th>\n",
       "      <th>grades</th>\n",
       "      <th>salary</th>\n",
       "      <th>expenditure</th>\n",
       "      <th>car_type</th>\n",
       "    </tr>\n",
       "  </thead>\n",
       "  <tbody>\n",
       "    <tr>\n",
       "      <th>0</th>\n",
       "      <td>hkd10</td>\n",
       "      <td>900303-2</td>\n",
       "      <td>F</td>\n",
       "      <td>169.4</td>\n",
       "      <td>31</td>\n",
       "      <td>A</td>\n",
       "      <td>A</td>\n",
       "      <td>B</td>\n",
       "      <td>4720</td>\n",
       "      <td>2970</td>\n",
       "      <td>SS</td>\n",
       "    </tr>\n",
       "  </tbody>\n",
       "</table>\n",
       "</div>"
      ],
      "text/plain": [
       "    name    jumin7 gender  height  age blood_type company grades  salary  \\\n",
       "0  hkd10  900303-2      F   169.4   31          A       A      B    4720   \n",
       "\n",
       "   expenditure car_type  \n",
       "0         2970       SS  "
      ]
     },
     "execution_count": 21,
     "metadata": {},
     "output_type": "execute_result"
    }
   ],
   "source": [
    "basetable1[:1]"
   ]
  },
  {
   "cell_type": "code",
   "execution_count": 22,
   "metadata": {},
   "outputs": [],
   "source": [
    "df_hk1_0 = basetable1.copy()"
   ]
  },
  {
   "cell_type": "markdown",
   "metadata": {},
   "source": [
    "<br> <진행순서>\n",
    "<br>1. 전체 데이터 셋 중 차량 소유자만 대상 (미소유자 drop)\n",
    "<br>2. 종속변수 : car_type LL을 1로 나머지는 0으로 변환한 후 car_type 변수에 그대로 저장 할 것 \n",
    "<br>3. 독립변수 : 성별, 회사 2개의 명목형 변수를 더미 변수화( drop_first 옵션 Ture) 독립변수 총 개수는 수치형 4개 더미 3개 총 7개 \n",
    "<br>4. 로지스틱 회귀분석 모델을 만드시오. 라이브러리 및 메소드는 statsmodels.formula.api 활용 할 것 "
   ]
  },
  {
   "cell_type": "code",
   "execution_count": 23,
   "metadata": {
    "scrolled": true
   },
   "outputs": [
    {
     "data": {
      "text/plain": [
       "MM    108\n",
       "SS     83\n",
       "LL     45\n",
       "Name: car_type, dtype: int64"
      ]
     },
     "execution_count": 23,
     "metadata": {},
     "output_type": "execute_result"
    }
   ],
   "source": [
    "# step1) car_type null 확인\n",
    "df_hk1_0.isna().sum()\n",
    "df_hk1_0['car_type'].value_counts()"
   ]
  },
  {
   "cell_type": "code",
   "execution_count": 24,
   "metadata": {},
   "outputs": [
    {
     "data": {
      "text/plain": [
       "0      0\n",
       "1      0\n",
       "2      0\n",
       "3      0\n",
       "4      0\n",
       "      ..\n",
       "231    0\n",
       "232    0\n",
       "233    0\n",
       "234    0\n",
       "235    0\n",
       "Name: car_type, Length: 236, dtype: int32"
      ]
     },
     "execution_count": 24,
     "metadata": {},
     "output_type": "execute_result"
    }
   ],
   "source": [
    "# step2) car_type 변경 (LL -> 1, else 0)\n",
    "df_hk1_0['car_type'] = np.where( df_hk1_0['car_type'] == 'LL', 1, 0 )\n",
    "(df_hk1_0['car_type'] == 'LL') + 0"
   ]
  },
  {
   "cell_type": "code",
   "execution_count": 25,
   "metadata": {},
   "outputs": [
    {
     "data": {
      "text/html": [
       "<div>\n",
       "<style scoped>\n",
       "    .dataframe tbody tr th:only-of-type {\n",
       "        vertical-align: middle;\n",
       "    }\n",
       "\n",
       "    .dataframe tbody tr th {\n",
       "        vertical-align: top;\n",
       "    }\n",
       "\n",
       "    .dataframe thead th {\n",
       "        text-align: right;\n",
       "    }\n",
       "</style>\n",
       "<table border=\"1\" class=\"dataframe\">\n",
       "  <thead>\n",
       "    <tr style=\"text-align: right;\">\n",
       "      <th></th>\n",
       "      <th>gender_M</th>\n",
       "      <th>company_B</th>\n",
       "      <th>company_C</th>\n",
       "    </tr>\n",
       "  </thead>\n",
       "  <tbody>\n",
       "    <tr>\n",
       "      <th>0</th>\n",
       "      <td>0</td>\n",
       "      <td>0</td>\n",
       "      <td>0</td>\n",
       "    </tr>\n",
       "    <tr>\n",
       "      <th>1</th>\n",
       "      <td>0</td>\n",
       "      <td>0</td>\n",
       "      <td>0</td>\n",
       "    </tr>\n",
       "    <tr>\n",
       "      <th>2</th>\n",
       "      <td>0</td>\n",
       "      <td>1</td>\n",
       "      <td>0</td>\n",
       "    </tr>\n",
       "    <tr>\n",
       "      <th>3</th>\n",
       "      <td>1</td>\n",
       "      <td>1</td>\n",
       "      <td>0</td>\n",
       "    </tr>\n",
       "    <tr>\n",
       "      <th>4</th>\n",
       "      <td>0</td>\n",
       "      <td>1</td>\n",
       "      <td>0</td>\n",
       "    </tr>\n",
       "    <tr>\n",
       "      <th>...</th>\n",
       "      <td>...</td>\n",
       "      <td>...</td>\n",
       "      <td>...</td>\n",
       "    </tr>\n",
       "    <tr>\n",
       "      <th>231</th>\n",
       "      <td>0</td>\n",
       "      <td>0</td>\n",
       "      <td>0</td>\n",
       "    </tr>\n",
       "    <tr>\n",
       "      <th>232</th>\n",
       "      <td>0</td>\n",
       "      <td>0</td>\n",
       "      <td>0</td>\n",
       "    </tr>\n",
       "    <tr>\n",
       "      <th>233</th>\n",
       "      <td>1</td>\n",
       "      <td>0</td>\n",
       "      <td>0</td>\n",
       "    </tr>\n",
       "    <tr>\n",
       "      <th>234</th>\n",
       "      <td>1</td>\n",
       "      <td>0</td>\n",
       "      <td>0</td>\n",
       "    </tr>\n",
       "    <tr>\n",
       "      <th>235</th>\n",
       "      <td>0</td>\n",
       "      <td>0</td>\n",
       "      <td>0</td>\n",
       "    </tr>\n",
       "  </tbody>\n",
       "</table>\n",
       "<p>236 rows × 3 columns</p>\n",
       "</div>"
      ],
      "text/plain": [
       "     gender_M  company_B  company_C\n",
       "0           0          0          0\n",
       "1           0          0          0\n",
       "2           0          1          0\n",
       "3           1          1          0\n",
       "4           0          1          0\n",
       "..        ...        ...        ...\n",
       "231         0          0          0\n",
       "232         0          0          0\n",
       "233         1          0          0\n",
       "234         1          0          0\n",
       "235         0          0          0\n",
       "\n",
       "[236 rows x 3 columns]"
      ]
     },
     "execution_count": 25,
     "metadata": {},
     "output_type": "execute_result"
    }
   ],
   "source": [
    "# step3) 성별, 회사 2개의 명목형 변수 더미 변수화( drop_first 옵션 Ture) \n",
    "dummy1 = pd.get_dummies( df_hk1_0[['gender','company']], drop_first=True)\n",
    "dummy1"
   ]
  },
  {
   "cell_type": "code",
   "execution_count": 26,
   "metadata": {
    "scrolled": true
   },
   "outputs": [
    {
     "data": {
      "text/html": [
       "<div>\n",
       "<style scoped>\n",
       "    .dataframe tbody tr th:only-of-type {\n",
       "        vertical-align: middle;\n",
       "    }\n",
       "\n",
       "    .dataframe tbody tr th {\n",
       "        vertical-align: top;\n",
       "    }\n",
       "\n",
       "    .dataframe thead th {\n",
       "        text-align: right;\n",
       "    }\n",
       "</style>\n",
       "<table border=\"1\" class=\"dataframe\">\n",
       "  <thead>\n",
       "    <tr style=\"text-align: right;\">\n",
       "      <th></th>\n",
       "      <th>car_type</th>\n",
       "      <th>height</th>\n",
       "      <th>age</th>\n",
       "      <th>salary</th>\n",
       "      <th>expenditure</th>\n",
       "      <th>gender_M</th>\n",
       "      <th>company_B</th>\n",
       "      <th>company_C</th>\n",
       "    </tr>\n",
       "  </thead>\n",
       "  <tbody>\n",
       "    <tr>\n",
       "      <th>0</th>\n",
       "      <td>0</td>\n",
       "      <td>169.4</td>\n",
       "      <td>31</td>\n",
       "      <td>4720</td>\n",
       "      <td>2970</td>\n",
       "      <td>0</td>\n",
       "      <td>0</td>\n",
       "      <td>0</td>\n",
       "    </tr>\n",
       "    <tr>\n",
       "      <th>1</th>\n",
       "      <td>0</td>\n",
       "      <td>168.3</td>\n",
       "      <td>55</td>\n",
       "      <td>7280</td>\n",
       "      <td>5905</td>\n",
       "      <td>0</td>\n",
       "      <td>0</td>\n",
       "      <td>0</td>\n",
       "    </tr>\n",
       "  </tbody>\n",
       "</table>\n",
       "</div>"
      ],
      "text/plain": [
       "   car_type  height  age  salary  expenditure  gender_M  company_B  company_C\n",
       "0         0   169.4   31    4720         2970         0          0          0\n",
       "1         0   168.3   55    7280         5905         0          0          0"
      ]
     },
     "execution_count": 26,
     "metadata": {},
     "output_type": "execute_result"
    }
   ],
   "source": [
    "# concat\n",
    "df_hk1_0 = pd.concat([df_hk1_0[['car_type', 'height', 'age', 'salary', 'expenditure']], dummy1], axis=1)\n",
    "df_hk1_0[:2]"
   ]
  },
  {
   "cell_type": "code",
   "execution_count": 27,
   "metadata": {},
   "outputs": [
    {
     "data": {
      "text/plain": [
       "'car_type ~ height + age + salary + expenditure + gender_M + company_B + company_C'"
      ]
     },
     "execution_count": 27,
     "metadata": {},
     "output_type": "execute_result"
    }
   ],
   "source": [
    "'car_type ~ ' + ' + '.join(df_hk1_0.drop('car_type',axis =1).columns)"
   ]
  },
  {
   "cell_type": "code",
   "execution_count": 28,
   "metadata": {
    "scrolled": true
   },
   "outputs": [
    {
     "data": {
      "text/plain": [
       "'car_type ~ height + age + salary + expenditure + gender_M + company_B + company_C'"
      ]
     },
     "execution_count": 28,
     "metadata": {},
     "output_type": "execute_result"
    }
   ],
   "source": [
    "# step4) 로지스틱 회귀분석 모델\n",
    "# case1) statsmodels.formula.api\n",
    "\n",
    "from statsmodels.formula.api import logit\n",
    "# formula 생성\n",
    "form = 'car_type ~ ' + ' + '.join(df_hk1_0.drop('car_type',axis =1).columns)\n",
    "form"
   ]
  },
  {
   "cell_type": "code",
   "execution_count": 29,
   "metadata": {},
   "outputs": [
    {
     "name": "stdout",
     "output_type": "stream",
     "text": [
      "Optimization terminated successfully.\n",
      "         Current function value: 0.131162\n",
      "         Iterations 10\n"
     ]
    },
    {
     "data": {
      "text/html": [
       "<table class=\"simpletable\">\n",
       "<caption>Logit Regression Results</caption>\n",
       "<tr>\n",
       "  <th>Dep. Variable:</th>       <td>car_type</td>     <th>  No. Observations:  </th>  <td>   236</td>  \n",
       "</tr>\n",
       "<tr>\n",
       "  <th>Model:</th>                 <td>Logit</td>      <th>  Df Residuals:      </th>  <td>   228</td>  \n",
       "</tr>\n",
       "<tr>\n",
       "  <th>Method:</th>                 <td>MLE</td>       <th>  Df Model:          </th>  <td>     7</td>  \n",
       "</tr>\n",
       "<tr>\n",
       "  <th>Date:</th>            <td>Wed, 08 Mar 2023</td> <th>  Pseudo R-squ.:     </th>  <td>0.7308</td>  \n",
       "</tr>\n",
       "<tr>\n",
       "  <th>Time:</th>                <td>09:53:14</td>     <th>  Log-Likelihood:    </th> <td> -30.954</td> \n",
       "</tr>\n",
       "<tr>\n",
       "  <th>converged:</th>             <td>True</td>       <th>  LL-Null:           </th> <td> -114.98</td> \n",
       "</tr>\n",
       "<tr>\n",
       "  <th>Covariance Type:</th>     <td>nonrobust</td>    <th>  LLR p-value:       </th> <td>6.463e-33</td>\n",
       "</tr>\n",
       "</table>\n",
       "<table class=\"simpletable\">\n",
       "<tr>\n",
       "       <td></td>          <th>coef</th>     <th>std err</th>      <th>z</th>      <th>P>|z|</th>  <th>[0.025</th>    <th>0.975]</th>  \n",
       "</tr>\n",
       "<tr>\n",
       "  <th>Intercept</th>   <td>  -37.4274</td> <td>   11.248</td> <td>   -3.327</td> <td> 0.001</td> <td>  -59.474</td> <td>  -15.381</td>\n",
       "</tr>\n",
       "<tr>\n",
       "  <th>height</th>      <td>   -0.0015</td> <td>    0.052</td> <td>   -0.029</td> <td> 0.977</td> <td>   -0.103</td> <td>    0.100</td>\n",
       "</tr>\n",
       "<tr>\n",
       "  <th>age</th>         <td>    0.2288</td> <td>    0.136</td> <td>    1.683</td> <td> 0.092</td> <td>   -0.038</td> <td>    0.495</td>\n",
       "</tr>\n",
       "<tr>\n",
       "  <th>salary</th>      <td>    0.0026</td> <td>    0.001</td> <td>    2.682</td> <td> 0.007</td> <td>    0.001</td> <td>    0.004</td>\n",
       "</tr>\n",
       "<tr>\n",
       "  <th>expenditure</th> <td>    0.0008</td> <td>    0.001</td> <td>    0.889</td> <td> 0.374</td> <td>   -0.001</td> <td>    0.002</td>\n",
       "</tr>\n",
       "<tr>\n",
       "  <th>gender_M</th>    <td>    0.5582</td> <td>    1.406</td> <td>    0.397</td> <td> 0.691</td> <td>   -2.197</td> <td>    3.313</td>\n",
       "</tr>\n",
       "<tr>\n",
       "  <th>company_B</th>   <td>    4.4990</td> <td>    1.227</td> <td>    3.667</td> <td> 0.000</td> <td>    2.094</td> <td>    6.904</td>\n",
       "</tr>\n",
       "<tr>\n",
       "  <th>company_C</th>   <td>   -3.3788</td> <td>    3.101</td> <td>   -1.089</td> <td> 0.276</td> <td>   -9.457</td> <td>    2.700</td>\n",
       "</tr>\n",
       "</table><br/><br/>Possibly complete quasi-separation: A fraction 0.38 of observations can be<br/>perfectly predicted. This might indicate that there is complete<br/>quasi-separation. In this case some parameters will not be identified."
      ],
      "text/plain": [
       "<class 'statsmodels.iolib.summary.Summary'>\n",
       "\"\"\"\n",
       "                           Logit Regression Results                           \n",
       "==============================================================================\n",
       "Dep. Variable:               car_type   No. Observations:                  236\n",
       "Model:                          Logit   Df Residuals:                      228\n",
       "Method:                           MLE   Df Model:                            7\n",
       "Date:                Wed, 08 Mar 2023   Pseudo R-squ.:                  0.7308\n",
       "Time:                        09:53:14   Log-Likelihood:                -30.954\n",
       "converged:                       True   LL-Null:                       -114.98\n",
       "Covariance Type:            nonrobust   LLR p-value:                 6.463e-33\n",
       "===============================================================================\n",
       "                  coef    std err          z      P>|z|      [0.025      0.975]\n",
       "-------------------------------------------------------------------------------\n",
       "Intercept     -37.4274     11.248     -3.327      0.001     -59.474     -15.381\n",
       "height         -0.0015      0.052     -0.029      0.977      -0.103       0.100\n",
       "age             0.2288      0.136      1.683      0.092      -0.038       0.495\n",
       "salary          0.0026      0.001      2.682      0.007       0.001       0.004\n",
       "expenditure     0.0008      0.001      0.889      0.374      -0.001       0.002\n",
       "gender_M        0.5582      1.406      0.397      0.691      -2.197       3.313\n",
       "company_B       4.4990      1.227      3.667      0.000       2.094       6.904\n",
       "company_C      -3.3788      3.101     -1.089      0.276      -9.457       2.700\n",
       "===============================================================================\n",
       "\n",
       "Possibly complete quasi-separation: A fraction 0.38 of observations can be\n",
       "perfectly predicted. This might indicate that there is complete\n",
       "quasi-separation. In this case some parameters will not be identified.\n",
       "\"\"\""
      ]
     },
     "execution_count": 29,
     "metadata": {},
     "output_type": "execute_result"
    }
   ],
   "source": [
    "model_logit = logit(form, data = df_hk1_0).fit()\n",
    "model_logit.summary()"
   ]
  },
  {
   "cell_type": "code",
   "execution_count": 30,
   "metadata": {
    "scrolled": false
   },
   "outputs": [
    {
     "name": "stdout",
     "output_type": "stream",
     "text": [
      "Optimization terminated successfully.\n",
      "         Current function value: 0.131162\n",
      "         Iterations 10\n"
     ]
    },
    {
     "data": {
      "text/html": [
       "<table class=\"simpletable\">\n",
       "<caption>Logit Regression Results</caption>\n",
       "<tr>\n",
       "  <th>Dep. Variable:</th>       <td>car_type</td>     <th>  No. Observations:  </th>  <td>   236</td>  \n",
       "</tr>\n",
       "<tr>\n",
       "  <th>Model:</th>                 <td>Logit</td>      <th>  Df Residuals:      </th>  <td>   228</td>  \n",
       "</tr>\n",
       "<tr>\n",
       "  <th>Method:</th>                 <td>MLE</td>       <th>  Df Model:          </th>  <td>     7</td>  \n",
       "</tr>\n",
       "<tr>\n",
       "  <th>Date:</th>            <td>Wed, 08 Mar 2023</td> <th>  Pseudo R-squ.:     </th>  <td>0.7308</td>  \n",
       "</tr>\n",
       "<tr>\n",
       "  <th>Time:</th>                <td>09:53:14</td>     <th>  Log-Likelihood:    </th> <td> -30.954</td> \n",
       "</tr>\n",
       "<tr>\n",
       "  <th>converged:</th>             <td>True</td>       <th>  LL-Null:           </th> <td> -114.98</td> \n",
       "</tr>\n",
       "<tr>\n",
       "  <th>Covariance Type:</th>     <td>nonrobust</td>    <th>  LLR p-value:       </th> <td>6.463e-33</td>\n",
       "</tr>\n",
       "</table>\n",
       "<table class=\"simpletable\">\n",
       "<tr>\n",
       "       <td></td>          <th>coef</th>     <th>std err</th>      <th>z</th>      <th>P>|z|</th>  <th>[0.025</th>    <th>0.975]</th>  \n",
       "</tr>\n",
       "<tr>\n",
       "  <th>const</th>       <td>  -37.4274</td> <td>   11.248</td> <td>   -3.327</td> <td> 0.001</td> <td>  -59.474</td> <td>  -15.381</td>\n",
       "</tr>\n",
       "<tr>\n",
       "  <th>height</th>      <td>   -0.0015</td> <td>    0.052</td> <td>   -0.029</td> <td> 0.977</td> <td>   -0.103</td> <td>    0.100</td>\n",
       "</tr>\n",
       "<tr>\n",
       "  <th>age</th>         <td>    0.2288</td> <td>    0.136</td> <td>    1.683</td> <td> 0.092</td> <td>   -0.038</td> <td>    0.495</td>\n",
       "</tr>\n",
       "<tr>\n",
       "  <th>salary</th>      <td>    0.0026</td> <td>    0.001</td> <td>    2.682</td> <td> 0.007</td> <td>    0.001</td> <td>    0.004</td>\n",
       "</tr>\n",
       "<tr>\n",
       "  <th>expenditure</th> <td>    0.0008</td> <td>    0.001</td> <td>    0.889</td> <td> 0.374</td> <td>   -0.001</td> <td>    0.002</td>\n",
       "</tr>\n",
       "<tr>\n",
       "  <th>gender_M</th>    <td>    0.5582</td> <td>    1.406</td> <td>    0.397</td> <td> 0.691</td> <td>   -2.197</td> <td>    3.313</td>\n",
       "</tr>\n",
       "<tr>\n",
       "  <th>company_B</th>   <td>    4.4990</td> <td>    1.227</td> <td>    3.667</td> <td> 0.000</td> <td>    2.094</td> <td>    6.904</td>\n",
       "</tr>\n",
       "<tr>\n",
       "  <th>company_C</th>   <td>   -3.3788</td> <td>    3.101</td> <td>   -1.089</td> <td> 0.276</td> <td>   -9.457</td> <td>    2.700</td>\n",
       "</tr>\n",
       "</table><br/><br/>Possibly complete quasi-separation: A fraction 0.38 of observations can be<br/>perfectly predicted. This might indicate that there is complete<br/>quasi-separation. In this case some parameters will not be identified."
      ],
      "text/plain": [
       "<class 'statsmodels.iolib.summary.Summary'>\n",
       "\"\"\"\n",
       "                           Logit Regression Results                           \n",
       "==============================================================================\n",
       "Dep. Variable:               car_type   No. Observations:                  236\n",
       "Model:                          Logit   Df Residuals:                      228\n",
       "Method:                           MLE   Df Model:                            7\n",
       "Date:                Wed, 08 Mar 2023   Pseudo R-squ.:                  0.7308\n",
       "Time:                        09:53:14   Log-Likelihood:                -30.954\n",
       "converged:                       True   LL-Null:                       -114.98\n",
       "Covariance Type:            nonrobust   LLR p-value:                 6.463e-33\n",
       "===============================================================================\n",
       "                  coef    std err          z      P>|z|      [0.025      0.975]\n",
       "-------------------------------------------------------------------------------\n",
       "const         -37.4274     11.248     -3.327      0.001     -59.474     -15.381\n",
       "height         -0.0015      0.052     -0.029      0.977      -0.103       0.100\n",
       "age             0.2288      0.136      1.683      0.092      -0.038       0.495\n",
       "salary          0.0026      0.001      2.682      0.007       0.001       0.004\n",
       "expenditure     0.0008      0.001      0.889      0.374      -0.001       0.002\n",
       "gender_M        0.5582      1.406      0.397      0.691      -2.197       3.313\n",
       "company_B       4.4990      1.227      3.667      0.000       2.094       6.904\n",
       "company_C      -3.3788      3.101     -1.089      0.276      -9.457       2.700\n",
       "===============================================================================\n",
       "\n",
       "Possibly complete quasi-separation: A fraction 0.38 of observations can be\n",
       "perfectly predicted. This might indicate that there is complete\n",
       "quasi-separation. In this case some parameters will not be identified.\n",
       "\"\"\""
      ]
     },
     "execution_count": 30,
     "metadata": {},
     "output_type": "execute_result"
    }
   ],
   "source": [
    "# case2) statsmodels.api\n",
    "# sm.add_constant intercept\n",
    "\n",
    "import statsmodels.api as sm\n",
    " \n",
    "model_smLogit = sm.Logit(endog = df_hk1_0['car_type'], exog = sm.add_constant(df_hk1_0.drop('car_type', axis=1))).fit()\n",
    "model_smLogit.summary()"
   ]
  },
  {
   "cell_type": "markdown",
   "metadata": {},
   "source": [
    "statsmodels sm 라이브러리의 Logit 메소드는 확률 값으로 도출 "
   ]
  },
  {
   "cell_type": "code",
   "execution_count": 31,
   "metadata": {},
   "outputs": [
    {
     "data": {
      "text/plain": [
       "0      0.000\n",
       "1      0.137\n",
       "2      0.000\n",
       "3      0.000\n",
       "4      0.000\n",
       "       ...  \n",
       "231    0.011\n",
       "232    0.020\n",
       "233    0.607\n",
       "234    0.961\n",
       "235    0.197\n",
       "Length: 236, dtype: float64"
      ]
     },
     "execution_count": 31,
     "metadata": {},
     "output_type": "execute_result"
    }
   ],
   "source": [
    "# predict 확률값을 반환\n",
    "predict_logit = model_logit.predict(df_hk1_0.drop('car_type', axis=1))\n",
    "predict_logit.round(3)"
   ]
  },
  {
   "cell_type": "code",
   "execution_count": 32,
   "metadata": {},
   "outputs": [
    {
     "data": {
      "text/plain": [
       "0      0.000\n",
       "1      0.137\n",
       "2      0.000\n",
       "3      0.000\n",
       "4      0.000\n",
       "       ...  \n",
       "231    0.011\n",
       "232    0.020\n",
       "233    0.607\n",
       "234    0.961\n",
       "235    0.197\n",
       "Length: 236, dtype: float64"
      ]
     },
     "execution_count": 32,
     "metadata": {},
     "output_type": "execute_result"
    }
   ],
   "source": [
    "# predict 확률값을 반환\n",
    "predict_smLogit = model_smLogit.predict(sm.add_constant(df_hk1_0.drop('car_type', axis=1)))\n",
    "predict_smLogit.round(3)"
   ]
  },
  {
   "cell_type": "code",
   "execution_count": 33,
   "metadata": {},
   "outputs": [],
   "source": [
    "# -------------------------------------"
   ]
  },
  {
   "cell_type": "markdown",
   "metadata": {},
   "source": [
    "\n",
    "## 1-1. 로지스틱 회귀분석 sklearn 라이브러리 활용 1\n",
    "\n",
    "<br> <진행순서>\n",
    "<br>1. basetable1을 사용하시오.\n",
    "<br>2. 종속변수 : car_type LL을 1로 나머지는 0으로 변환한 후 car_type 변수에 그대로 저장 할 것 \n",
    "<br>3. 독립변수 : 'salary', 'expenditure' 2개 \n",
    "<br>4. 로지스틱 회귀분석 모델을 만드시오. 라이브러리 및 메소드는 sklearn 활용 할 것 (C=100000 ,solver='newton-cg')\n",
    "<br> 설명: C=100000: 정규화(L1, L2규제) 강도의 역수; 양의 실수, 값이 작을수록 더 강력한 정규화 지정\n",
    "<br>5. 로지스틱 회귀분석 모델로 예측했을때 맞춘것과 틀린 갯수는"
   ]
  },
  {
   "cell_type": "code",
   "execution_count": 34,
   "metadata": {},
   "outputs": [
    {
     "data": {
      "text/plain": [
       "MM    108\n",
       "SS     83\n",
       "LL     45\n",
       "Name: car_type, dtype: int64"
      ]
     },
     "execution_count": 34,
     "metadata": {},
     "output_type": "execute_result"
    }
   ],
   "source": [
    "# step1) basetable1로 df_hk 생성\n",
    "df_hk1_1 = basetable1[['car_type','salary', 'expenditure']]\n",
    "df_hk1_1['car_type'].value_counts()"
   ]
  },
  {
   "cell_type": "code",
   "execution_count": 35,
   "metadata": {},
   "outputs": [
    {
     "data": {
      "text/plain": [
       "0    191\n",
       "1     45\n",
       "Name: car_type, dtype: int64"
      ]
     },
     "execution_count": 35,
     "metadata": {},
     "output_type": "execute_result"
    }
   ],
   "source": [
    "# step2) car_type 변경 (LL -> 1, else 0) \n",
    "df_hk1_1['car_type'] = (df_hk1_1['car_type'] == 'LL') + 0\n",
    "df_hk1_1['car_type'].value_counts()"
   ]
  },
  {
   "cell_type": "code",
   "execution_count": 36,
   "metadata": {},
   "outputs": [
    {
     "data": {
      "text/plain": [
       "LogisticRegression(C=100000, solver='newton-cg')"
      ]
     },
     "execution_count": 36,
     "metadata": {},
     "output_type": "execute_result"
    }
   ],
   "source": [
    "# step4) sklearn 로지스틱 회귀분석 모델 (C=100000 ,solver='newton-cg') \n",
    "from sklearn.linear_model import LogisticRegression\n",
    "\n",
    "model_1_1 = LogisticRegression(C=100000 ,solver='newton-cg')\n",
    "model_1_1.fit(df_hk1_1[['salary', 'expenditure']], df_hk1_1['car_type'])"
   ]
  },
  {
   "cell_type": "code",
   "execution_count": 37,
   "metadata": {},
   "outputs": [
    {
     "data": {
      "text/plain": [
       "array([-9.883112])"
      ]
     },
     "execution_count": 37,
     "metadata": {},
     "output_type": "execute_result"
    }
   ],
   "source": [
    "# 로지스틱 회귀 attributes \n",
    "model_1_1.intercept_.round(6)"
   ]
  },
  {
   "cell_type": "code",
   "execution_count": 38,
   "metadata": {},
   "outputs": [
    {
     "data": {
      "text/plain": [
       "array([[0.000284, 0.001069]])"
      ]
     },
     "execution_count": 38,
     "metadata": {},
     "output_type": "execute_result"
    }
   ],
   "source": [
    "# coef_\n",
    "model_1_1.coef_.round(6)"
   ]
  },
  {
   "cell_type": "code",
   "execution_count": 39,
   "metadata": {},
   "outputs": [
    {
     "ename": "AttributeError",
     "evalue": "'LogisticRegression' object has no attribute 'feature_names_in_'",
     "output_type": "error",
     "traceback": [
      "\u001b[1;31m---------------------------------------------------------------------------\u001b[0m",
      "\u001b[1;31mAttributeError\u001b[0m                            Traceback (most recent call last)",
      "\u001b[1;32mC:\\Users\\Public\\Documents\\ESTsoft\\CreatorTemp/ipykernel_10972/3506991980.py\u001b[0m in \u001b[0;36m<module>\u001b[1;34m\u001b[0m\n\u001b[0;32m      1\u001b[0m \u001b[1;31m# 로지스틱 회귀 coef\u001b[0m\u001b[1;33m\u001b[0m\u001b[1;33m\u001b[0m\u001b[0m\n\u001b[1;32m----> 2\u001b[1;33m \u001b[0mpd\u001b[0m\u001b[1;33m.\u001b[0m\u001b[0mDataFrame\u001b[0m\u001b[1;33m(\u001b[0m\u001b[1;33m{\u001b[0m\u001b[1;34m'feature'\u001b[0m\u001b[1;33m:\u001b[0m\u001b[0mmodel_1_1\u001b[0m\u001b[1;33m.\u001b[0m\u001b[0mfeature_names_in_\u001b[0m\u001b[1;33m,\u001b[0m \u001b[1;34m'coef'\u001b[0m\u001b[1;33m:\u001b[0m\u001b[0mmodel_1_1\u001b[0m\u001b[1;33m.\u001b[0m\u001b[0mcoef_\u001b[0m\u001b[1;33m[\u001b[0m\u001b[1;36m0\u001b[0m\u001b[1;33m]\u001b[0m\u001b[1;33m.\u001b[0m\u001b[0mround\u001b[0m\u001b[1;33m(\u001b[0m\u001b[1;36m6\u001b[0m\u001b[1;33m)\u001b[0m\u001b[1;33m}\u001b[0m\u001b[1;33m)\u001b[0m\u001b[1;33m\u001b[0m\u001b[1;33m\u001b[0m\u001b[0m\n\u001b[0m",
      "\u001b[1;31mAttributeError\u001b[0m: 'LogisticRegression' object has no attribute 'feature_names_in_'"
     ]
    }
   ],
   "source": [
    "# 로지스틱 회귀 coef\n",
    "pd.DataFrame({'feature':model_1_1.feature_names_in_, 'coef':model_1_1.coef_[0].round(6)})"
   ]
  },
  {
   "cell_type": "code",
   "execution_count": null,
   "metadata": {},
   "outputs": [],
   "source": [
    "# 시각화 \n",
    "sns.scatterplot( x=\"salary\", y=\"expenditure\", hue = 'car_type', data =df_hk1_1)\n",
    "plt.show()"
   ]
  },
  {
   "cell_type": "markdown",
   "metadata": {},
   "source": [
    "### $$ Log \\left\\{ \\frac{ p  }{ 1-p   }\\right\\}  = -9.8831 + 0.0003\\times salary + 0.0011\\times expenditure $$"
   ]
  },
  {
   "cell_type": "markdown",
   "metadata": {},
   "source": [
    "### 관련 식을 Target 관련 확률로 변환 \n",
    "### $$ p = \\frac{1}{1+\\exp-1\\times(-9.8831+(0.0003)\\times salary + 0.0011 \\times expenditure))} $$\n",
    "p 가 0.5 이상일 경우 1 / 0.5 미만이면 0으로 분류(cut-off 임계치는 수정 가능) "
   ]
  },
  {
   "cell_type": "code",
   "execution_count": 40,
   "metadata": {},
   "outputs": [],
   "source": [
    "# 확률(p) 계산식\n",
    "def linear(x1, x2):\n",
    "    p = 1 / ( 1+ np.exp(-1 * (-9.883112+(0.000284)*x1+(0.001069)*x2)))\n",
    "    return p"
   ]
  },
  {
   "cell_type": "code",
   "execution_count": 41,
   "metadata": {
    "scrolled": true
   },
   "outputs": [
    {
     "data": {
      "text/plain": [
       "car_type          0\n",
       "salary         4390\n",
       "expenditure    4015\n",
       "Name: 3, dtype: int64"
      ]
     },
     "execution_count": 41,
     "metadata": {},
     "output_type": "execute_result"
    }
   ],
   "source": [
    "# row 3 데이터\n",
    "df_hk1_1.iloc[ 3, :]"
   ]
  },
  {
   "cell_type": "code",
   "execution_count": 42,
   "metadata": {},
   "outputs": [
    {
     "data": {
      "text/plain": [
       "0.013"
      ]
     },
     "execution_count": 42,
     "metadata": {},
     "output_type": "execute_result"
    }
   ],
   "source": [
    "# row 3 데이터 확률(p) 계산\n",
    "linear( 4390, 4015).round(3)"
   ]
  },
  {
   "cell_type": "code",
   "execution_count": 43,
   "metadata": {},
   "outputs": [
    {
     "data": {
      "text/plain": [
       "car_type           1\n",
       "salary         11080\n",
       "expenditure     8955\n",
       "Name: 149, dtype: int64"
      ]
     },
     "execution_count": 43,
     "metadata": {},
     "output_type": "execute_result"
    }
   ],
   "source": [
    "# row 149 데이터\n",
    "df_hk1_1.iloc[149, :]"
   ]
  },
  {
   "cell_type": "code",
   "execution_count": 44,
   "metadata": {},
   "outputs": [
    {
     "data": {
      "text/plain": [
       "0.945"
      ]
     },
     "execution_count": 44,
     "metadata": {},
     "output_type": "execute_result"
    }
   ],
   "source": [
    "# row 149 데이터 확률(p) 계산\n",
    "linear(11080, 8955).round(3)"
   ]
  },
  {
   "cell_type": "code",
   "execution_count": 45,
   "metadata": {},
   "outputs": [
    {
     "data": {
      "text/plain": [
       "array([0.987, 0.013])"
      ]
     },
     "execution_count": 45,
     "metadata": {},
     "output_type": "execute_result"
    }
   ],
   "source": [
    "#row 3에 대한 확률\n",
    "model_1_1.predict_proba( df_hk1_1[['salary', 'expenditure']])[3].round(3)"
   ]
  },
  {
   "cell_type": "code",
   "execution_count": 46,
   "metadata": {},
   "outputs": [
    {
     "data": {
      "text/plain": [
       "array([0.055, 0.945])"
      ]
     },
     "execution_count": 46,
     "metadata": {},
     "output_type": "execute_result"
    }
   ],
   "source": [
    "#row 149에 대한 확률\n",
    "model_1_1.predict_proba( df_hk1_1[['salary', 'expenditure']])[149].round(3)"
   ]
  },
  {
   "cell_type": "code",
   "execution_count": 47,
   "metadata": {},
   "outputs": [
    {
     "data": {
      "text/plain": [
       "1"
      ]
     },
     "execution_count": 47,
     "metadata": {},
     "output_type": "execute_result"
    }
   ],
   "source": [
    "#row 149에 대한 로지스틱 회귀분석 예측\n",
    "model_1_1.predict( df_hk1_1[['salary', 'expenditure']])[149]"
   ]
  },
  {
   "cell_type": "code",
   "execution_count": 48,
   "metadata": {},
   "outputs": [
    {
     "data": {
      "text/plain": [
       "1"
      ]
     },
     "execution_count": 48,
     "metadata": {},
     "output_type": "execute_result"
    }
   ],
   "source": [
    "#row 149에 대한 로지스틱 회귀분석 예측\n",
    "model_1_1.predict(X = df_hk1_1[['salary', 'expenditure']])[149]"
   ]
  },
  {
   "cell_type": "code",
   "execution_count": 49,
   "metadata": {},
   "outputs": [
    {
     "data": {
      "text/html": [
       "<div>\n",
       "<style scoped>\n",
       "    .dataframe tbody tr th:only-of-type {\n",
       "        vertical-align: middle;\n",
       "    }\n",
       "\n",
       "    .dataframe tbody tr th {\n",
       "        vertical-align: top;\n",
       "    }\n",
       "\n",
       "    .dataframe thead th {\n",
       "        text-align: right;\n",
       "    }\n",
       "</style>\n",
       "<table border=\"1\" class=\"dataframe\">\n",
       "  <thead>\n",
       "    <tr style=\"text-align: right;\">\n",
       "      <th></th>\n",
       "      <th>car_type</th>\n",
       "      <th>salary</th>\n",
       "      <th>expenditure</th>\n",
       "    </tr>\n",
       "  </thead>\n",
       "  <tbody>\n",
       "    <tr>\n",
       "      <th>0</th>\n",
       "      <td>0</td>\n",
       "      <td>4720</td>\n",
       "      <td>2970</td>\n",
       "    </tr>\n",
       "    <tr>\n",
       "      <th>1</th>\n",
       "      <td>0</td>\n",
       "      <td>7280</td>\n",
       "      <td>5905</td>\n",
       "    </tr>\n",
       "    <tr>\n",
       "      <th>2</th>\n",
       "      <td>0</td>\n",
       "      <td>4060</td>\n",
       "      <td>2935</td>\n",
       "    </tr>\n",
       "    <tr>\n",
       "      <th>3</th>\n",
       "      <td>0</td>\n",
       "      <td>4390</td>\n",
       "      <td>4015</td>\n",
       "    </tr>\n",
       "    <tr>\n",
       "      <th>4</th>\n",
       "      <td>0</td>\n",
       "      <td>3290</td>\n",
       "      <td>1915</td>\n",
       "    </tr>\n",
       "  </tbody>\n",
       "</table>\n",
       "</div>"
      ],
      "text/plain": [
       "   car_type  salary  expenditure\n",
       "0         0    4720         2970\n",
       "1         0    7280         5905\n",
       "2         0    4060         2935\n",
       "3         0    4390         4015\n",
       "4         0    3290         1915"
      ]
     },
     "execution_count": 49,
     "metadata": {},
     "output_type": "execute_result"
    }
   ],
   "source": [
    "df_hk1_1[:5]"
   ]
  },
  {
   "cell_type": "code",
   "execution_count": 50,
   "metadata": {},
   "outputs": [
    {
     "name": "stdout",
     "output_type": "stream",
     "text": [
      "맞춘것 203\n",
      "틀린것 33\n"
     ]
    }
   ],
   "source": [
    "# step5) 로지스틱 회귀분석 예측 평가, 예측중 맞춘것과 틀린 갯수는\n",
    "\n",
    "df_hk1_1['pred_1_1'] = model_1_1.predict( df_hk1_1[['salary', 'expenditure']])\n",
    "(df_hk1_1['car_type'] == df_hk1_1['pred_1_1'] ).sum() # 203개를 맞췄고 33개가 틀림 \n",
    "\n",
    "print('맞춘것', (df_hk1_1['car_type'] == df_hk1_1['pred_1_1'] ).sum())\n",
    "print('틀린것', (df_hk1_1['car_type'] != df_hk1_1['pred_1_1'] ).sum())"
   ]
  },
  {
   "cell_type": "code",
   "execution_count": 51,
   "metadata": {},
   "outputs": [
    {
     "data": {
      "text/html": [
       "<div>\n",
       "<style scoped>\n",
       "    .dataframe tbody tr th:only-of-type {\n",
       "        vertical-align: middle;\n",
       "    }\n",
       "\n",
       "    .dataframe tbody tr th {\n",
       "        vertical-align: top;\n",
       "    }\n",
       "\n",
       "    .dataframe thead th {\n",
       "        text-align: right;\n",
       "    }\n",
       "</style>\n",
       "<table border=\"1\" class=\"dataframe\">\n",
       "  <thead>\n",
       "    <tr style=\"text-align: right;\">\n",
       "      <th>pred_1_1</th>\n",
       "      <th>0</th>\n",
       "      <th>1</th>\n",
       "    </tr>\n",
       "    <tr>\n",
       "      <th>car_type</th>\n",
       "      <th></th>\n",
       "      <th></th>\n",
       "    </tr>\n",
       "  </thead>\n",
       "  <tbody>\n",
       "    <tr>\n",
       "      <th>0</th>\n",
       "      <td>181</td>\n",
       "      <td>10</td>\n",
       "    </tr>\n",
       "    <tr>\n",
       "      <th>1</th>\n",
       "      <td>23</td>\n",
       "      <td>22</td>\n",
       "    </tr>\n",
       "  </tbody>\n",
       "</table>\n",
       "</div>"
      ],
      "text/plain": [
       "pred_1_1    0   1\n",
       "car_type         \n",
       "0         181  10\n",
       "1          23  22"
      ]
     },
     "execution_count": 51,
     "metadata": {},
     "output_type": "execute_result"
    }
   ],
   "source": [
    "pd.crosstab(df_hk1_1['car_type'], df_hk1_1['pred_1_1'])"
   ]
  },
  {
   "cell_type": "code",
   "execution_count": 52,
   "metadata": {
    "scrolled": false
   },
   "outputs": [
    {
     "data": {
      "image/png": "[encoded data removed]",
      "text/plain": [
       "<Figure size 1008x360 with 2 Axes>"
      ]
     },
     "metadata": {
      "needs_background": "light"
     },
     "output_type": "display_data"
    }
   ],
   "source": [
    "# 시각화\n",
    "fig, ax = plt.subplots( nrows= 1 , ncols=2, figsize=(14, 5))\n",
    "sns.scatterplot( data = df_hk1_1, x='salary', y='expenditure', hue = 'car_type',  palette='Set1', ax=ax[0] )\n",
    "sns.scatterplot( data = df_hk1_1, x='salary', y='expenditure', hue = 'pred_1_1',  palette='Set2', ax=ax[1] )\n",
    "\n",
    "ax[0].set_title('car_type')\n",
    "ax[1].set_title('pred_1_1')\n",
    "plt.show()"
   ]
  },
  {
   "cell_type": "markdown",
   "metadata": {},
   "source": [
    "\n",
    "## 1-1. $\\pi$(파이) Quiz  로지스틱 회귀분석 sklearn 라이브러리 활용 2"
   ]
  },
  {
   "cell_type": "markdown",
   "metadata": {},
   "source": [
    "<br><실행순서>\n",
    "<br> 1. basetable1을 사용하여 (236 rows × 11 columns) \n",
    "<br> 2. 종속변수 : 파생변수('target')을 생성하시오. car_type( LL 여부 yes:1, no:0) \n",
    "<br> 3. 독립변수 : salary, expenditure, company(dummy변수화, drop_first=True)\n",
    "<br> 4. sklearn을 사용하여 로지스틱 회귀모델을 만들고 독립변수별 회귀계수를 구하시오 (C=100000 ,solver='newton-cg')\n",
    "<br> 5. salary ( 6660 ), expenditure ( 5285 ), company(B) 일때 값을 예측하시오"
   ]
  },
  {
   "cell_type": "code",
   "execution_count": 55,
   "metadata": {},
   "outputs": [
    {
     "data": {
      "text/html": [
       "<div>\n",
       "<style scoped>\n",
       "    .dataframe tbody tr th:only-of-type {\n",
       "        vertical-align: middle;\n",
       "    }\n",
       "\n",
       "    .dataframe tbody tr th {\n",
       "        vertical-align: top;\n",
       "    }\n",
       "\n",
       "    .dataframe thead th {\n",
       "        text-align: right;\n",
       "    }\n",
       "</style>\n",
       "<table border=\"1\" class=\"dataframe\">\n",
       "  <thead>\n",
       "    <tr style=\"text-align: right;\">\n",
       "      <th></th>\n",
       "      <th>name</th>\n",
       "      <th>jumin7</th>\n",
       "      <th>gender</th>\n",
       "      <th>height</th>\n",
       "      <th>age</th>\n",
       "      <th>blood_type</th>\n",
       "      <th>company</th>\n",
       "      <th>grades</th>\n",
       "      <th>salary</th>\n",
       "      <th>expenditure</th>\n",
       "      <th>car_type</th>\n",
       "      <th>target</th>\n",
       "    </tr>\n",
       "  </thead>\n",
       "  <tbody>\n",
       "    <tr>\n",
       "      <th>0</th>\n",
       "      <td>hkd10</td>\n",
       "      <td>900303-2</td>\n",
       "      <td>F</td>\n",
       "      <td>169.4</td>\n",
       "      <td>31</td>\n",
       "      <td>A</td>\n",
       "      <td>A</td>\n",
       "      <td>B</td>\n",
       "      <td>4720</td>\n",
       "      <td>2970</td>\n",
       "      <td>SS</td>\n",
       "      <td>0</td>\n",
       "    </tr>\n",
       "    <tr>\n",
       "      <th>1</th>\n",
       "      <td>hkd100</td>\n",
       "      <td>681205-2</td>\n",
       "      <td>F</td>\n",
       "      <td>168.3</td>\n",
       "      <td>55</td>\n",
       "      <td>A</td>\n",
       "      <td>A</td>\n",
       "      <td>B</td>\n",
       "      <td>7280</td>\n",
       "      <td>5905</td>\n",
       "      <td>MM</td>\n",
       "      <td>0</td>\n",
       "    </tr>\n",
       "    <tr>\n",
       "      <th>2</th>\n",
       "      <td>hkd101</td>\n",
       "      <td>931226-2</td>\n",
       "      <td>F</td>\n",
       "      <td>155.3</td>\n",
       "      <td>28</td>\n",
       "      <td>AB</td>\n",
       "      <td>B</td>\n",
       "      <td>B</td>\n",
       "      <td>4060</td>\n",
       "      <td>2935</td>\n",
       "      <td>SS</td>\n",
       "      <td>0</td>\n",
       "    </tr>\n",
       "    <tr>\n",
       "      <th>3</th>\n",
       "      <td>hkd102</td>\n",
       "      <td>920123-1</td>\n",
       "      <td>M</td>\n",
       "      <td>188.6</td>\n",
       "      <td>29</td>\n",
       "      <td>O</td>\n",
       "      <td>B</td>\n",
       "      <td>F</td>\n",
       "      <td>4390</td>\n",
       "      <td>4015</td>\n",
       "      <td>SS</td>\n",
       "      <td>0</td>\n",
       "    </tr>\n",
       "    <tr>\n",
       "      <th>4</th>\n",
       "      <td>hkd103</td>\n",
       "      <td>910215-2</td>\n",
       "      <td>F</td>\n",
       "      <td>150.2</td>\n",
       "      <td>30</td>\n",
       "      <td>A</td>\n",
       "      <td>B</td>\n",
       "      <td>A</td>\n",
       "      <td>3290</td>\n",
       "      <td>1915</td>\n",
       "      <td>SS</td>\n",
       "      <td>0</td>\n",
       "    </tr>\n",
       "  </tbody>\n",
       "</table>\n",
       "</div>"
      ],
      "text/plain": [
       "     name    jumin7 gender  height  age blood_type company grades  salary  \\\n",
       "0   hkd10  900303-2      F   169.4   31          A       A      B    4720   \n",
       "1  hkd100  681205-2      F   168.3   55          A       A      B    7280   \n",
       "2  hkd101  931226-2      F   155.3   28         AB       B      B    4060   \n",
       "3  hkd102  920123-1      M   188.6   29          O       B      F    4390   \n",
       "4  hkd103  910215-2      F   150.2   30          A       B      A    3290   \n",
       "\n",
       "   expenditure car_type  target  \n",
       "0         2970       SS       0  \n",
       "1         5905       MM       0  \n",
       "2         2935       SS       0  \n",
       "3         4015       SS       0  \n",
       "4         1915       SS       0  "
      ]
     },
     "execution_count": 55,
     "metadata": {},
     "output_type": "execute_result"
    }
   ],
   "source": [
    "df_hk[:5]"
   ]
  },
  {
   "cell_type": "code",
   "execution_count": 62,
   "metadata": {
    "scrolled": true
   },
   "outputs": [
    {
     "data": {
      "text/plain": [
       "array([[ 1.78674968e-03,  1.65011290e-03,  2.07847934e+00,\n",
       "        -5.08447113e+00],\n",
       "       [-3.34585998e-04,  4.95228672e-04, -1.21617160e+00,\n",
       "         1.44909454e+00],\n",
       "       [-1.45216362e-03, -2.14534155e-03, -8.62307735e-01,\n",
       "         3.63537659e+00]])"
      ]
     },
     "execution_count": 62,
     "metadata": {},
     "output_type": "execute_result"
    }
   ],
   "source": [
    "# step1) df_hk생성\n",
    "\n",
    "# step2) 파생변수('target') 생성. car_type( LL 여부 yes:1, no:0)\n",
    "# df_hk['target'] = np.where(df_hk['car_type'] == 'LL', 1, 0 )\n",
    "\n",
    "# value_counts 로 확인\n",
    "# df_hk.value_counts()\n",
    "# step3) 독립변수 salary, expenditure, company(dummy변수화, drop_first=True)\n",
    "# df_hk_dummies = pd.get_dummies(df_hk[['salary','expenditure','company']], drop_first=True)\n",
    "# df_hk_dummies[:5]\n",
    "# 로지스틱 회귀모델 생성(C=100000 ,solver='newton-cg'), 회귀계수 \n",
    "model2_1 = LogisticRegression(C=100000 ,solver='newton-cg')\n",
    "model2_1.fit(df_hk_dummies, df_hk['car_type'])\n",
    "# intercept_\n",
    "model2_1.intercept_\n",
    "#array([-28.989])\n",
    "# coef_\n",
    "model2_1.coef_\n",
    "# coef_: [[ 2.6000e-03  1.2000e-03  3.9559e+00 -7.7564e+00]]\n",
    "# feature_names_in_\n",
    "\n",
    "# 회귀계수\n",
    "\n",
    "\n",
    "# step1) df_hk생성\n",
    "df_hk1_2 = basetable1.copy()\n",
    "\n",
    "# step2) 파생변수('target') 생성. car_type( LL 여부 yes:1, no:0)\n",
    "df_hk1_2['target'] = np.where( df_hk1_2[['car_type']] =='LL', 1, 0) \n",
    "\n",
    "# value_counts 로 확인\n",
    "df_hk1_2['target'].value_counts()\n",
    "\n",
    "# step3) 독립변수 salary, expenditure, company(dummy변수화, drop_first=True)\n",
    "df_hk1_2 = df_hk1_2[['target', 'salary', 'expenditure', 'company']] \n",
    "df_hk1_2_dum = pd.get_dummies( data = df_hk1_2, columns=['company'], drop_first=True)\n",
    "df_hk1_2_dum\n",
    "\n",
    "from sklearn.linear_model import LogisticRegression\n",
    "model_1_2 = LogisticRegression(C=100000 ,solver='newton-cg' )\n",
    "model_1_2.fit(X = df_hk1_2_dum.drop('target', axis=1), y = df_hk1_2_dum['target'] )\n",
    "\n",
    "\n",
    "# intercept_\n",
    "model_1_2.intercept_.round(3)\n",
    "\n",
    "# coef_\n",
    "model_1_2.coef_.round(4)\n",
    "print('coef_:', model_1_2.coef_.round(4) )\n",
    "\n",
    "feature_names_in_\n",
    "model_1_2.feature_names_in_\n",
    "\n",
    "# 회귀계수\n",
    "pd.DataFrame({'feature':model_1_2.feature_names_in_, 'coef':model_1_2.coef_[0].round(6) })"
   ]
  },
  {
   "cell_type": "markdown",
   "metadata": {},
   "source": [
    "로지스틱 회귀계수 산출식 "
   ]
  },
  {
   "cell_type": "markdown",
   "metadata": {},
   "source": [
    "## $ Log \\left\\{ \\frac{ p  }{ 1-p   }\\right\\}  = \\beta_0 + \\beta_1X $ &emsp; →&emsp;&emsp;   $ p = \\frac{1} {1 + e^{-(\\beta_0 +\\beta_1X)}}$"
   ]
  },
  {
   "cell_type": "markdown",
   "metadata": {},
   "source": [
    "모델을 바탕으로 산출식에 적용 "
   ]
  },
  {
   "cell_type": "markdown",
   "metadata": {},
   "source": [
    "$$ Log \\left\\{ \\frac{ p  }{ 1-p   }\\right\\}  = -28.4729 + 0.003\\times salary + 0.001\\times expenditure + 3.870\\times company B + (-7.622) \\times company C $$"
   ]
  },
  {
   "cell_type": "markdown",
   "metadata": {},
   "source": [
    "위 식을 target 1에 해당하는 확률값으로 변환하면?"
   ]
  },
  {
   "cell_type": "markdown",
   "metadata": {},
   "source": [
    "$$ p = \\frac{1}{1+\\exp(-1\\times(-28.4729 + 0.003\\times salary + 0.001\\times expenditure + 3.870\\times company B + (-7.622) \\times company C))} $$"
   ]
  },
  {
   "cell_type": "code",
   "execution_count": 65,
   "metadata": {
    "colab": {
     "base_uri": "https://localhost:8080/",
     "height": 297
    },
    "executionInfo": {
     "elapsed": 13,
     "status": "ok",
     "timestamp": 1668725563411,
     "user": {
      "displayName": "jinyang park",
      "userId": "06576046992691541404"
     },
     "user_tz": -540
    },
    "id": "yOu0_IsLU8Ix",
    "outputId": "a17180ac-b00a-4624-b7f9-7828babd8edb",
    "scrolled": true
   },
   "outputs": [
    {
     "data": {
      "text/plain": [
       "array([0, 0, 0, 0, 0])"
      ]
     },
     "execution_count": 65,
     "metadata": {},
     "output_type": "execute_result"
    }
   ],
   "source": [
    "# 회귀식 예측 \n",
    "model_1_2.predict(df_hk1_2_dum.drop('target', axis=1))[:5]"
   ]
  },
  {
   "cell_type": "markdown",
   "metadata": {},
   "source": [
    "회귀식을 바탕으로 확률값 도출 "
   ]
  },
  {
   "cell_type": "code",
   "execution_count": 66,
   "metadata": {},
   "outputs": [],
   "source": [
    "# 회귀식 logistic_linear\n",
    "def logistic_linear(x1, x2, x3, x4):\n",
    "    p = 1 / ( 1+ np.exp(-1 * (-28.47295857+(0.002541)*x1+(0.001228)*x2+(3.870706)*x3)+(-7.622122)*x4))\n",
    "    return p"
   ]
  },
  {
   "cell_type": "code",
   "execution_count": 67,
   "metadata": {},
   "outputs": [
    {
     "data": {
      "text/html": [
       "<div>\n",
       "<style scoped>\n",
       "    .dataframe tbody tr th:only-of-type {\n",
       "        vertical-align: middle;\n",
       "    }\n",
       "\n",
       "    .dataframe tbody tr th {\n",
       "        vertical-align: top;\n",
       "    }\n",
       "\n",
       "    .dataframe thead th {\n",
       "        text-align: right;\n",
       "    }\n",
       "</style>\n",
       "<table border=\"1\" class=\"dataframe\">\n",
       "  <thead>\n",
       "    <tr style=\"text-align: right;\">\n",
       "      <th></th>\n",
       "      <th>salary</th>\n",
       "      <th>expenditure</th>\n",
       "      <th>company_B</th>\n",
       "      <th>company_C</th>\n",
       "    </tr>\n",
       "  </thead>\n",
       "  <tbody>\n",
       "    <tr>\n",
       "      <th>234</th>\n",
       "      <td>8760</td>\n",
       "      <td>7385</td>\n",
       "      <td>0</td>\n",
       "      <td>0</td>\n",
       "    </tr>\n",
       "    <tr>\n",
       "      <th>235</th>\n",
       "      <td>7470</td>\n",
       "      <td>6095</td>\n",
       "      <td>0</td>\n",
       "      <td>0</td>\n",
       "    </tr>\n",
       "  </tbody>\n",
       "</table>\n",
       "</div>"
      ],
      "text/plain": [
       "     salary  expenditure  company_B  company_C\n",
       "234    8760         7385          0          0\n",
       "235    7470         6095          0          0"
      ]
     },
     "execution_count": 67,
     "metadata": {},
     "output_type": "execute_result"
    }
   ],
   "source": [
    "# sample data , df_hk1_2_dum.drop('target', axis=1).tail(2)\n",
    "df_hk1_2_dum.drop('target', axis=1).tail(2)"
   ]
  },
  {
   "cell_type": "code",
   "execution_count": 68,
   "metadata": {},
   "outputs": [
    {
     "data": {
      "text/html": [
       "<div>\n",
       "<style scoped>\n",
       "    .dataframe tbody tr th:only-of-type {\n",
       "        vertical-align: middle;\n",
       "    }\n",
       "\n",
       "    .dataframe tbody tr th {\n",
       "        vertical-align: top;\n",
       "    }\n",
       "\n",
       "    .dataframe thead th {\n",
       "        text-align: right;\n",
       "    }\n",
       "</style>\n",
       "<table border=\"1\" class=\"dataframe\">\n",
       "  <thead>\n",
       "    <tr style=\"text-align: right;\">\n",
       "      <th></th>\n",
       "      <th>0</th>\n",
       "      <th>1</th>\n",
       "    </tr>\n",
       "  </thead>\n",
       "  <tbody>\n",
       "    <tr>\n",
       "      <th>234</th>\n",
       "      <td>0.05</td>\n",
       "      <td>0.95</td>\n",
       "    </tr>\n",
       "    <tr>\n",
       "      <th>235</th>\n",
       "      <td>0.89</td>\n",
       "      <td>0.11</td>\n",
       "    </tr>\n",
       "  </tbody>\n",
       "</table>\n",
       "</div>"
      ],
      "text/plain": [
       "        0     1\n",
       "234  0.05  0.95\n",
       "235  0.89  0.11"
      ]
     },
     "execution_count": 68,
     "metadata": {},
     "output_type": "execute_result"
    }
   ],
   "source": [
    "# predict_proba로 확인, tail(2)\n",
    "pd.DataFrame( model_1_2.predict_proba(df_hk1_2_dum.drop('target', axis=1)).round(2)).tail(2)"
   ]
  },
  {
   "cell_type": "markdown",
   "metadata": {},
   "source": [
    "사용자 정의 함수를 통해 독립변수 값을 넣어주면 그에 해당하는 확률 값을 도출"
   ]
  },
  {
   "cell_type": "code",
   "execution_count": 69,
   "metadata": {},
   "outputs": [
    {
     "data": {
      "text/plain": [
       "0.95"
      ]
     },
     "execution_count": 69,
     "metadata": {},
     "output_type": "execute_result"
    }
   ],
   "source": [
    "# 회귀식으로 확인 (8760, 7385, 0, 0 )\n",
    "logistic_linear(8760, 7385, 0, 0 ).round(2)"
   ]
  },
  {
   "cell_type": "code",
   "execution_count": 70,
   "metadata": {},
   "outputs": [
    {
     "data": {
      "text/plain": [
       "0.12"
      ]
     },
     "execution_count": 70,
     "metadata": {},
     "output_type": "execute_result"
    }
   ],
   "source": [
    "# 회귀식으로 확인 (7470, 6095, 0, 0 )\n",
    "logistic_linear(7470, 6095, 0, 0 ).round(2)"
   ]
  },
  {
   "cell_type": "code",
   "execution_count": 71,
   "metadata": {},
   "outputs": [
    {
     "data": {
      "text/plain": [
       "0.23"
      ]
     },
     "execution_count": 71,
     "metadata": {},
     "output_type": "execute_result"
    }
   ],
   "source": [
    "# step5) 회귀식으로 salary ( 6660 ), expenditure ( 5285 ), company(B) 일때 값 예측\n",
    "logistic_linear(6660, 5285, 1, 0 ).round(2)"
   ]
  },
  {
   "cell_type": "code",
   "execution_count": 74,
   "metadata": {},
   "outputs": [
    {
     "name": "stdout",
     "output_type": "stream",
     "text": [
      "예측값 [0]\n"
     ]
    },
    {
     "ename": "AttributeError",
     "evalue": "'list' object has no attribute 'round'",
     "output_type": "error",
     "traceback": [
      "\u001b[1;31m---------------------------------------------------------------------------\u001b[0m",
      "\u001b[1;31mAttributeError\u001b[0m                            Traceback (most recent call last)",
      "\u001b[1;32mC:\\Users\\Public\\Documents\\ESTsoft\\CreatorTemp/ipykernel_10972/3697622698.py\u001b[0m in \u001b[0;36m<module>\u001b[1;34m\u001b[0m\n\u001b[0;32m      4\u001b[0m \u001b[1;33m\u001b[0m\u001b[0m\n\u001b[0;32m      5\u001b[0m \u001b[0mprint\u001b[0m\u001b[1;33m(\u001b[0m\u001b[1;34m'예측값'\u001b[0m\u001b[1;33m,\u001b[0m \u001b[0mmodel_1_2\u001b[0m\u001b[1;33m.\u001b[0m\u001b[0mpredict\u001b[0m\u001b[1;33m(\u001b[0m\u001b[1;33m[\u001b[0m\u001b[1;33m[\u001b[0m\u001b[1;36m6660\u001b[0m\u001b[1;33m,\u001b[0m \u001b[1;36m5285\u001b[0m\u001b[1;33m,\u001b[0m \u001b[1;36m1\u001b[0m\u001b[1;33m,\u001b[0m \u001b[1;36m0\u001b[0m \u001b[1;33m]\u001b[0m\u001b[1;33m]\u001b[0m\u001b[1;33m)\u001b[0m\u001b[1;33m)\u001b[0m\u001b[1;33m\u001b[0m\u001b[1;33m\u001b[0m\u001b[0m\n\u001b[1;32m----> 6\u001b[1;33m \u001b[0mprint\u001b[0m\u001b[1;33m(\u001b[0m\u001b[1;34m'예측확률'\u001b[0m\u001b[1;33m,\u001b[0m \u001b[0mmodel_1_2\u001b[0m\u001b[1;33m.\u001b[0m\u001b[0mpredict_proba\u001b[0m\u001b[1;33m(\u001b[0m\u001b[1;33m[\u001b[0m\u001b[1;33m[\u001b[0m\u001b[1;36m6660\u001b[0m\u001b[1;33m,\u001b[0m \u001b[1;36m5285\u001b[0m\u001b[1;33m,\u001b[0m \u001b[1;36m1\u001b[0m\u001b[1;33m,\u001b[0m \u001b[1;36m0\u001b[0m \u001b[1;33m]\u001b[0m\u001b[1;33m]\u001b[0m\u001b[1;33m.\u001b[0m\u001b[0mround\u001b[0m\u001b[1;33m(\u001b[0m\u001b[1;36m2\u001b[0m\u001b[1;33m)\u001b[0m\u001b[1;33m)\u001b[0m\u001b[1;33m)\u001b[0m\u001b[1;33m\u001b[0m\u001b[1;33m\u001b[0m\u001b[0m\n\u001b[0m",
      "\u001b[1;31mAttributeError\u001b[0m: 'list' object has no attribute 'round'"
     ]
    }
   ],
   "source": [
    "# step5) predict, predict_proba로 ( 6660 ), expenditure ( 5285 ), company(B) 일때 값 예측\n",
    "model_1_2.predict([[6660, 5285, 1, 0 ]])\n",
    "model_1_2.predict_proba([[6660, 5285, 1, 0 ]])\n",
    "\n",
    "print('예측값', model_1_2.predict([[6660, 5285, 1, 0 ]]))\n",
    "print('예측확률', model_1_2.predict_proba([[6660, 5285, 1, 0 ]])"
   ]
  },
  {
   "cell_type": "markdown",
   "metadata": {},
   "source": [
    "## 1-2 로지스틱 회귀분석 평가 1/2\n",
    "\n",
    "df_hk1_2_dum 데이터셋을 바탕으로 train test 셋 7:3으로 분할\n",
    "<br> 해당 모델을 바탕으로 얼마나 정확하게 분류하는지 평가 \n",
    "<br> Accuracy, Precision, Recall, F1_score"
   ]
  },
  {
   "cell_type": "code",
   "execution_count": 75,
   "metadata": {
    "scrolled": true
   },
   "outputs": [
    {
     "data": {
      "text/html": [
       "<div>\n",
       "<style scoped>\n",
       "    .dataframe tbody tr th:only-of-type {\n",
       "        vertical-align: middle;\n",
       "    }\n",
       "\n",
       "    .dataframe tbody tr th {\n",
       "        vertical-align: top;\n",
       "    }\n",
       "\n",
       "    .dataframe thead th {\n",
       "        text-align: right;\n",
       "    }\n",
       "</style>\n",
       "<table border=\"1\" class=\"dataframe\">\n",
       "  <thead>\n",
       "    <tr style=\"text-align: right;\">\n",
       "      <th></th>\n",
       "      <th>target</th>\n",
       "      <th>salary</th>\n",
       "      <th>expenditure</th>\n",
       "      <th>company_B</th>\n",
       "      <th>company_C</th>\n",
       "    </tr>\n",
       "  </thead>\n",
       "  <tbody>\n",
       "    <tr>\n",
       "      <th>0</th>\n",
       "      <td>0</td>\n",
       "      <td>4720</td>\n",
       "      <td>2970</td>\n",
       "      <td>0</td>\n",
       "      <td>0</td>\n",
       "    </tr>\n",
       "    <tr>\n",
       "      <th>1</th>\n",
       "      <td>0</td>\n",
       "      <td>7280</td>\n",
       "      <td>5905</td>\n",
       "      <td>0</td>\n",
       "      <td>0</td>\n",
       "    </tr>\n",
       "    <tr>\n",
       "      <th>2</th>\n",
       "      <td>0</td>\n",
       "      <td>4060</td>\n",
       "      <td>2935</td>\n",
       "      <td>1</td>\n",
       "      <td>0</td>\n",
       "    </tr>\n",
       "    <tr>\n",
       "      <th>3</th>\n",
       "      <td>0</td>\n",
       "      <td>4390</td>\n",
       "      <td>4015</td>\n",
       "      <td>1</td>\n",
       "      <td>0</td>\n",
       "    </tr>\n",
       "    <tr>\n",
       "      <th>4</th>\n",
       "      <td>0</td>\n",
       "      <td>3290</td>\n",
       "      <td>1915</td>\n",
       "      <td>1</td>\n",
       "      <td>0</td>\n",
       "    </tr>\n",
       "  </tbody>\n",
       "</table>\n",
       "</div>"
      ],
      "text/plain": [
       "   target  salary  expenditure  company_B  company_C\n",
       "0       0    4720         2970          0          0\n",
       "1       0    7280         5905          0          0\n",
       "2       0    4060         2935          1          0\n",
       "3       0    4390         4015          1          0\n",
       "4       0    3290         1915          1          0"
      ]
     },
     "execution_count": 75,
     "metadata": {},
     "output_type": "execute_result"
    }
   ],
   "source": [
    "df_hk1_2_dum[:5]"
   ]
  },
  {
   "cell_type": "code",
   "execution_count": 77,
   "metadata": {},
   "outputs": [
    {
     "data": {
      "text/plain": [
       "(165, 71)"
      ]
     },
     "execution_count": 77,
     "metadata": {},
     "output_type": "execute_result"
    }
   ],
   "source": [
    "# train, test로 분할\n",
    "from sklearn.model_selection import train_test_split\n",
    "df_hk_train_1, df_hk_test_1 = train_test_split( df_hk1_2_dum, random_state=123, train_size=0.7)\n",
    "len(df_hk_train_1), len(df_hk_test_1)"
   ]
  },
  {
   "cell_type": "code",
   "execution_count": 78,
   "metadata": {},
   "outputs": [
    {
     "data": {
      "text/plain": [
       "array([1, 0, 0, 0, 0, 0, 0, 0, 0, 0, 0, 0, 0, 0, 0, 0, 0, 0, 0, 0, 0, 1,\n",
       "       0, 0, 0, 1, 1, 1, 0, 0, 0, 0, 0, 1, 0, 1, 0, 1, 0, 0, 0, 0, 0, 1,\n",
       "       0, 0, 0, 1, 0, 0, 0, 1, 0, 0, 0, 0, 1, 1, 0, 0, 0, 0, 0, 0, 0, 0,\n",
       "       0, 0, 0, 0, 1])"
      ]
     },
     "execution_count": 78,
     "metadata": {},
     "output_type": "execute_result"
    }
   ],
   "source": [
    "# predict\n",
    "predict_1 = model_1_2.predict( df_hk_test_1[['salary', 'expenditure', 'company_B', 'company_C']])\n",
    "predict_1"
   ]
  },
  {
   "cell_type": "code",
   "execution_count": 79,
   "metadata": {},
   "outputs": [
    {
     "data": {
      "text/plain": [
       "0    57\n",
       "1    14\n",
       "dtype: int64"
      ]
     },
     "execution_count": 79,
     "metadata": {},
     "output_type": "execute_result"
    }
   ],
   "source": [
    "# value_counts\n",
    "pd.Series(predict_1).value_counts()"
   ]
  },
  {
   "cell_type": "markdown",
   "metadata": {},
   "source": [
    "### Accuracy = $$\\frac{TP+TN}{TP+TN+FP+FN}$$"
   ]
  },
  {
   "cell_type": "markdown",
   "metadata": {},
   "source": [
    "### Precision = $$\\frac{TP}{TP+FP}$$"
   ]
  },
  {
   "cell_type": "markdown",
   "metadata": {},
   "source": [
    "### Recall = $$\\frac{TP}{TP+FN}$$"
   ]
  },
  {
   "cell_type": "markdown",
   "metadata": {},
   "source": [
    "### F1 = $$\\frac{2\\times Precision \\times Recall}{Precision+Recall}$$"
   ]
  },
  {
   "cell_type": "code",
   "execution_count": 80,
   "metadata": {},
   "outputs": [],
   "source": [
    "# 평가\n",
    "from sklearn.metrics import accuracy_score, precision_score, recall_score, f1_score\n",
    "from sklearn.metrics import accuracy_score, precision_score, recall_score, f1_score"
   ]
  },
  {
   "cell_type": "code",
   "execution_count": 81,
   "metadata": {
    "scrolled": true
   },
   "outputs": [
    {
     "data": {
      "text/html": [
       "<div>\n",
       "<style scoped>\n",
       "    .dataframe tbody tr th:only-of-type {\n",
       "        vertical-align: middle;\n",
       "    }\n",
       "\n",
       "    .dataframe tbody tr th {\n",
       "        vertical-align: top;\n",
       "    }\n",
       "\n",
       "    .dataframe thead th {\n",
       "        text-align: right;\n",
       "    }\n",
       "</style>\n",
       "<table border=\"1\" class=\"dataframe\">\n",
       "  <thead>\n",
       "    <tr style=\"text-align: right;\">\n",
       "      <th>target</th>\n",
       "      <th>0</th>\n",
       "      <th>1</th>\n",
       "    </tr>\n",
       "    <tr>\n",
       "      <th>row_0</th>\n",
       "      <th></th>\n",
       "      <th></th>\n",
       "    </tr>\n",
       "  </thead>\n",
       "  <tbody>\n",
       "    <tr>\n",
       "      <th>0</th>\n",
       "      <td>52</td>\n",
       "      <td>5</td>\n",
       "    </tr>\n",
       "    <tr>\n",
       "      <th>1</th>\n",
       "      <td>4</td>\n",
       "      <td>10</td>\n",
       "    </tr>\n",
       "  </tbody>\n",
       "</table>\n",
       "</div>"
      ],
      "text/plain": [
       "target   0   1\n",
       "row_0         \n",
       "0       52   5\n",
       "1        4  10"
      ]
     },
     "execution_count": 81,
     "metadata": {},
     "output_type": "execute_result"
    }
   ],
   "source": [
    "# crosstab(predict_1, df_hk_test_1['target'])\n",
    "pd.crosstab(predict_1, df_hk_test_1['target'])"
   ]
  },
  {
   "cell_type": "code",
   "execution_count": 84,
   "metadata": {},
   "outputs": [
    {
     "data": {
      "text/plain": [
       "0.7142857142857143"
      ]
     },
     "execution_count": 84,
     "metadata": {},
     "output_type": "execute_result"
    }
   ],
   "source": [
    "precision_score(df_hk_test_1['target'], predict_1)"
   ]
  },
  {
   "cell_type": "code",
   "execution_count": 82,
   "metadata": {},
   "outputs": [
    {
     "name": "stdout",
     "output_type": "stream",
     "text": [
      "accuracy_s = 0.8732394366197183\n",
      "precision_s = 0.7142857142857143\n",
      "recall_s = 0.6666666666666666\n",
      "f1_s = 0.689655172413793\n"
     ]
    }
   ],
   "source": [
    "# 평가지표 계산\n",
    "accuracy_s = (52+10) / (52+10+5+4)\n",
    "precision_s = 10/(10+4)\n",
    "recall_s = 10/(10+5)\n",
    "f1_s = 2*precision_s*recall_s/(precision_s+recall_s)\n",
    "\n",
    "print('accuracy_s =', accuracy_s)\n",
    "print('precision_s =', precision_s)\n",
    "print('recall_s =', recall_s)\n",
    "print('f1_s =', f1_s)"
   ]
  },
  {
   "cell_type": "code",
   "execution_count": 85,
   "metadata": {},
   "outputs": [
    {
     "name": "stdout",
     "output_type": "stream",
     "text": [
      "Accuracy :  0.8732394366197183\n",
      "Precision :  0.7142857142857143\n",
      "Recall :  0.6666666666666666\n",
      "F1 :  0.689655172413793\n"
     ]
    }
   ],
   "source": [
    "# 평가지표 계산\n",
    "# y_true, y_pred 순서 중요\n",
    "\n",
    "print( \"Accuracy : \",accuracy_score(df_hk_test_1['target'], predict_1) )\n",
    "print( \"Precision : \", precision_score(df_hk_test_1['target'], predict_1))\n",
    "print( \"Recall : \", recall_score(df_hk_test_1['target'], predict_1))\n",
    "print( \"F1 : \", f1_score(df_hk_test_1['target'], predict_1))"
   ]
  },
  {
   "cell_type": "code",
   "execution_count": 86,
   "metadata": {},
   "outputs": [
    {
     "name": "stdout",
     "output_type": "stream",
     "text": [
      "              precision    recall  f1-score   support\n",
      "\n",
      "           0       0.91      0.93      0.92        56\n",
      "           1       0.71      0.67      0.69        15\n",
      "\n",
      "    accuracy                           0.87        71\n",
      "   macro avg       0.81      0.80      0.81        71\n",
      "weighted avg       0.87      0.87      0.87        71\n",
      "\n"
     ]
    }
   ],
   "source": [
    "# classification_report\n",
    "from sklearn.metrics import classification_report\n",
    "print(classification_report(y_true=df_hk_test_1['target'], y_pred = predict_1))"
   ]
  },
  {
   "cell_type": "markdown",
   "metadata": {},
   "source": [
    "\n",
    "## 1-2 로지스틱 회귀분석 평가 2/2 \n",
    "\n",
    "ROC AUC score 도출\n",
    "<br>ROC curve 도출 "
   ]
  },
  {
   "cell_type": "code",
   "execution_count": 87,
   "metadata": {},
   "outputs": [],
   "source": [
    "from sklearn.metrics import roc_auc_score, roc_curve"
   ]
  },
  {
   "cell_type": "code",
   "execution_count": 88,
   "metadata": {},
   "outputs": [],
   "source": [
    "# predict_proba중 1의 확률 도출\n",
    "proba_class1 = model_1_2.predict_proba(df_hk_test_1.drop('target', axis=1) )[:, 1]"
   ]
  },
  {
   "cell_type": "code",
   "execution_count": 90,
   "metadata": {},
   "outputs": [
    {
     "data": {
      "text/plain": [
       "array([8.32809718e-01, 1.83095502e-03, 1.17699241e-06, 1.90774081e-03,\n",
       "       2.06625499e-01, 8.29054967e-05, 3.82600927e-02, 4.43214418e-02,\n",
       "       3.58922496e-01, 4.59789163e-08, 7.94136713e-05, 1.25696831e-06,\n",
       "       3.14253427e-04, 1.87852036e-02, 1.02885430e-01, 1.07906536e-01,\n",
       "       3.00085520e-01, 2.42481699e-04, 6.51835128e-03, 3.30589594e-02,\n",
       "       2.22381979e-05, 7.44673835e-01, 7.88509549e-03, 1.43120548e-01,\n",
       "       2.14986110e-03, 9.97573562e-01, 8.93993751e-01, 8.98831767e-01,\n",
       "       2.06915066e-03, 2.03225324e-03, 2.46067013e-01, 3.39788436e-01,\n",
       "       8.98258273e-06, 9.93398071e-01, 1.68556314e-02, 9.81386670e-01,\n",
       "       7.41512401e-07, 7.18242850e-01, 9.58360413e-07, 8.50071679e-06,\n",
       "       3.82600927e-02, 9.60153508e-05, 3.40019426e-05, 9.04150047e-01,\n",
       "       1.78002672e-06, 5.21837263e-06, 5.92904702e-02, 6.64309350e-01,\n",
       "       1.44935095e-02, 1.42975728e-06, 3.82600927e-02, 9.16874726e-01,\n",
       "       3.41194829e-01, 4.18366322e-06, 4.09825040e-08, 6.27399047e-06,\n",
       "       8.85439428e-01, 9.82867480e-01, 7.61556384e-02, 2.63554748e-02,\n",
       "       6.48727067e-05, 2.18729917e-01, 1.81954900e-01, 5.19396411e-06,\n",
       "       1.16305146e-04, 4.57004220e-02, 6.98712193e-04, 3.85132534e-01,\n",
       "       2.36384569e-02, 1.54888444e-01, 8.86198153e-01])"
      ]
     },
     "execution_count": 90,
     "metadata": {},
     "output_type": "execute_result"
    }
   ],
   "source": [
    "# predict_proba중 1의 확률\n",
    "proba_class1"
   ]
  },
  {
   "cell_type": "code",
   "execution_count": 91,
   "metadata": {},
   "outputs": [
    {
     "name": "stdout",
     "output_type": "stream",
     "text": [
      "ROC AUC 값 :  0.9404761904761905\n"
     ]
    }
   ],
   "source": [
    "# roc_auc_score\n",
    "from sklearn.metrics import roc_auc_score, roc_curve\n",
    "print(\"ROC AUC 값 : \", roc_auc_score( df_hk_test_1['target'], proba_class1)) #보통은 0.5 이상 AUC 값을 가져야 함 "
   ]
  },
  {
   "cell_type": "markdown",
   "metadata": {},
   "source": [
    "ROC curve 도출 \n",
    "<br> <b>x축  FPR</b> = FP / (FP + TN) = 1 - TNR = 1 - 특이성\n",
    "<br> <b>y축  TPR</b> = Recall"
   ]
  },
  {
   "cell_type": "code",
   "execution_count": 92,
   "metadata": {},
   "outputs": [],
   "source": [
    "# roc_curve\n",
    "fprs, tprs, thresholds = roc_curve( df_hk_test_1['target'], proba_class1) # 임계값 반환 "
   ]
  },
  {
   "cell_type": "code",
   "execution_count": 93,
   "metadata": {},
   "outputs": [
    {
     "data": {
      "text/plain": [
       "<matplotlib.legend.Legend at 0x1df4fded2e0>"
      ]
     },
     "execution_count": 93,
     "metadata": {},
     "output_type": "execute_result"
    },
    {
     "data": {
      "image/png": "[encoded data removed]",
      "text/plain": [
       "<Figure size 432x288 with 1 Axes>"
      ]
     },
     "metadata": {
      "needs_background": "light"
     },
     "output_type": "display_data"
    }
   ],
   "source": [
    "# 시각화, roc_curve \n",
    "plt.plot( fprs, tprs, label='ROC') #ROC 곡선 그리기\n",
    "plt.plot([0,1], [0,1], 'k--', label='Random') # 가운데 대각선 그리기 \n",
    "plt.legend()"
   ]
  },
  {
   "cell_type": "markdown",
   "metadata": {},
   "source": [
    "## 1-3 로지스틱 회귀 분석 다항 분석 \n",
    "\n",
    "회사 예측 하기  \n",
    "로지스틱 회귀 분석시 타깃 항목값은 0 또는 1이었다. 만약 타깃 종류가 2가지가 아닌 3가지 이상이면 어떻게 해야 할까? \n",
    "\n",
    "<br><b>종속변수</b> : car_type(SS/MM/LL) \n",
    "<br><b>독립변수</b> : age, salary, expenditure, company(drop_first=True)\n",
    "\n",
    "옵션값 - C=100000 , solver='newton-cg' "
   ]
  },
  {
   "cell_type": "code",
   "execution_count": 94,
   "metadata": {},
   "outputs": [
    {
     "data": {
      "text/html": [
       "<div>\n",
       "<style scoped>\n",
       "    .dataframe tbody tr th:only-of-type {\n",
       "        vertical-align: middle;\n",
       "    }\n",
       "\n",
       "    .dataframe tbody tr th {\n",
       "        vertical-align: top;\n",
       "    }\n",
       "\n",
       "    .dataframe thead th {\n",
       "        text-align: right;\n",
       "    }\n",
       "</style>\n",
       "<table border=\"1\" class=\"dataframe\">\n",
       "  <thead>\n",
       "    <tr style=\"text-align: right;\">\n",
       "      <th></th>\n",
       "      <th>name</th>\n",
       "      <th>jumin7</th>\n",
       "      <th>gender</th>\n",
       "      <th>height</th>\n",
       "      <th>age</th>\n",
       "      <th>blood_type</th>\n",
       "      <th>company</th>\n",
       "      <th>grades</th>\n",
       "      <th>salary</th>\n",
       "      <th>expenditure</th>\n",
       "      <th>car_type</th>\n",
       "    </tr>\n",
       "  </thead>\n",
       "  <tbody>\n",
       "    <tr>\n",
       "      <th>0</th>\n",
       "      <td>hkd10</td>\n",
       "      <td>900303-2</td>\n",
       "      <td>F</td>\n",
       "      <td>169.4</td>\n",
       "      <td>31</td>\n",
       "      <td>A</td>\n",
       "      <td>A</td>\n",
       "      <td>B</td>\n",
       "      <td>4720</td>\n",
       "      <td>2970</td>\n",
       "      <td>SS</td>\n",
       "    </tr>\n",
       "    <tr>\n",
       "      <th>1</th>\n",
       "      <td>hkd100</td>\n",
       "      <td>681205-2</td>\n",
       "      <td>F</td>\n",
       "      <td>168.3</td>\n",
       "      <td>55</td>\n",
       "      <td>A</td>\n",
       "      <td>A</td>\n",
       "      <td>B</td>\n",
       "      <td>7280</td>\n",
       "      <td>5905</td>\n",
       "      <td>MM</td>\n",
       "    </tr>\n",
       "    <tr>\n",
       "      <th>2</th>\n",
       "      <td>hkd101</td>\n",
       "      <td>931226-2</td>\n",
       "      <td>F</td>\n",
       "      <td>155.3</td>\n",
       "      <td>28</td>\n",
       "      <td>AB</td>\n",
       "      <td>B</td>\n",
       "      <td>B</td>\n",
       "      <td>4060</td>\n",
       "      <td>2935</td>\n",
       "      <td>SS</td>\n",
       "    </tr>\n",
       "    <tr>\n",
       "      <th>3</th>\n",
       "      <td>hkd102</td>\n",
       "      <td>920123-1</td>\n",
       "      <td>M</td>\n",
       "      <td>188.6</td>\n",
       "      <td>29</td>\n",
       "      <td>O</td>\n",
       "      <td>B</td>\n",
       "      <td>F</td>\n",
       "      <td>4390</td>\n",
       "      <td>4015</td>\n",
       "      <td>SS</td>\n",
       "    </tr>\n",
       "    <tr>\n",
       "      <th>4</th>\n",
       "      <td>hkd103</td>\n",
       "      <td>910215-2</td>\n",
       "      <td>F</td>\n",
       "      <td>150.2</td>\n",
       "      <td>30</td>\n",
       "      <td>A</td>\n",
       "      <td>B</td>\n",
       "      <td>A</td>\n",
       "      <td>3290</td>\n",
       "      <td>1915</td>\n",
       "      <td>SS</td>\n",
       "    </tr>\n",
       "    <tr>\n",
       "      <th>...</th>\n",
       "      <td>...</td>\n",
       "      <td>...</td>\n",
       "      <td>...</td>\n",
       "      <td>...</td>\n",
       "      <td>...</td>\n",
       "      <td>...</td>\n",
       "      <td>...</td>\n",
       "      <td>...</td>\n",
       "      <td>...</td>\n",
       "      <td>...</td>\n",
       "      <td>...</td>\n",
       "    </tr>\n",
       "    <tr>\n",
       "      <th>231</th>\n",
       "      <td>hkd95</td>\n",
       "      <td>730710-2</td>\n",
       "      <td>F</td>\n",
       "      <td>157.8</td>\n",
       "      <td>50</td>\n",
       "      <td>A</td>\n",
       "      <td>A</td>\n",
       "      <td>A</td>\n",
       "      <td>6990</td>\n",
       "      <td>4865</td>\n",
       "      <td>MM</td>\n",
       "    </tr>\n",
       "    <tr>\n",
       "      <th>232</th>\n",
       "      <td>hkd96</td>\n",
       "      <td>720805-2</td>\n",
       "      <td>F</td>\n",
       "      <td>150.4</td>\n",
       "      <td>51</td>\n",
       "      <td>O</td>\n",
       "      <td>A</td>\n",
       "      <td>A</td>\n",
       "      <td>7110</td>\n",
       "      <td>4985</td>\n",
       "      <td>MM</td>\n",
       "    </tr>\n",
       "    <tr>\n",
       "      <th>233</th>\n",
       "      <td>hkd97</td>\n",
       "      <td>710929-1</td>\n",
       "      <td>M</td>\n",
       "      <td>172.4</td>\n",
       "      <td>52</td>\n",
       "      <td>A</td>\n",
       "      <td>A</td>\n",
       "      <td>B</td>\n",
       "      <td>8000</td>\n",
       "      <td>6625</td>\n",
       "      <td>MM</td>\n",
       "    </tr>\n",
       "    <tr>\n",
       "      <th>234</th>\n",
       "      <td>hkd98</td>\n",
       "      <td>701024-1</td>\n",
       "      <td>M</td>\n",
       "      <td>166.7</td>\n",
       "      <td>53</td>\n",
       "      <td>O</td>\n",
       "      <td>A</td>\n",
       "      <td>B</td>\n",
       "      <td>8760</td>\n",
       "      <td>7385</td>\n",
       "      <td>LL</td>\n",
       "    </tr>\n",
       "    <tr>\n",
       "      <th>235</th>\n",
       "      <td>hkd99</td>\n",
       "      <td>691115-2</td>\n",
       "      <td>F</td>\n",
       "      <td>152.6</td>\n",
       "      <td>54</td>\n",
       "      <td>B</td>\n",
       "      <td>A</td>\n",
       "      <td>B</td>\n",
       "      <td>7470</td>\n",
       "      <td>6095</td>\n",
       "      <td>MM</td>\n",
       "    </tr>\n",
       "  </tbody>\n",
       "</table>\n",
       "<p>236 rows × 11 columns</p>\n",
       "</div>"
      ],
      "text/plain": [
       "       name    jumin7 gender  height  age blood_type company grades  salary  \\\n",
       "0     hkd10  900303-2      F   169.4   31          A       A      B    4720   \n",
       "1    hkd100  681205-2      F   168.3   55          A       A      B    7280   \n",
       "2    hkd101  931226-2      F   155.3   28         AB       B      B    4060   \n",
       "3    hkd102  920123-1      M   188.6   29          O       B      F    4390   \n",
       "4    hkd103  910215-2      F   150.2   30          A       B      A    3290   \n",
       "..      ...       ...    ...     ...  ...        ...     ...    ...     ...   \n",
       "231   hkd95  730710-2      F   157.8   50          A       A      A    6990   \n",
       "232   hkd96  720805-2      F   150.4   51          O       A      A    7110   \n",
       "233   hkd97  710929-1      M   172.4   52          A       A      B    8000   \n",
       "234   hkd98  701024-1      M   166.7   53          O       A      B    8760   \n",
       "235   hkd99  691115-2      F   152.6   54          B       A      B    7470   \n",
       "\n",
       "     expenditure car_type  \n",
       "0           2970       SS  \n",
       "1           5905       MM  \n",
       "2           2935       SS  \n",
       "3           4015       SS  \n",
       "4           1915       SS  \n",
       "..           ...      ...  \n",
       "231         4865       MM  \n",
       "232         4985       MM  \n",
       "233         6625       MM  \n",
       "234         7385       LL  \n",
       "235         6095       MM  \n",
       "\n",
       "[236 rows x 11 columns]"
      ]
     },
     "execution_count": 94,
     "metadata": {},
     "output_type": "execute_result"
    }
   ],
   "source": [
    "basetable1"
   ]
  },
  {
   "cell_type": "code",
   "execution_count": 95,
   "metadata": {},
   "outputs": [
    {
     "data": {
      "text/html": [
       "<div>\n",
       "<style scoped>\n",
       "    .dataframe tbody tr th:only-of-type {\n",
       "        vertical-align: middle;\n",
       "    }\n",
       "\n",
       "    .dataframe tbody tr th {\n",
       "        vertical-align: top;\n",
       "    }\n",
       "\n",
       "    .dataframe thead th {\n",
       "        text-align: right;\n",
       "    }\n",
       "</style>\n",
       "<table border=\"1\" class=\"dataframe\">\n",
       "  <thead>\n",
       "    <tr style=\"text-align: right;\">\n",
       "      <th></th>\n",
       "      <th>car_type</th>\n",
       "      <th>age</th>\n",
       "      <th>salary</th>\n",
       "      <th>expenditure</th>\n",
       "      <th>company_B</th>\n",
       "      <th>company_C</th>\n",
       "    </tr>\n",
       "  </thead>\n",
       "  <tbody>\n",
       "    <tr>\n",
       "      <th>0</th>\n",
       "      <td>SS</td>\n",
       "      <td>31</td>\n",
       "      <td>4720</td>\n",
       "      <td>2970</td>\n",
       "      <td>0</td>\n",
       "      <td>0</td>\n",
       "    </tr>\n",
       "    <tr>\n",
       "      <th>1</th>\n",
       "      <td>MM</td>\n",
       "      <td>55</td>\n",
       "      <td>7280</td>\n",
       "      <td>5905</td>\n",
       "      <td>0</td>\n",
       "      <td>0</td>\n",
       "    </tr>\n",
       "    <tr>\n",
       "      <th>2</th>\n",
       "      <td>SS</td>\n",
       "      <td>28</td>\n",
       "      <td>4060</td>\n",
       "      <td>2935</td>\n",
       "      <td>1</td>\n",
       "      <td>0</td>\n",
       "    </tr>\n",
       "    <tr>\n",
       "      <th>3</th>\n",
       "      <td>SS</td>\n",
       "      <td>29</td>\n",
       "      <td>4390</td>\n",
       "      <td>4015</td>\n",
       "      <td>1</td>\n",
       "      <td>0</td>\n",
       "    </tr>\n",
       "    <tr>\n",
       "      <th>4</th>\n",
       "      <td>SS</td>\n",
       "      <td>30</td>\n",
       "      <td>3290</td>\n",
       "      <td>1915</td>\n",
       "      <td>1</td>\n",
       "      <td>0</td>\n",
       "    </tr>\n",
       "    <tr>\n",
       "      <th>...</th>\n",
       "      <td>...</td>\n",
       "      <td>...</td>\n",
       "      <td>...</td>\n",
       "      <td>...</td>\n",
       "      <td>...</td>\n",
       "      <td>...</td>\n",
       "    </tr>\n",
       "    <tr>\n",
       "      <th>231</th>\n",
       "      <td>MM</td>\n",
       "      <td>50</td>\n",
       "      <td>6990</td>\n",
       "      <td>4865</td>\n",
       "      <td>0</td>\n",
       "      <td>0</td>\n",
       "    </tr>\n",
       "    <tr>\n",
       "      <th>232</th>\n",
       "      <td>MM</td>\n",
       "      <td>51</td>\n",
       "      <td>7110</td>\n",
       "      <td>4985</td>\n",
       "      <td>0</td>\n",
       "      <td>0</td>\n",
       "    </tr>\n",
       "    <tr>\n",
       "      <th>233</th>\n",
       "      <td>MM</td>\n",
       "      <td>52</td>\n",
       "      <td>8000</td>\n",
       "      <td>6625</td>\n",
       "      <td>0</td>\n",
       "      <td>0</td>\n",
       "    </tr>\n",
       "    <tr>\n",
       "      <th>234</th>\n",
       "      <td>LL</td>\n",
       "      <td>53</td>\n",
       "      <td>8760</td>\n",
       "      <td>7385</td>\n",
       "      <td>0</td>\n",
       "      <td>0</td>\n",
       "    </tr>\n",
       "    <tr>\n",
       "      <th>235</th>\n",
       "      <td>MM</td>\n",
       "      <td>54</td>\n",
       "      <td>7470</td>\n",
       "      <td>6095</td>\n",
       "      <td>0</td>\n",
       "      <td>0</td>\n",
       "    </tr>\n",
       "  </tbody>\n",
       "</table>\n",
       "<p>236 rows × 6 columns</p>\n",
       "</div>"
      ],
      "text/plain": [
       "    car_type  age  salary  expenditure  company_B  company_C\n",
       "0         SS   31    4720         2970          0          0\n",
       "1         MM   55    7280         5905          0          0\n",
       "2         SS   28    4060         2935          1          0\n",
       "3         SS   29    4390         4015          1          0\n",
       "4         SS   30    3290         1915          1          0\n",
       "..       ...  ...     ...          ...        ...        ...\n",
       "231       MM   50    6990         4865          0          0\n",
       "232       MM   51    7110         4985          0          0\n",
       "233       MM   52    8000         6625          0          0\n",
       "234       LL   53    8760         7385          0          0\n",
       "235       MM   54    7470         6095          0          0\n",
       "\n",
       "[236 rows x 6 columns]"
      ]
     },
     "execution_count": 95,
     "metadata": {},
     "output_type": "execute_result"
    }
   ],
   "source": [
    "# df_hk생성, car_type, age, salary, expenditure, company(drop_first=True)\n",
    "df_hk_1_3 = basetable1.copy()\n",
    "df_hk_1_3 = df_hk_1_3[['car_type', 'age', 'salary', 'expenditure', 'company']]\n",
    "df_hk_1_3 = pd.get_dummies(df_hk_1_3, columns=['company'],drop_first=True)\n",
    "df_hk_1_3"
   ]
  },
  {
   "cell_type": "code",
   "execution_count": 96,
   "metadata": {},
   "outputs": [],
   "source": [
    "# train, test분리\n",
    "df_hk_train_3, df_hk_test_3 = train_test_split(df_hk_1_3, random_state=123, train_size=0.7)"
   ]
  },
  {
   "cell_type": "code",
   "execution_count": 99,
   "metadata": {},
   "outputs": [
    {
     "data": {
      "text/plain": [
       "LogisticRegression(C=100000, random_state=123, solver='newton-cg')"
      ]
     },
     "execution_count": 99,
     "metadata": {},
     "output_type": "execute_result"
    }
   ],
   "source": [
    "# 다항 로지스틱회귀 모델 생성, multi_class='multinomial' or default auto\n",
    "model_1_3 = LogisticRegression( C=100000, random_state=123, solver='newton-cg')\n",
    "model_1_3.fit(df_hk_train_3.drop('car_type', axis=1), df_hk_train_3['car_type'])"
   ]
  },
  {
   "cell_type": "code",
   "execution_count": 109,
   "metadata": {},
   "outputs": [],
   "source": [
    "# 다항 로지스틱회귀 모델 예측\n",
    "predict_1_3 = model_1_3.predict(df_hk_test_3.drop('car_type', axis=1))"
   ]
  },
  {
   "cell_type": "code",
   "execution_count": 103,
   "metadata": {},
   "outputs": [
    {
     "data": {
      "text/plain": [
       "array([[2.82700195e-01, 6.86443392e-01, 3.08564133e-02],\n",
       "       [9.96710648e-01, 3.28935237e-03, 1.89099186e-12],\n",
       "       [2.55905692e-07, 1.37557187e-03, 9.98624172e-01],\n",
       "       [3.83426916e-06, 1.27518951e-01, 8.72477215e-01],\n",
       "       [3.64842131e-02, 5.93219050e-01, 3.70296737e-01]])"
      ]
     },
     "execution_count": 103,
     "metadata": {},
     "output_type": "execute_result"
    }
   ],
   "source": [
    "# 다항 로지스틱회귀 모델 예측값\n",
    "model_1_3.predict_proba(df_hk_train_3.drop('car_type', axis=1))[:5]"
   ]
  },
  {
   "cell_type": "code",
   "execution_count": 104,
   "metadata": {
    "scrolled": true
   },
   "outputs": [
    {
     "data": {
      "text/html": [
       "<div>\n",
       "<style scoped>\n",
       "    .dataframe tbody tr th:only-of-type {\n",
       "        vertical-align: middle;\n",
       "    }\n",
       "\n",
       "    .dataframe tbody tr th {\n",
       "        vertical-align: top;\n",
       "    }\n",
       "\n",
       "    .dataframe thead th {\n",
       "        text-align: right;\n",
       "    }\n",
       "</style>\n",
       "<table border=\"1\" class=\"dataframe\">\n",
       "  <thead>\n",
       "    <tr style=\"text-align: right;\">\n",
       "      <th></th>\n",
       "      <th>LL</th>\n",
       "      <th>MM</th>\n",
       "      <th>SS</th>\n",
       "    </tr>\n",
       "  </thead>\n",
       "  <tbody>\n",
       "    <tr>\n",
       "      <th>0</th>\n",
       "      <td>0.283</td>\n",
       "      <td>0.686</td>\n",
       "      <td>0.031</td>\n",
       "    </tr>\n",
       "    <tr>\n",
       "      <th>1</th>\n",
       "      <td>0.997</td>\n",
       "      <td>0.003</td>\n",
       "      <td>0.000</td>\n",
       "    </tr>\n",
       "    <tr>\n",
       "      <th>2</th>\n",
       "      <td>0.000</td>\n",
       "      <td>0.001</td>\n",
       "      <td>0.999</td>\n",
       "    </tr>\n",
       "    <tr>\n",
       "      <th>3</th>\n",
       "      <td>0.000</td>\n",
       "      <td>0.128</td>\n",
       "      <td>0.872</td>\n",
       "    </tr>\n",
       "    <tr>\n",
       "      <th>4</th>\n",
       "      <td>0.036</td>\n",
       "      <td>0.593</td>\n",
       "      <td>0.370</td>\n",
       "    </tr>\n",
       "  </tbody>\n",
       "</table>\n",
       "</div>"
      ],
      "text/plain": [
       "      LL     MM     SS\n",
       "0  0.283  0.686  0.031\n",
       "1  0.997  0.003  0.000\n",
       "2  0.000  0.001  0.999\n",
       "3  0.000  0.128  0.872\n",
       "4  0.036  0.593  0.370"
      ]
     },
     "execution_count": 104,
     "metadata": {},
     "output_type": "execute_result"
    }
   ],
   "source": [
    "# 다항 로지스틱회귀 모델 예측값\n",
    "pd.DataFrame(model_1_3.predict_proba(df_hk_train_3.drop('car_type', axis=1)).round(3), columns=['LL','MM','SS'])[:5]"
   ]
  },
  {
   "cell_type": "code",
   "execution_count": 110,
   "metadata": {},
   "outputs": [
    {
     "name": "stdout",
     "output_type": "stream",
     "text": [
      "              precision    recall  f1-score   support\n",
      "\n",
      "          LL       0.71      0.67      0.69        15\n",
      "          MM       0.76      0.86      0.81        36\n",
      "          SS       0.94      0.75      0.83        20\n",
      "\n",
      "    accuracy                           0.79        71\n",
      "   macro avg       0.80      0.76      0.78        71\n",
      "weighted avg       0.80      0.79      0.79        71\n",
      "\n"
     ]
    }
   ],
   "source": [
    "# 다항 로지스틱회귀 모델 평가표\n",
    "print(classification_report(df_hk_test_3['car_type'], predict_1_3))"
   ]
  },
  {
   "cell_type": "markdown",
   "metadata": {},
   "source": [
    "## 2. $\\pi$(파이) Quiz 로지스틱 회귀분석 - 붓꽃 데이터 셋 활용 \n",
    "sklearn 라이브러리 활용을 통한 붓꽃 품종 분류 "
   ]
  },
  {
   "cell_type": "code",
   "execution_count": null,
   "metadata": {},
   "outputs": [],
   "source": [
    "# 파일 로딩\n",
    "df_iris = pd.read_csv('c:ktd_2_data230224/iris.csv')\n",
    "df_iris"
   ]
  },
  {
   "cell_type": "code",
   "execution_count": null,
   "metadata": {},
   "outputs": [],
   "source": [
    "# 시각화\n",
    "fig = plt.figure( figsize=(6,6))\n",
    "\n",
    "sns.scatterplot( x='sepal_length', y='petal_length', hue='species', data= df_iris)\n",
    "plt.show()"
   ]
  },
  {
   "cell_type": "markdown",
   "metadata": {},
   "source": [
    "<br>1. 종속변수는 species, species가 virginica 여부인지 구분하는 파생변수('target') 를 만드시오 \n",
    "<br>2. 독립변수는 'sepal_length', 'sepal_width',\t'petal_length',\t'petal_width' 4개 변수로 하되 \n",
    "       정규화(StandardScaler)하여 사용하시오 \n",
    "<br>3. train, test 분류할 필요 없이 150개 샘플을 사용하고 150개 샘플 그대로 로지스틱 회귀모델에 적용해 예측하시오\n",
    "<br>4. virginica 예측 분류 모델 관련 재현율을 구하시오\n",
    "<br>( sklearn.liner_model LogisticRegression 활용 파라미터 값 C=100000 , random_state = 123, solver='newton-cg' 나머지 디폴트)"
   ]
  },
  {
   "cell_type": "code",
   "execution_count": null,
   "metadata": {},
   "outputs": [],
   "source": [
    "# step1) 종속변수 species 중 virginica 여부 를 분류하는 파생변수('target') 생성\n",
    "\n",
    "\n",
    "# value_counts로 확인\n",
    "\n",
    "\n",
    "# step2) 'sepal_length', 'sepal_width', 'petal_length', 'petal_width' 정규화(StandardScaler)\n",
    "\n",
    "\n",
    "# StandardScaling df화\n",
    "\n",
    "\n",
    "# step3) LogisticRegression\n",
    "\n",
    "\n",
    "# step3) LogisticRegression predict\n",
    "\n",
    "\n",
    "# step4) recall_score\n",
    "\n",
    "# crosstab 확인\n"
   ]
  },
  {
   "cell_type": "markdown",
   "metadata": {},
   "source": [
    "## 3_1. Decision Tree (DecisionTreeClassifier)\n",
    "\n",
    "<br><b>종속변수</b> : car_type\n",
    "<br><b>독립변수</b> : gender, height, age, salary, expenditure, company(명목변수 모두 더미변수화)\n",
    "<br>train_test_split(random_state=123, train_size=0.7)"
   ]
  },
  {
   "cell_type": "code",
   "execution_count": 111,
   "metadata": {},
   "outputs": [
    {
     "data": {
      "text/html": [
       "<div>\n",
       "<style scoped>\n",
       "    .dataframe tbody tr th:only-of-type {\n",
       "        vertical-align: middle;\n",
       "    }\n",
       "\n",
       "    .dataframe tbody tr th {\n",
       "        vertical-align: top;\n",
       "    }\n",
       "\n",
       "    .dataframe thead th {\n",
       "        text-align: right;\n",
       "    }\n",
       "</style>\n",
       "<table border=\"1\" class=\"dataframe\">\n",
       "  <thead>\n",
       "    <tr style=\"text-align: right;\">\n",
       "      <th></th>\n",
       "      <th>name</th>\n",
       "      <th>jumin7</th>\n",
       "      <th>gender</th>\n",
       "      <th>height</th>\n",
       "      <th>age</th>\n",
       "      <th>blood_type</th>\n",
       "      <th>company</th>\n",
       "      <th>grades</th>\n",
       "      <th>salary</th>\n",
       "      <th>expenditure</th>\n",
       "      <th>car_type</th>\n",
       "    </tr>\n",
       "  </thead>\n",
       "  <tbody>\n",
       "    <tr>\n",
       "      <th>0</th>\n",
       "      <td>hkd10</td>\n",
       "      <td>900303-2</td>\n",
       "      <td>F</td>\n",
       "      <td>169.4</td>\n",
       "      <td>31</td>\n",
       "      <td>A</td>\n",
       "      <td>A</td>\n",
       "      <td>B</td>\n",
       "      <td>4720</td>\n",
       "      <td>2970</td>\n",
       "      <td>SS</td>\n",
       "    </tr>\n",
       "    <tr>\n",
       "      <th>1</th>\n",
       "      <td>hkd100</td>\n",
       "      <td>681205-2</td>\n",
       "      <td>F</td>\n",
       "      <td>168.3</td>\n",
       "      <td>55</td>\n",
       "      <td>A</td>\n",
       "      <td>A</td>\n",
       "      <td>B</td>\n",
       "      <td>7280</td>\n",
       "      <td>5905</td>\n",
       "      <td>MM</td>\n",
       "    </tr>\n",
       "    <tr>\n",
       "      <th>2</th>\n",
       "      <td>hkd101</td>\n",
       "      <td>931226-2</td>\n",
       "      <td>F</td>\n",
       "      <td>155.3</td>\n",
       "      <td>28</td>\n",
       "      <td>AB</td>\n",
       "      <td>B</td>\n",
       "      <td>B</td>\n",
       "      <td>4060</td>\n",
       "      <td>2935</td>\n",
       "      <td>SS</td>\n",
       "    </tr>\n",
       "    <tr>\n",
       "      <th>3</th>\n",
       "      <td>hkd102</td>\n",
       "      <td>920123-1</td>\n",
       "      <td>M</td>\n",
       "      <td>188.6</td>\n",
       "      <td>29</td>\n",
       "      <td>O</td>\n",
       "      <td>B</td>\n",
       "      <td>F</td>\n",
       "      <td>4390</td>\n",
       "      <td>4015</td>\n",
       "      <td>SS</td>\n",
       "    </tr>\n",
       "    <tr>\n",
       "      <th>4</th>\n",
       "      <td>hkd103</td>\n",
       "      <td>910215-2</td>\n",
       "      <td>F</td>\n",
       "      <td>150.2</td>\n",
       "      <td>30</td>\n",
       "      <td>A</td>\n",
       "      <td>B</td>\n",
       "      <td>A</td>\n",
       "      <td>3290</td>\n",
       "      <td>1915</td>\n",
       "      <td>SS</td>\n",
       "    </tr>\n",
       "    <tr>\n",
       "      <th>...</th>\n",
       "      <td>...</td>\n",
       "      <td>...</td>\n",
       "      <td>...</td>\n",
       "      <td>...</td>\n",
       "      <td>...</td>\n",
       "      <td>...</td>\n",
       "      <td>...</td>\n",
       "      <td>...</td>\n",
       "      <td>...</td>\n",
       "      <td>...</td>\n",
       "      <td>...</td>\n",
       "    </tr>\n",
       "    <tr>\n",
       "      <th>231</th>\n",
       "      <td>hkd95</td>\n",
       "      <td>730710-2</td>\n",
       "      <td>F</td>\n",
       "      <td>157.8</td>\n",
       "      <td>50</td>\n",
       "      <td>A</td>\n",
       "      <td>A</td>\n",
       "      <td>A</td>\n",
       "      <td>6990</td>\n",
       "      <td>4865</td>\n",
       "      <td>MM</td>\n",
       "    </tr>\n",
       "    <tr>\n",
       "      <th>232</th>\n",
       "      <td>hkd96</td>\n",
       "      <td>720805-2</td>\n",
       "      <td>F</td>\n",
       "      <td>150.4</td>\n",
       "      <td>51</td>\n",
       "      <td>O</td>\n",
       "      <td>A</td>\n",
       "      <td>A</td>\n",
       "      <td>7110</td>\n",
       "      <td>4985</td>\n",
       "      <td>MM</td>\n",
       "    </tr>\n",
       "    <tr>\n",
       "      <th>233</th>\n",
       "      <td>hkd97</td>\n",
       "      <td>710929-1</td>\n",
       "      <td>M</td>\n",
       "      <td>172.4</td>\n",
       "      <td>52</td>\n",
       "      <td>A</td>\n",
       "      <td>A</td>\n",
       "      <td>B</td>\n",
       "      <td>8000</td>\n",
       "      <td>6625</td>\n",
       "      <td>MM</td>\n",
       "    </tr>\n",
       "    <tr>\n",
       "      <th>234</th>\n",
       "      <td>hkd98</td>\n",
       "      <td>701024-1</td>\n",
       "      <td>M</td>\n",
       "      <td>166.7</td>\n",
       "      <td>53</td>\n",
       "      <td>O</td>\n",
       "      <td>A</td>\n",
       "      <td>B</td>\n",
       "      <td>8760</td>\n",
       "      <td>7385</td>\n",
       "      <td>LL</td>\n",
       "    </tr>\n",
       "    <tr>\n",
       "      <th>235</th>\n",
       "      <td>hkd99</td>\n",
       "      <td>691115-2</td>\n",
       "      <td>F</td>\n",
       "      <td>152.6</td>\n",
       "      <td>54</td>\n",
       "      <td>B</td>\n",
       "      <td>A</td>\n",
       "      <td>B</td>\n",
       "      <td>7470</td>\n",
       "      <td>6095</td>\n",
       "      <td>MM</td>\n",
       "    </tr>\n",
       "  </tbody>\n",
       "</table>\n",
       "<p>236 rows × 11 columns</p>\n",
       "</div>"
      ],
      "text/plain": [
       "       name    jumin7 gender  height  age blood_type company grades  salary  \\\n",
       "0     hkd10  900303-2      F   169.4   31          A       A      B    4720   \n",
       "1    hkd100  681205-2      F   168.3   55          A       A      B    7280   \n",
       "2    hkd101  931226-2      F   155.3   28         AB       B      B    4060   \n",
       "3    hkd102  920123-1      M   188.6   29          O       B      F    4390   \n",
       "4    hkd103  910215-2      F   150.2   30          A       B      A    3290   \n",
       "..      ...       ...    ...     ...  ...        ...     ...    ...     ...   \n",
       "231   hkd95  730710-2      F   157.8   50          A       A      A    6990   \n",
       "232   hkd96  720805-2      F   150.4   51          O       A      A    7110   \n",
       "233   hkd97  710929-1      M   172.4   52          A       A      B    8000   \n",
       "234   hkd98  701024-1      M   166.7   53          O       A      B    8760   \n",
       "235   hkd99  691115-2      F   152.6   54          B       A      B    7470   \n",
       "\n",
       "     expenditure car_type  \n",
       "0           2970       SS  \n",
       "1           5905       MM  \n",
       "2           2935       SS  \n",
       "3           4015       SS  \n",
       "4           1915       SS  \n",
       "..           ...      ...  \n",
       "231         4865       MM  \n",
       "232         4985       MM  \n",
       "233         6625       MM  \n",
       "234         7385       LL  \n",
       "235         6095       MM  \n",
       "\n",
       "[236 rows x 11 columns]"
      ]
     },
     "execution_count": 111,
     "metadata": {},
     "output_type": "execute_result"
    }
   ],
   "source": [
    "# 파일 로딩\n",
    "basetable1"
   ]
  },
  {
   "cell_type": "code",
   "execution_count": 116,
   "metadata": {},
   "outputs": [
    {
     "data": {
      "text/html": [
       "<div>\n",
       "<style scoped>\n",
       "    .dataframe tbody tr th:only-of-type {\n",
       "        vertical-align: middle;\n",
       "    }\n",
       "\n",
       "    .dataframe tbody tr th {\n",
       "        vertical-align: top;\n",
       "    }\n",
       "\n",
       "    .dataframe thead th {\n",
       "        text-align: right;\n",
       "    }\n",
       "</style>\n",
       "<table border=\"1\" class=\"dataframe\">\n",
       "  <thead>\n",
       "    <tr style=\"text-align: right;\">\n",
       "      <th></th>\n",
       "      <th>car_type</th>\n",
       "      <th>height</th>\n",
       "      <th>age</th>\n",
       "      <th>salary</th>\n",
       "      <th>expenditure</th>\n",
       "      <th>gender_F</th>\n",
       "      <th>gender_M</th>\n",
       "      <th>company_A</th>\n",
       "      <th>company_B</th>\n",
       "      <th>company_C</th>\n",
       "    </tr>\n",
       "  </thead>\n",
       "  <tbody>\n",
       "    <tr>\n",
       "      <th>0</th>\n",
       "      <td>SS</td>\n",
       "      <td>169.4</td>\n",
       "      <td>31</td>\n",
       "      <td>4720</td>\n",
       "      <td>2970</td>\n",
       "      <td>1</td>\n",
       "      <td>0</td>\n",
       "      <td>1</td>\n",
       "      <td>0</td>\n",
       "      <td>0</td>\n",
       "    </tr>\n",
       "    <tr>\n",
       "      <th>1</th>\n",
       "      <td>MM</td>\n",
       "      <td>168.3</td>\n",
       "      <td>55</td>\n",
       "      <td>7280</td>\n",
       "      <td>5905</td>\n",
       "      <td>1</td>\n",
       "      <td>0</td>\n",
       "      <td>1</td>\n",
       "      <td>0</td>\n",
       "      <td>0</td>\n",
       "    </tr>\n",
       "    <tr>\n",
       "      <th>2</th>\n",
       "      <td>SS</td>\n",
       "      <td>155.3</td>\n",
       "      <td>28</td>\n",
       "      <td>4060</td>\n",
       "      <td>2935</td>\n",
       "      <td>1</td>\n",
       "      <td>0</td>\n",
       "      <td>0</td>\n",
       "      <td>1</td>\n",
       "      <td>0</td>\n",
       "    </tr>\n",
       "    <tr>\n",
       "      <th>3</th>\n",
       "      <td>SS</td>\n",
       "      <td>188.6</td>\n",
       "      <td>29</td>\n",
       "      <td>4390</td>\n",
       "      <td>4015</td>\n",
       "      <td>0</td>\n",
       "      <td>1</td>\n",
       "      <td>0</td>\n",
       "      <td>1</td>\n",
       "      <td>0</td>\n",
       "    </tr>\n",
       "    <tr>\n",
       "      <th>4</th>\n",
       "      <td>SS</td>\n",
       "      <td>150.2</td>\n",
       "      <td>30</td>\n",
       "      <td>3290</td>\n",
       "      <td>1915</td>\n",
       "      <td>1</td>\n",
       "      <td>0</td>\n",
       "      <td>0</td>\n",
       "      <td>1</td>\n",
       "      <td>0</td>\n",
       "    </tr>\n",
       "    <tr>\n",
       "      <th>...</th>\n",
       "      <td>...</td>\n",
       "      <td>...</td>\n",
       "      <td>...</td>\n",
       "      <td>...</td>\n",
       "      <td>...</td>\n",
       "      <td>...</td>\n",
       "      <td>...</td>\n",
       "      <td>...</td>\n",
       "      <td>...</td>\n",
       "      <td>...</td>\n",
       "    </tr>\n",
       "    <tr>\n",
       "      <th>231</th>\n",
       "      <td>MM</td>\n",
       "      <td>157.8</td>\n",
       "      <td>50</td>\n",
       "      <td>6990</td>\n",
       "      <td>4865</td>\n",
       "      <td>1</td>\n",
       "      <td>0</td>\n",
       "      <td>1</td>\n",
       "      <td>0</td>\n",
       "      <td>0</td>\n",
       "    </tr>\n",
       "    <tr>\n",
       "      <th>232</th>\n",
       "      <td>MM</td>\n",
       "      <td>150.4</td>\n",
       "      <td>51</td>\n",
       "      <td>7110</td>\n",
       "      <td>4985</td>\n",
       "      <td>1</td>\n",
       "      <td>0</td>\n",
       "      <td>1</td>\n",
       "      <td>0</td>\n",
       "      <td>0</td>\n",
       "    </tr>\n",
       "    <tr>\n",
       "      <th>233</th>\n",
       "      <td>MM</td>\n",
       "      <td>172.4</td>\n",
       "      <td>52</td>\n",
       "      <td>8000</td>\n",
       "      <td>6625</td>\n",
       "      <td>0</td>\n",
       "      <td>1</td>\n",
       "      <td>1</td>\n",
       "      <td>0</td>\n",
       "      <td>0</td>\n",
       "    </tr>\n",
       "    <tr>\n",
       "      <th>234</th>\n",
       "      <td>LL</td>\n",
       "      <td>166.7</td>\n",
       "      <td>53</td>\n",
       "      <td>8760</td>\n",
       "      <td>7385</td>\n",
       "      <td>0</td>\n",
       "      <td>1</td>\n",
       "      <td>1</td>\n",
       "      <td>0</td>\n",
       "      <td>0</td>\n",
       "    </tr>\n",
       "    <tr>\n",
       "      <th>235</th>\n",
       "      <td>MM</td>\n",
       "      <td>152.6</td>\n",
       "      <td>54</td>\n",
       "      <td>7470</td>\n",
       "      <td>6095</td>\n",
       "      <td>1</td>\n",
       "      <td>0</td>\n",
       "      <td>1</td>\n",
       "      <td>0</td>\n",
       "      <td>0</td>\n",
       "    </tr>\n",
       "  </tbody>\n",
       "</table>\n",
       "<p>236 rows × 10 columns</p>\n",
       "</div>"
      ],
      "text/plain": [
       "    car_type  height  age  salary  expenditure  gender_F  gender_M  company_A  \\\n",
       "0         SS   169.4   31    4720         2970         1         0          1   \n",
       "1         MM   168.3   55    7280         5905         1         0          1   \n",
       "2         SS   155.3   28    4060         2935         1         0          0   \n",
       "3         SS   188.6   29    4390         4015         0         1          0   \n",
       "4         SS   150.2   30    3290         1915         1         0          0   \n",
       "..       ...     ...  ...     ...          ...       ...       ...        ...   \n",
       "231       MM   157.8   50    6990         4865         1         0          1   \n",
       "232       MM   150.4   51    7110         4985         1         0          1   \n",
       "233       MM   172.4   52    8000         6625         0         1          1   \n",
       "234       LL   166.7   53    8760         7385         0         1          1   \n",
       "235       MM   152.6   54    7470         6095         1         0          1   \n",
       "\n",
       "     company_B  company_C  \n",
       "0            0          0  \n",
       "1            0          0  \n",
       "2            1          0  \n",
       "3            1          0  \n",
       "4            1          0  \n",
       "..         ...        ...  \n",
       "231          0          0  \n",
       "232          0          0  \n",
       "233          0          0  \n",
       "234          0          0  \n",
       "235          0          0  \n",
       "\n",
       "[236 rows x 10 columns]"
      ]
     },
     "execution_count": 116,
     "metadata": {},
     "output_type": "execute_result"
    }
   ],
   "source": [
    "# dummy ('gender', 'company')\n",
    "df_hk3 = basetable1\n",
    "df_hk3 = df_hk3[['car_type', 'gender', 'height', 'age', 'salary', 'expenditure', 'company']]\n",
    "df_hk3 = pd.get_dummies(data=df_hk3, columns=['gender','company'])\n",
    "df_hk3"
   ]
  },
  {
   "cell_type": "code",
   "execution_count": 115,
   "metadata": {},
   "outputs": [
    {
     "data": {
      "text/html": [
       "<div>\n",
       "<style scoped>\n",
       "    .dataframe tbody tr th:only-of-type {\n",
       "        vertical-align: middle;\n",
       "    }\n",
       "\n",
       "    .dataframe tbody tr th {\n",
       "        vertical-align: top;\n",
       "    }\n",
       "\n",
       "    .dataframe thead th {\n",
       "        text-align: right;\n",
       "    }\n",
       "</style>\n",
       "<table border=\"1\" class=\"dataframe\">\n",
       "  <thead>\n",
       "    <tr style=\"text-align: right;\">\n",
       "      <th></th>\n",
       "      <th>car_type</th>\n",
       "      <th>gender</th>\n",
       "      <th>height</th>\n",
       "      <th>age</th>\n",
       "      <th>salary</th>\n",
       "      <th>expenditure</th>\n",
       "      <th>company</th>\n",
       "    </tr>\n",
       "  </thead>\n",
       "  <tbody>\n",
       "    <tr>\n",
       "      <th>0</th>\n",
       "      <td>SS</td>\n",
       "      <td>F</td>\n",
       "      <td>169.4</td>\n",
       "      <td>31</td>\n",
       "      <td>4720</td>\n",
       "      <td>2970</td>\n",
       "      <td>A</td>\n",
       "    </tr>\n",
       "    <tr>\n",
       "      <th>1</th>\n",
       "      <td>MM</td>\n",
       "      <td>F</td>\n",
       "      <td>168.3</td>\n",
       "      <td>55</td>\n",
       "      <td>7280</td>\n",
       "      <td>5905</td>\n",
       "      <td>A</td>\n",
       "    </tr>\n",
       "    <tr>\n",
       "      <th>2</th>\n",
       "      <td>SS</td>\n",
       "      <td>F</td>\n",
       "      <td>155.3</td>\n",
       "      <td>28</td>\n",
       "      <td>4060</td>\n",
       "      <td>2935</td>\n",
       "      <td>B</td>\n",
       "    </tr>\n",
       "    <tr>\n",
       "      <th>3</th>\n",
       "      <td>SS</td>\n",
       "      <td>M</td>\n",
       "      <td>188.6</td>\n",
       "      <td>29</td>\n",
       "      <td>4390</td>\n",
       "      <td>4015</td>\n",
       "      <td>B</td>\n",
       "    </tr>\n",
       "    <tr>\n",
       "      <th>4</th>\n",
       "      <td>SS</td>\n",
       "      <td>F</td>\n",
       "      <td>150.2</td>\n",
       "      <td>30</td>\n",
       "      <td>3290</td>\n",
       "      <td>1915</td>\n",
       "      <td>B</td>\n",
       "    </tr>\n",
       "    <tr>\n",
       "      <th>...</th>\n",
       "      <td>...</td>\n",
       "      <td>...</td>\n",
       "      <td>...</td>\n",
       "      <td>...</td>\n",
       "      <td>...</td>\n",
       "      <td>...</td>\n",
       "      <td>...</td>\n",
       "    </tr>\n",
       "    <tr>\n",
       "      <th>231</th>\n",
       "      <td>MM</td>\n",
       "      <td>F</td>\n",
       "      <td>157.8</td>\n",
       "      <td>50</td>\n",
       "      <td>6990</td>\n",
       "      <td>4865</td>\n",
       "      <td>A</td>\n",
       "    </tr>\n",
       "    <tr>\n",
       "      <th>232</th>\n",
       "      <td>MM</td>\n",
       "      <td>F</td>\n",
       "      <td>150.4</td>\n",
       "      <td>51</td>\n",
       "      <td>7110</td>\n",
       "      <td>4985</td>\n",
       "      <td>A</td>\n",
       "    </tr>\n",
       "    <tr>\n",
       "      <th>233</th>\n",
       "      <td>MM</td>\n",
       "      <td>M</td>\n",
       "      <td>172.4</td>\n",
       "      <td>52</td>\n",
       "      <td>8000</td>\n",
       "      <td>6625</td>\n",
       "      <td>A</td>\n",
       "    </tr>\n",
       "    <tr>\n",
       "      <th>234</th>\n",
       "      <td>LL</td>\n",
       "      <td>M</td>\n",
       "      <td>166.7</td>\n",
       "      <td>53</td>\n",
       "      <td>8760</td>\n",
       "      <td>7385</td>\n",
       "      <td>A</td>\n",
       "    </tr>\n",
       "    <tr>\n",
       "      <th>235</th>\n",
       "      <td>MM</td>\n",
       "      <td>F</td>\n",
       "      <td>152.6</td>\n",
       "      <td>54</td>\n",
       "      <td>7470</td>\n",
       "      <td>6095</td>\n",
       "      <td>A</td>\n",
       "    </tr>\n",
       "  </tbody>\n",
       "</table>\n",
       "<p>236 rows × 7 columns</p>\n",
       "</div>"
      ],
      "text/plain": [
       "    car_type gender  height  age  salary  expenditure company\n",
       "0         SS      F   169.4   31    4720         2970       A\n",
       "1         MM      F   168.3   55    7280         5905       A\n",
       "2         SS      F   155.3   28    4060         2935       B\n",
       "3         SS      M   188.6   29    4390         4015       B\n",
       "4         SS      F   150.2   30    3290         1915       B\n",
       "..       ...    ...     ...  ...     ...          ...     ...\n",
       "231       MM      F   157.8   50    6990         4865       A\n",
       "232       MM      F   150.4   51    7110         4985       A\n",
       "233       MM      M   172.4   52    8000         6625       A\n",
       "234       LL      M   166.7   53    8760         7385       A\n",
       "235       MM      F   152.6   54    7470         6095       A\n",
       "\n",
       "[236 rows x 7 columns]"
      ]
     },
     "execution_count": 115,
     "metadata": {},
     "output_type": "execute_result"
    }
   ],
   "source": [
    "df_hk3"
   ]
  },
  {
   "cell_type": "code",
   "execution_count": 117,
   "metadata": {},
   "outputs": [],
   "source": [
    "# train_test_split\n",
    "from sklearn.model_selection import train_test_split\n",
    "train_df_hk_3, test_df_hk_3 = train_test_split( df_hk3, random_state=123, train_size=0.7)"
   ]
  },
  {
   "cell_type": "code",
   "execution_count": 118,
   "metadata": {},
   "outputs": [],
   "source": [
    "# DecisionTreeClassifier 호출\n",
    "\n",
    "from sklearn.tree import DecisionTreeClassifier\n",
    "from sklearn.tree import DecisionTreeClassifier"
   ]
  },
  {
   "cell_type": "code",
   "execution_count": 120,
   "metadata": {},
   "outputs": [
    {
     "data": {
      "text/plain": [
       "DecisionTreeClassifier(max_depth=6, min_samples_split=5, random_state=1234)"
      ]
     },
     "execution_count": 120,
     "metadata": {},
     "output_type": "execute_result"
    }
   ],
   "source": [
    "# feature_importances_  종속변수(car_type에 영향을 미치는 정도) -> feature_importances_로 분기 한다\n",
    "model_3 = DecisionTreeClassifier(max_depth=6, min_samples_split=5, random_state=1234)\n",
    "model_3.fit(X = train_df_hk_3.drop('car_type', axis=1),\n",
    "           y = train_df_hk_3['car_type'])"
   ]
  },
  {
   "cell_type": "code",
   "execution_count": 125,
   "metadata": {},
   "outputs": [
    {
     "data": {
      "text/html": [
       "<div>\n",
       "<style scoped>\n",
       "    .dataframe tbody tr th:only-of-type {\n",
       "        vertical-align: middle;\n",
       "    }\n",
       "\n",
       "    .dataframe tbody tr th {\n",
       "        vertical-align: top;\n",
       "    }\n",
       "\n",
       "    .dataframe thead th {\n",
       "        text-align: right;\n",
       "    }\n",
       "</style>\n",
       "<table border=\"1\" class=\"dataframe\">\n",
       "  <thead>\n",
       "    <tr style=\"text-align: right;\">\n",
       "      <th></th>\n",
       "      <th>feature_importances</th>\n",
       "      <th>feature_name</th>\n",
       "    </tr>\n",
       "  </thead>\n",
       "  <tbody>\n",
       "    <tr>\n",
       "      <th>3</th>\n",
       "      <td>0.674294</td>\n",
       "      <td>expenditure</td>\n",
       "    </tr>\n",
       "    <tr>\n",
       "      <th>1</th>\n",
       "      <td>0.167044</td>\n",
       "      <td>age</td>\n",
       "    </tr>\n",
       "    <tr>\n",
       "      <th>2</th>\n",
       "      <td>0.081095</td>\n",
       "      <td>salary</td>\n",
       "    </tr>\n",
       "    <tr>\n",
       "      <th>0</th>\n",
       "      <td>0.041109</td>\n",
       "      <td>height</td>\n",
       "    </tr>\n",
       "    <tr>\n",
       "      <th>7</th>\n",
       "      <td>0.019378</td>\n",
       "      <td>company_B</td>\n",
       "    </tr>\n",
       "    <tr>\n",
       "      <th>6</th>\n",
       "      <td>0.017080</td>\n",
       "      <td>company_A</td>\n",
       "    </tr>\n",
       "    <tr>\n",
       "      <th>4</th>\n",
       "      <td>0.000000</td>\n",
       "      <td>gender_F</td>\n",
       "    </tr>\n",
       "    <tr>\n",
       "      <th>5</th>\n",
       "      <td>0.000000</td>\n",
       "      <td>gender_M</td>\n",
       "    </tr>\n",
       "    <tr>\n",
       "      <th>8</th>\n",
       "      <td>0.000000</td>\n",
       "      <td>company_C</td>\n",
       "    </tr>\n",
       "  </tbody>\n",
       "</table>\n",
       "</div>"
      ],
      "text/plain": [
       "   feature_importances feature_name\n",
       "3             0.674294  expenditure\n",
       "1             0.167044          age\n",
       "2             0.081095       salary\n",
       "0             0.041109       height\n",
       "7             0.019378    company_B\n",
       "6             0.017080    company_A\n",
       "4             0.000000     gender_F\n",
       "5             0.000000     gender_M\n",
       "8             0.000000    company_C"
      ]
     },
     "execution_count": 125,
     "metadata": {},
     "output_type": "execute_result"
    }
   ],
   "source": [
    "# feature_importances_\n",
    "model_imp = pd.DataFrame({'feature_importances' : model_3.feature_importances_,\n",
    "              'feature_name': ['height','age','salary','expenditure','gender_F','gender_M','company_A','company_B','company_C']}).sort_values('feature_importances', ascending=False)\n",
    "model_imp"
   ]
  },
  {
   "cell_type": "code",
   "execution_count": 128,
   "metadata": {},
   "outputs": [
    {
     "data": {
      "image/png": "[encoded data removed]",
      "text/plain": [
       "<Figure size 432x288 with 1 Axes>"
      ]
     },
     "metadata": {
      "needs_background": "light"
     },
     "output_type": "display_data"
    }
   ],
   "source": [
    "# feature_importances_시각화\n",
    "sns.barplot( x='feature_importances', y='feature_name', data=model_imp.head(10))\n",
    "plt.show()"
   ]
  },
  {
   "cell_type": "code",
   "execution_count": 136,
   "metadata": {
    "scrolled": true
   },
   "outputs": [
    {
     "data": {
      "image/png": "[encoded data removed]",
      "text/plain": [
       "<Figure size 2880x720 with 1 Axes>"
      ]
     },
     "metadata": {
      "needs_background": "light"
     },
     "output_type": "display_data"
    }
   ],
   "source": [
    "# plot_tree 시각화\n",
    "from sklearn.tree import plot_tree\n",
    "plt.figure(figsize=(40,10))\n",
    "a = plot_tree(model_3, \n",
    "              feature_names= ['height','age','salary','expenditure','gender_F','gender_M','company_A','company_B','company_C'],          # feature_names display\n",
    "              class_names =  train_df_hk_3['car_type'].unique(), # class_names display\n",
    "              filled=True,                                       # color\n",
    "              rounded=True,\n",
    "              max_depth= 4,                                      # display max_depth= 4\n",
    "              fontsize=14)"
   ]
  },
  {
   "cell_type": "code",
   "execution_count": 139,
   "metadata": {},
   "outputs": [
    {
     "data": {
      "text/html": [
       "<div>\n",
       "<style scoped>\n",
       "    .dataframe tbody tr th:only-of-type {\n",
       "        vertical-align: middle;\n",
       "    }\n",
       "\n",
       "    .dataframe tbody tr th {\n",
       "        vertical-align: top;\n",
       "    }\n",
       "\n",
       "    .dataframe thead th {\n",
       "        text-align: right;\n",
       "    }\n",
       "</style>\n",
       "<table border=\"1\" class=\"dataframe\">\n",
       "  <thead>\n",
       "    <tr style=\"text-align: right;\">\n",
       "      <th></th>\n",
       "      <th>car_type</th>\n",
       "      <th>height</th>\n",
       "      <th>age</th>\n",
       "      <th>salary</th>\n",
       "      <th>expenditure</th>\n",
       "      <th>gender_F</th>\n",
       "      <th>gender_M</th>\n",
       "      <th>company_A</th>\n",
       "      <th>company_B</th>\n",
       "      <th>company_C</th>\n",
       "    </tr>\n",
       "  </thead>\n",
       "  <tbody>\n",
       "    <tr>\n",
       "      <th>41</th>\n",
       "      <td>SS</td>\n",
       "      <td>186.4</td>\n",
       "      <td>32</td>\n",
       "      <td>3680</td>\n",
       "      <td>2305</td>\n",
       "      <td>0</td>\n",
       "      <td>1</td>\n",
       "      <td>0</td>\n",
       "      <td>1</td>\n",
       "      <td>0</td>\n",
       "    </tr>\n",
       "    <tr>\n",
       "      <th>222</th>\n",
       "      <td>SS</td>\n",
       "      <td>164.4</td>\n",
       "      <td>42</td>\n",
       "      <td>4600</td>\n",
       "      <td>3225</td>\n",
       "      <td>1</td>\n",
       "      <td>0</td>\n",
       "      <td>1</td>\n",
       "      <td>0</td>\n",
       "      <td>0</td>\n",
       "    </tr>\n",
       "    <tr>\n",
       "      <th>80</th>\n",
       "      <td>SS</td>\n",
       "      <td>163.5</td>\n",
       "      <td>48</td>\n",
       "      <td>5420</td>\n",
       "      <td>4045</td>\n",
       "      <td>1</td>\n",
       "      <td>0</td>\n",
       "      <td>0</td>\n",
       "      <td>1</td>\n",
       "      <td>0</td>\n",
       "    </tr>\n",
       "    <tr>\n",
       "      <th>221</th>\n",
       "      <td>MM</td>\n",
       "      <td>151.3</td>\n",
       "      <td>41</td>\n",
       "      <td>5650</td>\n",
       "      <td>3525</td>\n",
       "      <td>1</td>\n",
       "      <td>0</td>\n",
       "      <td>1</td>\n",
       "      <td>0</td>\n",
       "      <td>0</td>\n",
       "    </tr>\n",
       "    <tr>\n",
       "      <th>196</th>\n",
       "      <td>SS</td>\n",
       "      <td>165.2</td>\n",
       "      <td>42</td>\n",
       "      <td>4620</td>\n",
       "      <td>3495</td>\n",
       "      <td>1</td>\n",
       "      <td>0</td>\n",
       "      <td>1</td>\n",
       "      <td>0</td>\n",
       "      <td>0</td>\n",
       "    </tr>\n",
       "    <tr>\n",
       "      <th>...</th>\n",
       "      <td>...</td>\n",
       "      <td>...</td>\n",
       "      <td>...</td>\n",
       "      <td>...</td>\n",
       "      <td>...</td>\n",
       "      <td>...</td>\n",
       "      <td>...</td>\n",
       "      <td>...</td>\n",
       "      <td>...</td>\n",
       "      <td>...</td>\n",
       "    </tr>\n",
       "    <tr>\n",
       "      <th>83</th>\n",
       "      <td>SS</td>\n",
       "      <td>166.8</td>\n",
       "      <td>36</td>\n",
       "      <td>5160</td>\n",
       "      <td>3785</td>\n",
       "      <td>0</td>\n",
       "      <td>1</td>\n",
       "      <td>0</td>\n",
       "      <td>1</td>\n",
       "      <td>0</td>\n",
       "    </tr>\n",
       "    <tr>\n",
       "      <th>17</th>\n",
       "      <td>SS</td>\n",
       "      <td>153.7</td>\n",
       "      <td>37</td>\n",
       "      <td>4450</td>\n",
       "      <td>3075</td>\n",
       "      <td>1</td>\n",
       "      <td>0</td>\n",
       "      <td>0</td>\n",
       "      <td>1</td>\n",
       "      <td>0</td>\n",
       "    </tr>\n",
       "    <tr>\n",
       "      <th>98</th>\n",
       "      <td>SS</td>\n",
       "      <td>170.0</td>\n",
       "      <td>39</td>\n",
       "      <td>5300</td>\n",
       "      <td>3925</td>\n",
       "      <td>1</td>\n",
       "      <td>0</td>\n",
       "      <td>0</td>\n",
       "      <td>1</td>\n",
       "      <td>0</td>\n",
       "    </tr>\n",
       "    <tr>\n",
       "      <th>220</th>\n",
       "      <td>MM</td>\n",
       "      <td>165.0</td>\n",
       "      <td>40</td>\n",
       "      <td>4740</td>\n",
       "      <td>3365</td>\n",
       "      <td>1</td>\n",
       "      <td>0</td>\n",
       "      <td>1</td>\n",
       "      <td>0</td>\n",
       "      <td>0</td>\n",
       "    </tr>\n",
       "    <tr>\n",
       "      <th>66</th>\n",
       "      <td>MM</td>\n",
       "      <td>166.2</td>\n",
       "      <td>35</td>\n",
       "      <td>4960</td>\n",
       "      <td>3835</td>\n",
       "      <td>0</td>\n",
       "      <td>1</td>\n",
       "      <td>0</td>\n",
       "      <td>1</td>\n",
       "      <td>0</td>\n",
       "    </tr>\n",
       "  </tbody>\n",
       "</table>\n",
       "<p>69 rows × 10 columns</p>\n",
       "</div>"
      ],
      "text/plain": [
       "    car_type  height  age  salary  expenditure  gender_F  gender_M  company_A  \\\n",
       "41        SS   186.4   32    3680         2305         0         1          0   \n",
       "222       SS   164.4   42    4600         3225         1         0          1   \n",
       "80        SS   163.5   48    5420         4045         1         0          0   \n",
       "221       MM   151.3   41    5650         3525         1         0          1   \n",
       "196       SS   165.2   42    4620         3495         1         0          1   \n",
       "..       ...     ...  ...     ...          ...       ...       ...        ...   \n",
       "83        SS   166.8   36    5160         3785         0         1          0   \n",
       "17        SS   153.7   37    4450         3075         1         0          0   \n",
       "98        SS   170.0   39    5300         3925         1         0          0   \n",
       "220       MM   165.0   40    4740         3365         1         0          1   \n",
       "66        MM   166.2   35    4960         3835         0         1          0   \n",
       "\n",
       "     company_B  company_C  \n",
       "41           1          0  \n",
       "222          0          0  \n",
       "80           1          0  \n",
       "221          0          0  \n",
       "196          0          0  \n",
       "..         ...        ...  \n",
       "83           1          0  \n",
       "17           1          0  \n",
       "98           1          0  \n",
       "220          0          0  \n",
       "66           1          0  \n",
       "\n",
       "[69 rows x 10 columns]"
      ]
     },
     "execution_count": 139,
     "metadata": {},
     "output_type": "execute_result"
    }
   ],
   "source": [
    "# 최초 165개 데이터셋 중 expenditure <= 4242.5 69개 샘플 \n",
    "split1 = train_df_hk_3.loc[train_df_hk_3['expenditure'] <= 4242.5, :]\n",
    "split1"
   ]
  },
  {
   "cell_type": "code",
   "execution_count": 144,
   "metadata": {},
   "outputs": [
    {
     "data": {
      "text/plain": [
       "(49, 10)"
      ]
     },
     "execution_count": 144,
     "metadata": {},
     "output_type": "execute_result"
    }
   ],
   "source": [
    "#69개 데이터셋 중 age <= 37.5 인경우\n",
    "split2 = split1.loc[split1['age'] <= 37.5, :]\n",
    "split2.shape"
   ]
  },
  {
   "cell_type": "code",
   "execution_count": 145,
   "metadata": {},
   "outputs": [
    {
     "data": {
      "text/plain": [
       "(20, 10)"
      ]
     },
     "execution_count": 145,
     "metadata": {},
     "output_type": "execute_result"
    }
   ],
   "source": [
    "#69개 데이터셋 중 age > 37.5 인경우\n",
    "split3 = split1.loc[split1['age'] >= 37.5, :]\n",
    "split3.shape"
   ]
  },
  {
   "cell_type": "code",
   "execution_count": 147,
   "metadata": {},
   "outputs": [
    {
     "data": {
      "text/plain": [
       "array(['LL', 'MM', 'SS', 'MM', 'LL', 'SS', 'MM', 'MM', 'LL', 'SS', 'SS',\n",
       "       'SS', 'MM', 'MM', 'MM', 'MM', 'LL', 'SS', 'SS', 'MM', 'MM', 'LL',\n",
       "       'SS', 'MM', 'MM', 'LL', 'LL', 'LL', 'MM', 'MM', 'LL', 'MM', 'SS',\n",
       "       'LL', 'MM', 'MM', 'SS', 'MM', 'MM', 'MM', 'MM', 'SS', 'MM', 'LL',\n",
       "       'SS', 'MM', 'MM', 'LL', 'MM', 'SS', 'MM', 'LL', 'LL', 'SS', 'SS',\n",
       "       'SS', 'MM', 'LL', 'MM', 'MM', 'MM', 'LL', 'LL', 'SS', 'MM', 'MM',\n",
       "       'MM', 'LL', 'MM', 'MM', 'MM'], dtype=object)"
      ]
     },
     "execution_count": 147,
     "metadata": {},
     "output_type": "execute_result"
    }
   ],
   "source": [
    "# predict\n",
    "pred_tree_3 = model_3.predict(test_df_hk_3.drop('car_type', axis=1))\n",
    "pred_tree_3"
   ]
  },
  {
   "cell_type": "code",
   "execution_count": 149,
   "metadata": {
    "scrolled": false
   },
   "outputs": [
    {
     "name": "stdout",
     "output_type": "stream",
     "text": [
      "              precision    recall  f1-score   support\n",
      "\n",
      "          LL       0.56      0.67      0.61        15\n",
      "          MM       0.75      0.75      0.75        36\n",
      "          SS       0.94      0.80      0.86        20\n",
      "\n",
      "    accuracy                           0.75        71\n",
      "   macro avg       0.75      0.74      0.74        71\n",
      "weighted avg       0.76      0.75      0.75        71\n",
      "\n"
     ]
    }
   ],
   "source": [
    "# classification_report (tree)\n",
    "from sklearn.metrics import classification_report\n",
    "print(classification_report(y_true=test_df_hk_3['car_type'], y_pred=pred_tree_3))"
   ]
  },
  {
   "cell_type": "code",
   "execution_count": 150,
   "metadata": {},
   "outputs": [
    {
     "data": {
      "image/png": "[encoded data removed]",
      "text/plain": [
       "<Figure size 432x432 with 1 Axes>"
      ]
     },
     "metadata": {
      "needs_background": "light"
     },
     "output_type": "display_data"
    }
   ],
   "source": [
    "# skip\n",
    "# 시각화\n",
    "fig = plt.figure( figsize=(6,6))\n",
    "\n",
    "sns.scatterplot( x='age', y='expenditure', hue='car_type', data= train_df_hk_3)\n",
    "plt.show()"
   ]
  },
  {
   "cell_type": "markdown",
   "metadata": {},
   "source": [
    "## 3_2. $\\pi$(파이) Quiz Decision Tree (DecisionTreeRegressor)\n",
    "\n",
    "<br><실행순서>\n",
    "<br>basetable1을 사용\n",
    "<br>1.<b>종속변수</b> : expenditure\n",
    "<br>2.<b>독립변수</b> : gender, height, age, salary, company(명목변수 모두 더미변수화)\n",
    "<br>3.train_test_split(random_state=123, train_size=0.7)\n",
    "<br>4.test data에 대해 예측하고 mean_squared_error를 구하시오 \n",
    "<br>5.DecisionTreeRegressor사용 (DecisionTreeRegressor( max_depth= 4, min_samples_split= 5, random_state= 1234))"
   ]
  },
  {
   "cell_type": "code",
   "execution_count": 194,
   "metadata": {},
   "outputs": [],
   "source": [
    "# 파일 로딩\n",
    "df_hk4 = basetable1"
   ]
  },
  {
   "cell_type": "code",
   "execution_count": 195,
   "metadata": {},
   "outputs": [
    {
     "name": "stdout",
     "output_type": "stream",
     "text": [
      "mean_squared_error는 263370.70928513724\n"
     ]
    }
   ],
   "source": [
    "# max_depth= 4\n",
    "# dummy ('gender', 'company')\n",
    "df_hk3_2 = basetable1.copy()\n",
    "df_hk3_2 = df_hk3_2[[ 'expenditure', 'gender', 'height', 'age', 'salary', 'company']]\n",
    "df_hk3_2 = pd.get_dummies( df_hk3_2, columns=['gender', 'company'])\n",
    "df_hk3_2\n",
    "\n",
    "# train_test_split\n",
    "from sklearn.model_selection import train_test_split\n",
    "train_df_hk_3_2, test_df_hk_3_2 = train_test_split( df_hk3_2, random_state=123, train_size=0.7)\n",
    "train_df_hk_3_2[:2]\n",
    "\n",
    "# DecisionTreeRegressor 호출( max_depth= 4, min_samples_split= 5, random_state= 1234)\n",
    "from sklearn.tree import DecisionTreeRegressor\n",
    "model_3_2 = DecisionTreeRegressor( max_depth= 4, min_samples_split= 5, random_state= 1234)\n",
    "\n",
    "# fit\n",
    "model_3_2.fit( train_df_hk_3_2.drop('expenditure', axis=1), train_df_hk_3_2['expenditure'])\n",
    "\n",
    "# predict\n",
    "pred_tree_3_2 = model_3_2.predict( test_df_hk_3_2.drop('expenditure', axis=1))\n",
    "\n",
    "# 평가 report\n",
    "from sklearn.metrics import mean_squared_error\n",
    "print( 'mean_squared_error는', mean_squared_error( test_df_hk_3_2['expenditure'], pred_tree_3_2))"
   ]
  },
  {
   "cell_type": "code",
   "execution_count": 196,
   "metadata": {},
   "outputs": [
    {
     "name": "stdout",
     "output_type": "stream",
     "text": [
      "750392.6056338028\n"
     ]
    }
   ],
   "source": [
    "# max_depth= 4\n",
    "# dummy ('gender', 'company')\n",
    "# df_hk4 = df_hk4[['gender', 'height', 'age', 'salary', 'expenditure', 'company']]\n",
    "# df_hk4 = pd.get_dummies(data=df_hk4, columns=['gender','company'])\n",
    "\n",
    "# train_test_split\n",
    "# from sklearn.model_selection import train_test_split\n",
    "# train_df_4, test_df_4 = train_test_split(df_hk4,train_size=0.7,random_state=123)\n",
    "# DecisionTreeRegressor 호출( max_depth= 4, min_samples_split= 5, random_state= 1234)\n",
    "\n",
    "# fit\n",
    "\n",
    "# feature_importances_  종속변수(car_type에 영향을 미치는 정도) -> feature_importances_로 분기 한다\n",
    "model_4 = DecisionTreeClassifier(max_depth=4, min_samples_split=5, random_state=1234)\n",
    "model_4.fit(X = train_df_4.drop('expenditure', axis=1),\n",
    "           y = train_df_4['expenditure'])\n",
    "# predict\n",
    "pred_4 = model_4.predict(test_df_4.drop('expenditure', axis=1))\n",
    "# model_imp2 = pd.DataFrame({'feature_importances' : model_4.feature_importances_,\n",
    "#               'feature_name': ['height','age','salary','gender_F','gender_M','company_A','company_B','company_C']}).sort_values('feature_importances', ascending=False)\n",
    "# model_imp2\n",
    "# 평가 report\n",
    "from sklearn.metrics import mean_squared_error\n",
    "print(mean_squared_error(test_df_4['expenditure'],pred_4))"
   ]
  },
  {
   "cell_type": "code",
   "execution_count": 198,
   "metadata": {},
   "outputs": [
    {
     "data": {
      "image/png": "[encoded data removed]",
      "text/plain": [
       "<Figure size 432x288 with 1 Axes>"
      ]
     },
     "metadata": {
      "needs_background": "light"
     },
     "output_type": "display_data"
    }
   ],
   "source": [
    "# feature_importances_  종속변수(car_type에 영향을 미치는 정도) -> feature_importances_로 분기 한다\n",
    "model_imp_2 = pd.DataFrame({'feature_importances' : model_4.feature_importances_,\n",
    "              'feature_name': ['height','age','salary','gender_F','gender_M','company_A','company_B','company_C']}).sort_values('feature_importances', ascending=False)\n",
    "model_imp_2\n",
    "\n",
    "# feature_importances_\n",
    "\n",
    "# feature_importances_시각화\n",
    "sns.barplot( x='feature_importances', y='feature_name', data=model_imp_2.head(10))\n",
    "plt.show()"
   ]
  },
  {
   "cell_type": "code",
   "execution_count": 201,
   "metadata": {},
   "outputs": [
    {
     "ename": "TypeError",
     "evalue": "'DecisionTreeRegressor' object is not subscriptable",
     "output_type": "error",
     "traceback": [
      "\u001b[1;31m---------------------------------------------------------------------------\u001b[0m",
      "\u001b[1;31mTypeError\u001b[0m                                 Traceback (most recent call last)",
      "\u001b[1;32mC:\\Users\\Public\\Documents\\ESTsoft\\CreatorTemp/ipykernel_10972/1923896519.py\u001b[0m in \u001b[0;36m<module>\u001b[1;34m\u001b[0m\n\u001b[0;32m      3\u001b[0m \u001b[0mplt\u001b[0m\u001b[1;33m.\u001b[0m\u001b[0mfigure\u001b[0m\u001b[1;33m(\u001b[0m\u001b[0mfigsize\u001b[0m\u001b[1;33m=\u001b[0m\u001b[1;33m(\u001b[0m\u001b[1;36m25\u001b[0m\u001b[1;33m,\u001b[0m\u001b[1;36m10\u001b[0m\u001b[1;33m)\u001b[0m\u001b[1;33m)\u001b[0m\u001b[1;33m\u001b[0m\u001b[1;33m\u001b[0m\u001b[0m\n\u001b[0;32m      4\u001b[0m a = plot_tree(model_3_2, \n\u001b[1;32m----> 5\u001b[1;33m               \u001b[0mfeature_names\u001b[0m\u001b[1;33m=\u001b[0m \u001b[0mmodel_3_2\u001b[0m\u001b[1;33m[\u001b[0m\u001b[1;34m'height'\u001b[0m\u001b[1;33m,\u001b[0m\u001b[1;34m'age'\u001b[0m\u001b[1;33m,\u001b[0m\u001b[1;34m'salary'\u001b[0m\u001b[1;33m,\u001b[0m\u001b[1;34m'gender_F'\u001b[0m\u001b[1;33m,\u001b[0m\u001b[1;34m'gender_M'\u001b[0m\u001b[1;33m,\u001b[0m\u001b[1;34m'company_A'\u001b[0m\u001b[1;33m,\u001b[0m\u001b[1;34m'company_B'\u001b[0m\u001b[1;33m,\u001b[0m\u001b[1;34m'company_C'\u001b[0m\u001b[1;33m]\u001b[0m\u001b[1;33m,\u001b[0m\u001b[1;33m\u001b[0m\u001b[1;33m\u001b[0m\u001b[0m\n\u001b[0m\u001b[0;32m      6\u001b[0m               \u001b[0mclass_names\u001b[0m \u001b[1;33m=\u001b[0m  \u001b[0mtrain_df_hk_3_2\u001b[0m\u001b[1;33m[\u001b[0m\u001b[1;34m'expenditure'\u001b[0m\u001b[1;33m]\u001b[0m\u001b[1;33m.\u001b[0m\u001b[0munique\u001b[0m\u001b[1;33m(\u001b[0m\u001b[1;33m)\u001b[0m\u001b[1;33m,\u001b[0m\u001b[1;33m\u001b[0m\u001b[1;33m\u001b[0m\u001b[0m\n\u001b[0;32m      7\u001b[0m               \u001b[0mfilled\u001b[0m\u001b[1;33m=\u001b[0m\u001b[1;32mTrue\u001b[0m\u001b[1;33m,\u001b[0m\u001b[1;33m\u001b[0m\u001b[1;33m\u001b[0m\u001b[0m\n",
      "\u001b[1;31mTypeError\u001b[0m: 'DecisionTreeRegressor' object is not subscriptable"
     ]
    },
    {
     "data": {
      "text/plain": [
       "<Figure size 1800x720 with 0 Axes>"
      ]
     },
     "metadata": {},
     "output_type": "display_data"
    }
   ],
   "source": [
    "# plot_tree 시각화\n",
    "from sklearn.tree import plot_tree\n",
    "plt.figure(figsize=(25,10))\n",
    "a = plot_tree(model_3_2, \n",
    "              feature_names= model_3_2['height','age','salary','gender_F','gender_M','company_A','company_B','company_C'], \n",
    "              class_names =  train_df_hk_3_2['expenditure'].unique(), \n",
    "              filled=True, \n",
    "              rounded=True,\n",
    "              max_depth= 3, \n",
    "              fontsize=14)"
   ]
  },
  {
   "cell_type": "code",
   "execution_count": 202,
   "metadata": {
    "scrolled": false
   },
   "outputs": [
    {
     "data": {
      "image/png": "[encoded data removed]",
      "text/plain": [
       "<Figure size 1008x360 with 2 Axes>"
      ]
     },
     "metadata": {
      "needs_background": "light"
     },
     "output_type": "display_data"
    }
   ],
   "source": [
    "# 시각화 DecisionTreeRegressor\n",
    "fig, ax = plt.subplots( nrows= 1 , ncols=2, figsize=(14, 5))\n",
    "sns.scatterplot( x=test_df_hk_3_2['salary'], y=test_df_hk_3_2['expenditure'], palette='Set1', ax=ax[0] )\n",
    "sns.scatterplot( x=test_df_hk_3_2['salary'], y=pred_tree_3_2                , palette='Set2', ax=ax[1] )\n",
    "\n",
    "ax[0].set_title('expenditure')\n",
    "ax[1].set_title('predict_tree')\n",
    "plt.show()"
   ]
  },
  {
   "cell_type": "code",
   "execution_count": 207,
   "metadata": {},
   "outputs": [],
   "source": [
    "# max_depth= 7\n",
    "# dummy ('gender', 'company')\n",
    "df_hk3_2_7 = basetable1.copy()\n",
    "df_hk3_2_7 = df_hk3_2_7[[ 'expenditure', 'gender', 'height', 'age', 'salary', 'company']]\n",
    "df_hk3_2_7 = pd.get_dummies( df_hk3_2_7, columns=['gender', 'company'])\n",
    "df_hk3_2_7\n",
    "# train_test_split\n",
    "from sklearn.model_selection import train_test_split\n",
    "\n",
    "# DecisionTreeRegressor 호출( max_depth= 4, min_samples_split= 5, random_state= 1234)\n",
    "from sklearn.tree import DecisionTreeRegressor\n",
    "\n",
    "from sklearn.model_selection import train_test_split\n",
    "train_df_hk_3_2_7, test_df_hk_3_2_7 = train_test_split( df_hk3_2_7, random_state=123, train_size=0.7)\n",
    "train_df_hk_3_2_7[:2]\n",
    "\n",
    "# DecisionTreeRegressor 호출( max_depth= 4, min_samples_split= 5, random_state= 1234)\n",
    "from sklearn.tree import DecisionTreeRegressor\n",
    "model_3_2_7 = DecisionTreeRegressor( max_depth= 7, min_samples_split= 5, random_state= 1234)\n",
    "\n",
    "# fit\n",
    "model_3_2_7.fit( train_df_hk_3_2_7.drop('expenditure', axis=1), train_df_hk_3_2_7['expenditure'])\n",
    "\n",
    "# predict\n",
    "pred_tree_3_2_7 = model_3_2_7.predict( test_df_hk_3_2_7.drop('expenditure', axis=1))\n",
    "# 평가 report\n",
    "from sklearn.metrics import mean_squared_error\n"
   ]
  },
  {
   "cell_type": "code",
   "execution_count": 208,
   "metadata": {
    "scrolled": false
   },
   "outputs": [
    {
     "data": {
      "image/png": "[encoded data removed]",
      "text/plain": [
       "<Figure size 1008x360 with 3 Axes>"
      ]
     },
     "metadata": {
      "needs_background": "light"
     },
     "output_type": "display_data"
    }
   ],
   "source": [
    "# 시각화 DecisionTreeRegressor( max_depth= 4와 max_depth= 7) 비교\n",
    "fig, ax = plt.subplots( nrows= 1 , ncols=3, figsize=(14, 5))\n",
    "sns.scatterplot( x=test_df_hk_3_2['salary'], y=test_df_hk_3_2['expenditure'], palette='Set1', ax=ax[0] )\n",
    "sns.scatterplot( x=test_df_hk_3_2['salary'], y=pred_tree_3_2                , palette='Set2', ax=ax[1] )\n",
    "sns.scatterplot( x=test_df_hk_3_2['salary'], y=pred_tree_3_2_7                , palette='Set2', ax=ax[2] )\n",
    "\n",
    "\n",
    "ax[0].set_title('expenditure')\n",
    "ax[1].set_title('predict_tree_4')\n",
    "ax[2].set_title('predict_tree_7')\n",
    "\n",
    "plt.show()"
   ]
  },
  {
   "cell_type": "markdown",
   "metadata": {},
   "source": [
    "## 4-1. Naive Bayes 분류 실습 "
   ]
  },
  {
   "cell_type": "markdown",
   "metadata": {},
   "source": [
    "참고 URL : https://todayisbetterthanyesterday.tistory.com/17"
   ]
  },
  {
   "cell_type": "markdown",
   "metadata": {},
   "source": [
    "#### $\\displaystyle P(y|X)=\\frac{P(X|y)P(y)}{P(X)}$ &emsp;&emsp;&emsp;&emsp;    $\\mbox{Posterior}=\\frac{\\mbox{(Likelihood)}\\mbox{(Proposition prior probability)}}{\\mbox{Evidence prior probability}}$"
   ]
  },
  {
   "cell_type": "markdown",
   "metadata": {},
   "source": [
    " $$P\\left(y|x_{1},x_{2},\\ldots,x_{n}\\right)= \\frac{P\\left(x_{1},x_{2},\\ldots,x_{n}|y\\right)P(y)}{x=\\left(x_{1},x_{2},\\ldots,x_{n}\\right)} $$"
   ]
  },
  {
   "cell_type": "markdown",
   "metadata": {},
   "source": [
    "$$= \\frac{P(x_1|y)P(x_2|y)P(x_3|y)...P(x_p|y)P(y)}{P(x)}$$"
   ]
  },
  {
   "cell_type": "markdown",
   "metadata": {},
   "source": [
    "나이브 베이즈 분류에는 대표적으로 2가지 경우가 존재 \n",
    "\n",
    "<br> 1. 설명변수가 연속형 변수일 때, <b>Gaussian Naive Bayes</b> (가우시안 나이브 베이즈)\n",
    "<br> 2. 설명변수가 범주형 변수일 때, <b>Multinomial Naive Bayes</b> (다항 나이브 베이즈) "
   ]
  },
  {
   "cell_type": "markdown",
   "metadata": {},
   "source": [
    "<br> train_df_hk_3, test_df_hk_3 테이블 사용\n",
    "<br><b>종속변수</b> : car_type\n",
    "<br><b>독립변수</b> : gender, height, age, salary, expenditure, company(명목변수 모두 더미변수화)"
   ]
  },
  {
   "cell_type": "code",
   "execution_count": 209,
   "metadata": {},
   "outputs": [
    {
     "data": {
      "text/html": [
       "<div>\n",
       "<style scoped>\n",
       "    .dataframe tbody tr th:only-of-type {\n",
       "        vertical-align: middle;\n",
       "    }\n",
       "\n",
       "    .dataframe tbody tr th {\n",
       "        vertical-align: top;\n",
       "    }\n",
       "\n",
       "    .dataframe thead th {\n",
       "        text-align: right;\n",
       "    }\n",
       "</style>\n",
       "<table border=\"1\" class=\"dataframe\">\n",
       "  <thead>\n",
       "    <tr style=\"text-align: right;\">\n",
       "      <th></th>\n",
       "      <th>car_type</th>\n",
       "      <th>height</th>\n",
       "      <th>age</th>\n",
       "      <th>salary</th>\n",
       "      <th>expenditure</th>\n",
       "      <th>gender_F</th>\n",
       "      <th>gender_M</th>\n",
       "      <th>company_A</th>\n",
       "      <th>company_B</th>\n",
       "      <th>company_C</th>\n",
       "    </tr>\n",
       "  </thead>\n",
       "  <tbody>\n",
       "    <tr>\n",
       "      <th>90</th>\n",
       "      <td>MM</td>\n",
       "      <td>166.2</td>\n",
       "      <td>42</td>\n",
       "      <td>6300</td>\n",
       "      <td>5175</td>\n",
       "      <td>0</td>\n",
       "      <td>1</td>\n",
       "      <td>0</td>\n",
       "      <td>1</td>\n",
       "      <td>0</td>\n",
       "    </tr>\n",
       "    <tr>\n",
       "      <th>151</th>\n",
       "      <td>LL</td>\n",
       "      <td>165.0</td>\n",
       "      <td>44</td>\n",
       "      <td>11990</td>\n",
       "      <td>10865</td>\n",
       "      <td>1</td>\n",
       "      <td>0</td>\n",
       "      <td>0</td>\n",
       "      <td>0</td>\n",
       "      <td>1</td>\n",
       "    </tr>\n",
       "    <tr>\n",
       "      <th>41</th>\n",
       "      <td>SS</td>\n",
       "      <td>186.4</td>\n",
       "      <td>32</td>\n",
       "      <td>3680</td>\n",
       "      <td>2305</td>\n",
       "      <td>0</td>\n",
       "      <td>1</td>\n",
       "      <td>0</td>\n",
       "      <td>1</td>\n",
       "      <td>0</td>\n",
       "    </tr>\n",
       "    <tr>\n",
       "      <th>222</th>\n",
       "      <td>SS</td>\n",
       "      <td>164.4</td>\n",
       "      <td>42</td>\n",
       "      <td>4600</td>\n",
       "      <td>3225</td>\n",
       "      <td>1</td>\n",
       "      <td>0</td>\n",
       "      <td>1</td>\n",
       "      <td>0</td>\n",
       "      <td>0</td>\n",
       "    </tr>\n",
       "    <tr>\n",
       "      <th>107</th>\n",
       "      <td>SS</td>\n",
       "      <td>187.1</td>\n",
       "      <td>40</td>\n",
       "      <td>5750</td>\n",
       "      <td>4375</td>\n",
       "      <td>0</td>\n",
       "      <td>1</td>\n",
       "      <td>0</td>\n",
       "      <td>1</td>\n",
       "      <td>0</td>\n",
       "    </tr>\n",
       "  </tbody>\n",
       "</table>\n",
       "</div>"
      ],
      "text/plain": [
       "    car_type  height  age  salary  expenditure  gender_F  gender_M  company_A  \\\n",
       "90        MM   166.2   42    6300         5175         0         1          0   \n",
       "151       LL   165.0   44   11990        10865         1         0          0   \n",
       "41        SS   186.4   32    3680         2305         0         1          0   \n",
       "222       SS   164.4   42    4600         3225         1         0          1   \n",
       "107       SS   187.1   40    5750         4375         0         1          0   \n",
       "\n",
       "     company_B  company_C  \n",
       "90           1          0  \n",
       "151          0          1  \n",
       "41           1          0  \n",
       "222          0          0  \n",
       "107          1          0  "
      ]
     },
     "execution_count": 209,
     "metadata": {},
     "output_type": "execute_result"
    }
   ],
   "source": [
    "# 파일 로딩  train_df_hk_3\n",
    "train_df_hk_3[:5]"
   ]
  },
  {
   "cell_type": "code",
   "execution_count": 210,
   "metadata": {},
   "outputs": [],
   "source": [
    "# GaussianNB, MultinomialNB\n",
    "from sklearn.naive_bayes import GaussianNB, MultinomialNB\n",
    "from sklearn.naive_bayes import GaussianNB, MultinomialNB"
   ]
  },
  {
   "cell_type": "code",
   "execution_count": 211,
   "metadata": {},
   "outputs": [],
   "source": [
    "# car_type예측, MultinomialNB() 모델링\n",
    "model_4 = MultinomialNB()"
   ]
  },
  {
   "cell_type": "code",
   "execution_count": 212,
   "metadata": {},
   "outputs": [
    {
     "data": {
      "text/plain": [
       "MultinomialNB()"
      ]
     },
     "execution_count": 212,
     "metadata": {},
     "output_type": "execute_result"
    }
   ],
   "source": [
    "# fit\n",
    "model_4.fit( X = train_df_hk_3.drop('car_type', axis=1),\n",
    "             y = train_df_hk_3['car_type'])"
   ]
  },
  {
   "cell_type": "code",
   "execution_count": 213,
   "metadata": {},
   "outputs": [
    {
     "data": {
      "text/plain": [
       "array(['LL', 'MM', 'SS', 'MM', 'MM', 'MM', 'MM', 'MM', 'LL', 'SS', 'MM',\n",
       "       'SS', 'SS', 'SS', 'LL', 'MM', 'MM', 'SS', 'SS', 'MM', 'SS', 'MM',\n",
       "       'MM', 'MM', 'MM', 'LL', 'MM', 'LL', 'MM', 'MM', 'LL', 'MM', 'SS',\n",
       "       'LL', 'MM', 'LL', 'SS', 'LL', 'SS', 'LL', 'MM', 'MM', 'SS', 'LL',\n",
       "       'SS', 'SS', 'MM', 'LL', 'MM', 'SS', 'MM', 'MM', 'MM', 'SS', 'SS',\n",
       "       'SS', 'LL', 'MM', 'MM', 'LL', 'LL', 'LL', 'LL', 'SS', 'MM', 'MM',\n",
       "       'LL', 'LL', 'MM', 'MM', 'LL'], dtype='<U2')"
      ]
     },
     "execution_count": 213,
     "metadata": {},
     "output_type": "execute_result"
    }
   ],
   "source": [
    "# predict\n",
    "model_4.predict(test_df_hk_3.drop('car_type', axis=1))"
   ]
  },
  {
   "cell_type": "code",
   "execution_count": 218,
   "metadata": {
    "scrolled": false
   },
   "outputs": [
    {
     "data": {
      "text/html": [
       "<div>\n",
       "<style scoped>\n",
       "    .dataframe tbody tr th:only-of-type {\n",
       "        vertical-align: middle;\n",
       "    }\n",
       "\n",
       "    .dataframe tbody tr th {\n",
       "        vertical-align: top;\n",
       "    }\n",
       "\n",
       "    .dataframe thead th {\n",
       "        text-align: right;\n",
       "    }\n",
       "</style>\n",
       "<table border=\"1\" class=\"dataframe\">\n",
       "  <thead>\n",
       "    <tr style=\"text-align: right;\">\n",
       "      <th></th>\n",
       "      <th>com_a_prob</th>\n",
       "      <th>com_b_prob</th>\n",
       "      <th>com_c_prob</th>\n",
       "    </tr>\n",
       "  </thead>\n",
       "  <tbody>\n",
       "    <tr>\n",
       "      <th>0</th>\n",
       "      <td>0.0</td>\n",
       "      <td>1.000</td>\n",
       "      <td>0.000</td>\n",
       "    </tr>\n",
       "    <tr>\n",
       "      <th>1</th>\n",
       "      <td>1.0</td>\n",
       "      <td>0.000</td>\n",
       "      <td>0.000</td>\n",
       "    </tr>\n",
       "    <tr>\n",
       "      <th>2</th>\n",
       "      <td>0.0</td>\n",
       "      <td>0.000</td>\n",
       "      <td>1.000</td>\n",
       "    </tr>\n",
       "    <tr>\n",
       "      <th>3</th>\n",
       "      <td>0.0</td>\n",
       "      <td>0.000</td>\n",
       "      <td>1.000</td>\n",
       "    </tr>\n",
       "    <tr>\n",
       "      <th>4</th>\n",
       "      <td>0.0</td>\n",
       "      <td>0.220</td>\n",
       "      <td>0.780</td>\n",
       "    </tr>\n",
       "    <tr>\n",
       "      <th>...</th>\n",
       "      <td>...</td>\n",
       "      <td>...</td>\n",
       "      <td>...</td>\n",
       "    </tr>\n",
       "    <tr>\n",
       "      <th>160</th>\n",
       "      <td>0.0</td>\n",
       "      <td>0.000</td>\n",
       "      <td>1.000</td>\n",
       "    </tr>\n",
       "    <tr>\n",
       "      <th>161</th>\n",
       "      <td>0.0</td>\n",
       "      <td>0.000</td>\n",
       "      <td>1.000</td>\n",
       "    </tr>\n",
       "    <tr>\n",
       "      <th>162</th>\n",
       "      <td>0.0</td>\n",
       "      <td>0.879</td>\n",
       "      <td>0.121</td>\n",
       "    </tr>\n",
       "    <tr>\n",
       "      <th>163</th>\n",
       "      <td>0.0</td>\n",
       "      <td>0.000</td>\n",
       "      <td>1.000</td>\n",
       "    </tr>\n",
       "    <tr>\n",
       "      <th>164</th>\n",
       "      <td>1.0</td>\n",
       "      <td>0.000</td>\n",
       "      <td>0.000</td>\n",
       "    </tr>\n",
       "  </tbody>\n",
       "</table>\n",
       "<p>165 rows × 3 columns</p>\n",
       "</div>"
      ],
      "text/plain": [
       "     com_a_prob  com_b_prob  com_c_prob\n",
       "0           0.0       1.000       0.000\n",
       "1           1.0       0.000       0.000\n",
       "2           0.0       0.000       1.000\n",
       "3           0.0       0.000       1.000\n",
       "4           0.0       0.220       0.780\n",
       "..          ...         ...         ...\n",
       "160         0.0       0.000       1.000\n",
       "161         0.0       0.000       1.000\n",
       "162         0.0       0.879       0.121\n",
       "163         0.0       0.000       1.000\n",
       "164         1.0       0.000       0.000\n",
       "\n",
       "[165 rows x 3 columns]"
      ]
     },
     "execution_count": 218,
     "metadata": {},
     "output_type": "execute_result"
    }
   ],
   "source": [
    "# predict_proba, 확률값\n",
    "pred_4 =  model_4.predict_proba(test_df_hk_3.drop('car_type', axis=1))[:5]\n",
    "pd.DataFrame(model_4.predict_proba(train_df_hk_3.drop('car_type', axis=1)).round(3),columns=['com_a_prob','com_b_prob','com_c_prob'])"
   ]
  },
  {
   "cell_type": "code",
   "execution_count": 220,
   "metadata": {
    "scrolled": true
   },
   "outputs": [
    {
     "ename": "ValueError",
     "evalue": "Found input variables with inconsistent numbers of samples: [71, 5]",
     "output_type": "error",
     "traceback": [
      "\u001b[1;31m---------------------------------------------------------------------------\u001b[0m",
      "\u001b[1;31mValueError\u001b[0m                                Traceback (most recent call last)",
      "\u001b[1;32mC:\\Users\\Public\\Documents\\ESTsoft\\CreatorTemp/ipykernel_10972/1393792970.py\u001b[0m in \u001b[0;36m<module>\u001b[1;34m\u001b[0m\n\u001b[0;32m      1\u001b[0m \u001b[1;31m# classification_report (MultinomialNB)\u001b[0m\u001b[1;33m\u001b[0m\u001b[1;33m\u001b[0m\u001b[0m\n\u001b[1;32m----> 2\u001b[1;33m \u001b[0mprint\u001b[0m\u001b[1;33m(\u001b[0m\u001b[0mclassification_report\u001b[0m\u001b[1;33m(\u001b[0m\u001b[0mtest_df_hk_3\u001b[0m\u001b[1;33m[\u001b[0m\u001b[1;34m'car_type'\u001b[0m\u001b[1;33m]\u001b[0m \u001b[1;33m,\u001b[0m\u001b[0mpred_4\u001b[0m\u001b[1;33m)\u001b[0m\u001b[1;33m)\u001b[0m\u001b[1;33m\u001b[0m\u001b[1;33m\u001b[0m\u001b[0m\n\u001b[0m",
      "\u001b[1;32mC:\\Anaconda3\\lib\\site-packages\\sklearn\\utils\\validation.py\u001b[0m in \u001b[0;36minner_f\u001b[1;34m(*args, **kwargs)\u001b[0m\n\u001b[0;32m     61\u001b[0m             \u001b[0mextra_args\u001b[0m \u001b[1;33m=\u001b[0m \u001b[0mlen\u001b[0m\u001b[1;33m(\u001b[0m\u001b[0margs\u001b[0m\u001b[1;33m)\u001b[0m \u001b[1;33m-\u001b[0m \u001b[0mlen\u001b[0m\u001b[1;33m(\u001b[0m\u001b[0mall_args\u001b[0m\u001b[1;33m)\u001b[0m\u001b[1;33m\u001b[0m\u001b[1;33m\u001b[0m\u001b[0m\n\u001b[0;32m     62\u001b[0m             \u001b[1;32mif\u001b[0m \u001b[0mextra_args\u001b[0m \u001b[1;33m<=\u001b[0m \u001b[1;36m0\u001b[0m\u001b[1;33m:\u001b[0m\u001b[1;33m\u001b[0m\u001b[1;33m\u001b[0m\u001b[0m\n\u001b[1;32m---> 63\u001b[1;33m                 \u001b[1;32mreturn\u001b[0m \u001b[0mf\u001b[0m\u001b[1;33m(\u001b[0m\u001b[1;33m*\u001b[0m\u001b[0margs\u001b[0m\u001b[1;33m,\u001b[0m \u001b[1;33m**\u001b[0m\u001b[0mkwargs\u001b[0m\u001b[1;33m)\u001b[0m\u001b[1;33m\u001b[0m\u001b[1;33m\u001b[0m\u001b[0m\n\u001b[0m\u001b[0;32m     64\u001b[0m \u001b[1;33m\u001b[0m\u001b[0m\n\u001b[0;32m     65\u001b[0m             \u001b[1;31m# extra_args > 0\u001b[0m\u001b[1;33m\u001b[0m\u001b[1;33m\u001b[0m\u001b[0m\n",
      "\u001b[1;32mC:\\Anaconda3\\lib\\site-packages\\sklearn\\metrics\\_classification.py\u001b[0m in \u001b[0;36mclassification_report\u001b[1;34m(y_true, y_pred, labels, target_names, sample_weight, digits, output_dict, zero_division)\u001b[0m\n\u001b[0;32m   1968\u001b[0m     \"\"\"\n\u001b[0;32m   1969\u001b[0m \u001b[1;33m\u001b[0m\u001b[0m\n\u001b[1;32m-> 1970\u001b[1;33m     \u001b[0my_type\u001b[0m\u001b[1;33m,\u001b[0m \u001b[0my_true\u001b[0m\u001b[1;33m,\u001b[0m \u001b[0my_pred\u001b[0m \u001b[1;33m=\u001b[0m \u001b[0m_check_targets\u001b[0m\u001b[1;33m(\u001b[0m\u001b[0my_true\u001b[0m\u001b[1;33m,\u001b[0m \u001b[0my_pred\u001b[0m\u001b[1;33m)\u001b[0m\u001b[1;33m\u001b[0m\u001b[1;33m\u001b[0m\u001b[0m\n\u001b[0m\u001b[0;32m   1971\u001b[0m \u001b[1;33m\u001b[0m\u001b[0m\n\u001b[0;32m   1972\u001b[0m     \u001b[1;32mif\u001b[0m \u001b[0mlabels\u001b[0m \u001b[1;32mis\u001b[0m \u001b[1;32mNone\u001b[0m\u001b[1;33m:\u001b[0m\u001b[1;33m\u001b[0m\u001b[1;33m\u001b[0m\u001b[0m\n",
      "\u001b[1;32mC:\\Anaconda3\\lib\\site-packages\\sklearn\\metrics\\_classification.py\u001b[0m in \u001b[0;36m_check_targets\u001b[1;34m(y_true, y_pred)\u001b[0m\n\u001b[0;32m     81\u001b[0m     \u001b[0my_pred\u001b[0m \u001b[1;33m:\u001b[0m \u001b[0marray\u001b[0m \u001b[1;32mor\u001b[0m \u001b[0mindicator\u001b[0m \u001b[0mmatrix\u001b[0m\u001b[1;33m\u001b[0m\u001b[1;33m\u001b[0m\u001b[0m\n\u001b[0;32m     82\u001b[0m     \"\"\"\n\u001b[1;32m---> 83\u001b[1;33m     \u001b[0mcheck_consistent_length\u001b[0m\u001b[1;33m(\u001b[0m\u001b[0my_true\u001b[0m\u001b[1;33m,\u001b[0m \u001b[0my_pred\u001b[0m\u001b[1;33m)\u001b[0m\u001b[1;33m\u001b[0m\u001b[1;33m\u001b[0m\u001b[0m\n\u001b[0m\u001b[0;32m     84\u001b[0m     \u001b[0mtype_true\u001b[0m \u001b[1;33m=\u001b[0m \u001b[0mtype_of_target\u001b[0m\u001b[1;33m(\u001b[0m\u001b[0my_true\u001b[0m\u001b[1;33m)\u001b[0m\u001b[1;33m\u001b[0m\u001b[1;33m\u001b[0m\u001b[0m\n\u001b[0;32m     85\u001b[0m     \u001b[0mtype_pred\u001b[0m \u001b[1;33m=\u001b[0m \u001b[0mtype_of_target\u001b[0m\u001b[1;33m(\u001b[0m\u001b[0my_pred\u001b[0m\u001b[1;33m)\u001b[0m\u001b[1;33m\u001b[0m\u001b[1;33m\u001b[0m\u001b[0m\n",
      "\u001b[1;32mC:\\Anaconda3\\lib\\site-packages\\sklearn\\utils\\validation.py\u001b[0m in \u001b[0;36mcheck_consistent_length\u001b[1;34m(*arrays)\u001b[0m\n\u001b[0;32m    317\u001b[0m     \u001b[0muniques\u001b[0m \u001b[1;33m=\u001b[0m \u001b[0mnp\u001b[0m\u001b[1;33m.\u001b[0m\u001b[0munique\u001b[0m\u001b[1;33m(\u001b[0m\u001b[0mlengths\u001b[0m\u001b[1;33m)\u001b[0m\u001b[1;33m\u001b[0m\u001b[1;33m\u001b[0m\u001b[0m\n\u001b[0;32m    318\u001b[0m     \u001b[1;32mif\u001b[0m \u001b[0mlen\u001b[0m\u001b[1;33m(\u001b[0m\u001b[0muniques\u001b[0m\u001b[1;33m)\u001b[0m \u001b[1;33m>\u001b[0m \u001b[1;36m1\u001b[0m\u001b[1;33m:\u001b[0m\u001b[1;33m\u001b[0m\u001b[1;33m\u001b[0m\u001b[0m\n\u001b[1;32m--> 319\u001b[1;33m         raise ValueError(\"Found input variables with inconsistent numbers of\"\n\u001b[0m\u001b[0;32m    320\u001b[0m                          \" samples: %r\" % [int(l) for l in lengths])\n\u001b[0;32m    321\u001b[0m \u001b[1;33m\u001b[0m\u001b[0m\n",
      "\u001b[1;31mValueError\u001b[0m: Found input variables with inconsistent numbers of samples: [71, 5]"
     ]
    }
   ],
   "source": [
    "# classification_report (MultinomialNB)\n",
    "print(classification_report(test_df_hk_3['car_type'] ,pred_4))"
   ]
  },
  {
   "cell_type": "code",
   "execution_count": 221,
   "metadata": {
    "scrolled": false
   },
   "outputs": [
    {
     "name": "stdout",
     "output_type": "stream",
     "text": [
      "              precision    recall  f1-score   support\n",
      "\n",
      "          LL       0.56      0.67      0.61        15\n",
      "          MM       0.75      0.75      0.75        36\n",
      "          SS       0.94      0.80      0.86        20\n",
      "\n",
      "    accuracy                           0.75        71\n",
      "   macro avg       0.75      0.74      0.74        71\n",
      "weighted avg       0.76      0.75      0.75        71\n",
      "\n"
     ]
    }
   ],
   "source": [
    "# classification_report (tree)\n",
    "from sklearn.metrics import classification_report\n",
    "print(classification_report(test_df_hk_3['car_type'], pred_tree_3))"
   ]
  },
  {
   "cell_type": "markdown",
   "metadata": {},
   "source": [
    "## 4-2. $\\pi$(파이) Quiz Naive Bayes 회귀 실습\n",
    "\n",
    "<br><실행순서>\n",
    "<br>1. basetable1 사용\n",
    "<br>2. 종속변수 : expenditure\n",
    "<br>3. 독립변수 : gender, height, age, company, salary (명목형변수 dummy화)\n",
    "<br>4. train_test_split(random_state=123, train_size= 0.7)\n",
    "<br>5. 나이브베이즈 GaussianNB()으로 모델링 하고 예측하여 mse를 구하시오"
   ]
  },
  {
   "cell_type": "code",
   "execution_count": 236,
   "metadata": {},
   "outputs": [
    {
     "name": "stdout",
     "output_type": "stream",
     "text": [
      "1627078.8732394367\n"
     ]
    }
   ],
   "source": [
    "# step1) 파일 로딩\n",
    "basetable1\n",
    "df_hk_4_2 = basetable1.copy()\n",
    "# step2) 필요 데이터 프레임 생성 (종속변수 : expenditure 독립변수 : gender, height, age, company, salary)\n",
    "df_hk_4_2 = df_hk_4_2[['expenditure','gender', 'height', 'age', 'company', 'salary']]\n",
    "\n",
    "\n",
    "# step3) dummy화\n",
    "df_hk_4_2 = pd.get_dummies(df_hk_4_2,columns=['gender','company'])\n",
    "df_hk_4_2[:5]\n",
    "\n",
    "# step4) train_test_split(random_state=123, train_size= 0.7)\n",
    "train_hk_4_2, test_hk_4_2 = train_test_split(df_hk_4_2, random_state=123, train_size=0.7)\n",
    "train_hk_4_2[:5]\n",
    "# step5) GaussianNB() 모델링\n",
    "from sklearn.naive_bayes import GaussianNB, MultinomialNB\n",
    "model_4_2 = GaussianNB()\n",
    "\n",
    "\n",
    "# fit\n",
    "model_4_2.fit(X = train_hk_4_2.drop('expenditure', axis=1),\n",
    "              y = train_hk_4_2['expenditure'])\n",
    "\n",
    "# GaussianNB() 예측\n",
    "pred_4_2 = model_4_2.predict(test_hk_4_2.drop('expenditure',axis=1))\n",
    "# GaussianNB() 평가, mean_squared_error\n",
    "from sklearn.metrics import mean_squared_error\n",
    "print(mean_squared_error(test_hk_4_2['expenditure'],pred_4_2))"
   ]
  },
  {
   "cell_type": "code",
   "execution_count": 237,
   "metadata": {},
   "outputs": [
    {
     "data": {
      "text/plain": [
       "1275.5700189481706"
      ]
     },
     "execution_count": 237,
     "metadata": {},
     "output_type": "execute_result"
    }
   ],
   "source": [
    "1627078.8732394367**0.5"
   ]
  },
  {
   "cell_type": "markdown",
   "metadata": {},
   "source": [
    "## 5. K-Nearest Neighbor\n",
    "\n",
    "\n",
    "<br>train_df_hk_3, test_df_hk_3 사용\n",
    "<br><b>종속변수</b> : car_type\n",
    "<br><b>독립변수</b> : height, age, salary, expenditure(정규화 시행), 성별(더미변수만 추가) "
   ]
  },
  {
   "cell_type": "code",
   "execution_count": 244,
   "metadata": {},
   "outputs": [
    {
     "data": {
      "text/plain": [
       "Index(['car_type', 'height', 'age', 'salary', 'expenditure', 'gender_F',\n",
       "       'gender_M', 'company_A', 'company_B', 'company_C'],\n",
       "      dtype='object')"
      ]
     },
     "execution_count": 244,
     "metadata": {},
     "output_type": "execute_result"
    }
   ],
   "source": [
    "# 파일 로딩\n",
    "train_df_hk_3\n",
    "test_df_hk_3.columns\n"
   ]
  },
  {
   "cell_type": "code",
   "execution_count": 254,
   "metadata": {},
   "outputs": [
    {
     "data": {
      "text/html": [
       "<div>\n",
       "<style scoped>\n",
       "    .dataframe tbody tr th:only-of-type {\n",
       "        vertical-align: middle;\n",
       "    }\n",
       "\n",
       "    .dataframe tbody tr th {\n",
       "        vertical-align: top;\n",
       "    }\n",
       "\n",
       "    .dataframe thead th {\n",
       "        text-align: right;\n",
       "    }\n",
       "</style>\n",
       "<table border=\"1\" class=\"dataframe\">\n",
       "  <thead>\n",
       "    <tr style=\"text-align: right;\">\n",
       "      <th></th>\n",
       "      <th>car_type</th>\n",
       "      <th>height</th>\n",
       "      <th>age</th>\n",
       "      <th>salary</th>\n",
       "      <th>expenditure</th>\n",
       "      <th>gender_F</th>\n",
       "      <th>gender_M</th>\n",
       "      <th>company_A</th>\n",
       "      <th>company_B</th>\n",
       "      <th>company_C</th>\n",
       "      <th>height_st</th>\n",
       "      <th>age_st</th>\n",
       "      <th>salary_st</th>\n",
       "      <th>expenditure_st</th>\n",
       "    </tr>\n",
       "  </thead>\n",
       "  <tbody>\n",
       "    <tr>\n",
       "      <th>0</th>\n",
       "      <td>MM</td>\n",
       "      <td>166.2</td>\n",
       "      <td>42</td>\n",
       "      <td>6300</td>\n",
       "      <td>5175</td>\n",
       "      <td>0</td>\n",
       "      <td>1</td>\n",
       "      <td>0</td>\n",
       "      <td>1</td>\n",
       "      <td>0</td>\n",
       "      <td>-0.239118</td>\n",
       "      <td>0.273098</td>\n",
       "      <td>-0.035574</td>\n",
       "      <td>0.100201</td>\n",
       "    </tr>\n",
       "    <tr>\n",
       "      <th>1</th>\n",
       "      <td>LL</td>\n",
       "      <td>165.0</td>\n",
       "      <td>44</td>\n",
       "      <td>11990</td>\n",
       "      <td>10865</td>\n",
       "      <td>1</td>\n",
       "      <td>0</td>\n",
       "      <td>0</td>\n",
       "      <td>0</td>\n",
       "      <td>1</td>\n",
       "      <td>-0.336058</td>\n",
       "      <td>0.525541</td>\n",
       "      <td>3.112271</td>\n",
       "      <td>3.221411</td>\n",
       "    </tr>\n",
       "    <tr>\n",
       "      <th>2</th>\n",
       "      <td>SS</td>\n",
       "      <td>186.4</td>\n",
       "      <td>32</td>\n",
       "      <td>3680</td>\n",
       "      <td>2305</td>\n",
       "      <td>0</td>\n",
       "      <td>1</td>\n",
       "      <td>0</td>\n",
       "      <td>1</td>\n",
       "      <td>0</td>\n",
       "      <td>1.392703</td>\n",
       "      <td>-0.989119</td>\n",
       "      <td>-1.485021</td>\n",
       "      <td>-1.474118</td>\n",
       "    </tr>\n",
       "    <tr>\n",
       "      <th>3</th>\n",
       "      <td>SS</td>\n",
       "      <td>164.4</td>\n",
       "      <td>42</td>\n",
       "      <td>4600</td>\n",
       "      <td>3225</td>\n",
       "      <td>1</td>\n",
       "      <td>0</td>\n",
       "      <td>1</td>\n",
       "      <td>0</td>\n",
       "      <td>0</td>\n",
       "      <td>-0.384528</td>\n",
       "      <td>0.273098</td>\n",
       "      <td>-0.976055</td>\n",
       "      <td>-0.969458</td>\n",
       "    </tr>\n",
       "    <tr>\n",
       "      <th>4</th>\n",
       "      <td>SS</td>\n",
       "      <td>187.1</td>\n",
       "      <td>40</td>\n",
       "      <td>5750</td>\n",
       "      <td>4375</td>\n",
       "      <td>0</td>\n",
       "      <td>1</td>\n",
       "      <td>0</td>\n",
       "      <td>1</td>\n",
       "      <td>0</td>\n",
       "      <td>1.449252</td>\n",
       "      <td>0.020654</td>\n",
       "      <td>-0.339847</td>\n",
       "      <td>-0.338634</td>\n",
       "    </tr>\n",
       "    <tr>\n",
       "      <th>...</th>\n",
       "      <td>...</td>\n",
       "      <td>...</td>\n",
       "      <td>...</td>\n",
       "      <td>...</td>\n",
       "      <td>...</td>\n",
       "      <td>...</td>\n",
       "      <td>...</td>\n",
       "      <td>...</td>\n",
       "      <td>...</td>\n",
       "      <td>...</td>\n",
       "      <td>...</td>\n",
       "      <td>...</td>\n",
       "      <td>...</td>\n",
       "      <td>...</td>\n",
       "    </tr>\n",
       "    <tr>\n",
       "      <th>160</th>\n",
       "      <td>SS</td>\n",
       "      <td>170.0</td>\n",
       "      <td>39</td>\n",
       "      <td>5300</td>\n",
       "      <td>3925</td>\n",
       "      <td>1</td>\n",
       "      <td>0</td>\n",
       "      <td>0</td>\n",
       "      <td>1</td>\n",
       "      <td>0</td>\n",
       "      <td>0.067858</td>\n",
       "      <td>-0.105567</td>\n",
       "      <td>-0.588798</td>\n",
       "      <td>-0.585478</td>\n",
       "    </tr>\n",
       "    <tr>\n",
       "      <th>161</th>\n",
       "      <td>MM</td>\n",
       "      <td>165.0</td>\n",
       "      <td>40</td>\n",
       "      <td>4740</td>\n",
       "      <td>3365</td>\n",
       "      <td>1</td>\n",
       "      <td>0</td>\n",
       "      <td>1</td>\n",
       "      <td>0</td>\n",
       "      <td>0</td>\n",
       "      <td>-0.336058</td>\n",
       "      <td>0.020654</td>\n",
       "      <td>-0.898604</td>\n",
       "      <td>-0.892662</td>\n",
       "    </tr>\n",
       "    <tr>\n",
       "      <th>162</th>\n",
       "      <td>MM</td>\n",
       "      <td>166.2</td>\n",
       "      <td>35</td>\n",
       "      <td>4960</td>\n",
       "      <td>3835</td>\n",
       "      <td>0</td>\n",
       "      <td>1</td>\n",
       "      <td>0</td>\n",
       "      <td>1</td>\n",
       "      <td>0</td>\n",
       "      <td>-0.239118</td>\n",
       "      <td>-0.610454</td>\n",
       "      <td>-0.776894</td>\n",
       "      <td>-0.634847</td>\n",
       "    </tr>\n",
       "    <tr>\n",
       "      <th>163</th>\n",
       "      <td>MM</td>\n",
       "      <td>183.4</td>\n",
       "      <td>43</td>\n",
       "      <td>6610</td>\n",
       "      <td>4485</td>\n",
       "      <td>0</td>\n",
       "      <td>1</td>\n",
       "      <td>1</td>\n",
       "      <td>0</td>\n",
       "      <td>0</td>\n",
       "      <td>1.150354</td>\n",
       "      <td>0.399319</td>\n",
       "      <td>0.135925</td>\n",
       "      <td>-0.278294</td>\n",
       "    </tr>\n",
       "    <tr>\n",
       "      <th>164</th>\n",
       "      <td>MM</td>\n",
       "      <td>149.1</td>\n",
       "      <td>34</td>\n",
       "      <td>7680</td>\n",
       "      <td>6930</td>\n",
       "      <td>1</td>\n",
       "      <td>0</td>\n",
       "      <td>0</td>\n",
       "      <td>0</td>\n",
       "      <td>1</td>\n",
       "      <td>-1.620512</td>\n",
       "      <td>-0.736675</td>\n",
       "      <td>0.727875</td>\n",
       "      <td>1.062894</td>\n",
       "    </tr>\n",
       "  </tbody>\n",
       "</table>\n",
       "<p>165 rows × 14 columns</p>\n",
       "</div>"
      ],
      "text/plain": [
       "    car_type  height  age  salary  expenditure  gender_F  gender_M  company_A  \\\n",
       "0         MM   166.2   42    6300         5175         0         1          0   \n",
       "1         LL   165.0   44   11990        10865         1         0          0   \n",
       "2         SS   186.4   32    3680         2305         0         1          0   \n",
       "3         SS   164.4   42    4600         3225         1         0          1   \n",
       "4         SS   187.1   40    5750         4375         0         1          0   \n",
       "..       ...     ...  ...     ...          ...       ...       ...        ...   \n",
       "160       SS   170.0   39    5300         3925         1         0          0   \n",
       "161       MM   165.0   40    4740         3365         1         0          1   \n",
       "162       MM   166.2   35    4960         3835         0         1          0   \n",
       "163       MM   183.4   43    6610         4485         0         1          1   \n",
       "164       MM   149.1   34    7680         6930         1         0          0   \n",
       "\n",
       "     company_B  company_C  height_st    age_st  salary_st  expenditure_st  \n",
       "0            1          0  -0.239118  0.273098  -0.035574        0.100201  \n",
       "1            0          1  -0.336058  0.525541   3.112271        3.221411  \n",
       "2            1          0   1.392703 -0.989119  -1.485021       -1.474118  \n",
       "3            0          0  -0.384528  0.273098  -0.976055       -0.969458  \n",
       "4            1          0   1.449252  0.020654  -0.339847       -0.338634  \n",
       "..         ...        ...        ...       ...        ...             ...  \n",
       "160          1          0   0.067858 -0.105567  -0.588798       -0.585478  \n",
       "161          0          0  -0.336058  0.020654  -0.898604       -0.892662  \n",
       "162          1          0  -0.239118 -0.610454  -0.776894       -0.634847  \n",
       "163          0          0   1.150354  0.399319   0.135925       -0.278294  \n",
       "164          0          1  -1.620512 -0.736675   0.727875        1.062894  \n",
       "\n",
       "[165 rows x 14 columns]"
      ]
     },
     "execution_count": 254,
     "metadata": {},
     "output_type": "execute_result"
    }
   ],
   "source": [
    "# train dataset 준비,  StandardScaling, concat\n",
    "\n",
    "# StandardScaling ['height', 'age', 'salary', 'expenditure']\n",
    "from sklearn.preprocessing import StandardScaler\n",
    "\n",
    "sd_5_train = StandardScaler().fit(train_df_hk_3[['height', 'age', 'salary', 'expenditure']])\n",
    "df_hk_5_train_sd = pd.DataFrame(sd_5_train.transform(train_df_hk_3[['height', 'age', 'salary', 'expenditure']]),columns=['height_st', 'age_st', 'salary_st', 'expenditure_st'])\n",
    "# train.transform, pd.DataFrame\n",
    "train_df_hk_5 = pd.concat([train_df_hk_3.reset_index(drop=True), df_hk_5_train_sd.reset_index(drop=True)],axis=1)\n",
    "train_df_hk_5\n",
    "# train concat, reset_index(drop=True) 기존 index 삭제\n"
   ]
  },
  {
   "cell_type": "code",
   "execution_count": 257,
   "metadata": {},
   "outputs": [
    {
     "data": {
      "text/html": [
       "<div>\n",
       "<style scoped>\n",
       "    .dataframe tbody tr th:only-of-type {\n",
       "        vertical-align: middle;\n",
       "    }\n",
       "\n",
       "    .dataframe tbody tr th {\n",
       "        vertical-align: top;\n",
       "    }\n",
       "\n",
       "    .dataframe thead th {\n",
       "        text-align: right;\n",
       "    }\n",
       "</style>\n",
       "<table border=\"1\" class=\"dataframe\">\n",
       "  <thead>\n",
       "    <tr style=\"text-align: right;\">\n",
       "      <th></th>\n",
       "      <th>car_type</th>\n",
       "      <th>height</th>\n",
       "      <th>age</th>\n",
       "      <th>salary</th>\n",
       "      <th>expenditure</th>\n",
       "      <th>gender_F</th>\n",
       "      <th>gender_M</th>\n",
       "      <th>company_A</th>\n",
       "      <th>company_B</th>\n",
       "      <th>company_C</th>\n",
       "      <th>height_st</th>\n",
       "      <th>age_st</th>\n",
       "      <th>salary_st</th>\n",
       "      <th>expenditure_st</th>\n",
       "    </tr>\n",
       "  </thead>\n",
       "  <tbody>\n",
       "    <tr>\n",
       "      <th>0</th>\n",
       "      <td>MM</td>\n",
       "      <td>176.6</td>\n",
       "      <td>53</td>\n",
       "      <td>8220</td>\n",
       "      <td>7470</td>\n",
       "      <td>0</td>\n",
       "      <td>1</td>\n",
       "      <td>1</td>\n",
       "      <td>0</td>\n",
       "      <td>0</td>\n",
       "      <td>0.601027</td>\n",
       "      <td>1.661536</td>\n",
       "      <td>1.026616</td>\n",
       "      <td>1.359107</td>\n",
       "    </tr>\n",
       "    <tr>\n",
       "      <th>1</th>\n",
       "      <td>MM</td>\n",
       "      <td>154.6</td>\n",
       "      <td>47</td>\n",
       "      <td>6480</td>\n",
       "      <td>4730</td>\n",
       "      <td>1</td>\n",
       "      <td>0</td>\n",
       "      <td>1</td>\n",
       "      <td>0</td>\n",
       "      <td>0</td>\n",
       "      <td>-1.176204</td>\n",
       "      <td>0.904206</td>\n",
       "      <td>0.064006</td>\n",
       "      <td>-0.143901</td>\n",
       "    </tr>\n",
       "    <tr>\n",
       "      <th>2</th>\n",
       "      <td>SS</td>\n",
       "      <td>170.1</td>\n",
       "      <td>31</td>\n",
       "      <td>3330</td>\n",
       "      <td>2205</td>\n",
       "      <td>0</td>\n",
       "      <td>1</td>\n",
       "      <td>0</td>\n",
       "      <td>1</td>\n",
       "      <td>0</td>\n",
       "      <td>0.075936</td>\n",
       "      <td>-1.115340</td>\n",
       "      <td>-1.678650</td>\n",
       "      <td>-1.528972</td>\n",
       "    </tr>\n",
       "    <tr>\n",
       "      <th>3</th>\n",
       "      <td>MM</td>\n",
       "      <td>165.1</td>\n",
       "      <td>43</td>\n",
       "      <td>6370</td>\n",
       "      <td>4995</td>\n",
       "      <td>0</td>\n",
       "      <td>1</td>\n",
       "      <td>1</td>\n",
       "      <td>0</td>\n",
       "      <td>0</td>\n",
       "      <td>-0.327980</td>\n",
       "      <td>0.399319</td>\n",
       "      <td>0.003152</td>\n",
       "      <td>0.001463</td>\n",
       "    </tr>\n",
       "    <tr>\n",
       "      <th>4</th>\n",
       "      <td>MM</td>\n",
       "      <td>155.7</td>\n",
       "      <td>43</td>\n",
       "      <td>6620</td>\n",
       "      <td>5245</td>\n",
       "      <td>1</td>\n",
       "      <td>0</td>\n",
       "      <td>0</td>\n",
       "      <td>1</td>\n",
       "      <td>0</td>\n",
       "      <td>-1.087343</td>\n",
       "      <td>0.399319</td>\n",
       "      <td>0.141458</td>\n",
       "      <td>0.138599</td>\n",
       "    </tr>\n",
       "    <tr>\n",
       "      <th>...</th>\n",
       "      <td>...</td>\n",
       "      <td>...</td>\n",
       "      <td>...</td>\n",
       "      <td>...</td>\n",
       "      <td>...</td>\n",
       "      <td>...</td>\n",
       "      <td>...</td>\n",
       "      <td>...</td>\n",
       "      <td>...</td>\n",
       "      <td>...</td>\n",
       "      <td>...</td>\n",
       "      <td>...</td>\n",
       "      <td>...</td>\n",
       "      <td>...</td>\n",
       "    </tr>\n",
       "    <tr>\n",
       "      <th>66</th>\n",
       "      <td>MM</td>\n",
       "      <td>177.3</td>\n",
       "      <td>35</td>\n",
       "      <td>8050</td>\n",
       "      <td>6925</td>\n",
       "      <td>0</td>\n",
       "      <td>1</td>\n",
       "      <td>0</td>\n",
       "      <td>0</td>\n",
       "      <td>1</td>\n",
       "      <td>0.657576</td>\n",
       "      <td>-0.610454</td>\n",
       "      <td>0.932568</td>\n",
       "      <td>1.060151</td>\n",
       "    </tr>\n",
       "    <tr>\n",
       "      <th>67</th>\n",
       "      <td>MM</td>\n",
       "      <td>173.7</td>\n",
       "      <td>50</td>\n",
       "      <td>7800</td>\n",
       "      <td>6675</td>\n",
       "      <td>0</td>\n",
       "      <td>1</td>\n",
       "      <td>1</td>\n",
       "      <td>0</td>\n",
       "      <td>0</td>\n",
       "      <td>0.366756</td>\n",
       "      <td>1.282871</td>\n",
       "      <td>0.794262</td>\n",
       "      <td>0.923015</td>\n",
       "    </tr>\n",
       "    <tr>\n",
       "      <th>68</th>\n",
       "      <td>MM</td>\n",
       "      <td>173.3</td>\n",
       "      <td>41</td>\n",
       "      <td>5920</td>\n",
       "      <td>4795</td>\n",
       "      <td>0</td>\n",
       "      <td>1</td>\n",
       "      <td>0</td>\n",
       "      <td>1</td>\n",
       "      <td>0</td>\n",
       "      <td>0.334443</td>\n",
       "      <td>0.146876</td>\n",
       "      <td>-0.245799</td>\n",
       "      <td>-0.108246</td>\n",
       "    </tr>\n",
       "    <tr>\n",
       "      <th>69</th>\n",
       "      <td>LL</td>\n",
       "      <td>180.4</td>\n",
       "      <td>48</td>\n",
       "      <td>7560</td>\n",
       "      <td>6185</td>\n",
       "      <td>0</td>\n",
       "      <td>1</td>\n",
       "      <td>1</td>\n",
       "      <td>0</td>\n",
       "      <td>0</td>\n",
       "      <td>0.908004</td>\n",
       "      <td>1.030427</td>\n",
       "      <td>0.661488</td>\n",
       "      <td>0.654229</td>\n",
       "    </tr>\n",
       "    <tr>\n",
       "      <th>70</th>\n",
       "      <td>LL</td>\n",
       "      <td>160.7</td>\n",
       "      <td>36</td>\n",
       "      <td>10480</td>\n",
       "      <td>9355</td>\n",
       "      <td>1</td>\n",
       "      <td>0</td>\n",
       "      <td>0</td>\n",
       "      <td>0</td>\n",
       "      <td>1</td>\n",
       "      <td>-0.683426</td>\n",
       "      <td>-0.484232</td>\n",
       "      <td>2.276903</td>\n",
       "      <td>2.393111</td>\n",
       "    </tr>\n",
       "  </tbody>\n",
       "</table>\n",
       "<p>71 rows × 14 columns</p>\n",
       "</div>"
      ],
      "text/plain": [
       "   car_type  height  age  salary  expenditure  gender_F  gender_M  company_A  \\\n",
       "0        MM   176.6   53    8220         7470         0         1          1   \n",
       "1        MM   154.6   47    6480         4730         1         0          1   \n",
       "2        SS   170.1   31    3330         2205         0         1          0   \n",
       "3        MM   165.1   43    6370         4995         0         1          1   \n",
       "4        MM   155.7   43    6620         5245         1         0          0   \n",
       "..      ...     ...  ...     ...          ...       ...       ...        ...   \n",
       "66       MM   177.3   35    8050         6925         0         1          0   \n",
       "67       MM   173.7   50    7800         6675         0         1          1   \n",
       "68       MM   173.3   41    5920         4795         0         1          0   \n",
       "69       LL   180.4   48    7560         6185         0         1          1   \n",
       "70       LL   160.7   36   10480         9355         1         0          0   \n",
       "\n",
       "    company_B  company_C  height_st    age_st  salary_st  expenditure_st  \n",
       "0           0          0   0.601027  1.661536   1.026616        1.359107  \n",
       "1           0          0  -1.176204  0.904206   0.064006       -0.143901  \n",
       "2           1          0   0.075936 -1.115340  -1.678650       -1.528972  \n",
       "3           0          0  -0.327980  0.399319   0.003152        0.001463  \n",
       "4           1          0  -1.087343  0.399319   0.141458        0.138599  \n",
       "..        ...        ...        ...       ...        ...             ...  \n",
       "66          0          1   0.657576 -0.610454   0.932568        1.060151  \n",
       "67          0          0   0.366756  1.282871   0.794262        0.923015  \n",
       "68          1          0   0.334443  0.146876  -0.245799       -0.108246  \n",
       "69          0          0   0.908004  1.030427   0.661488        0.654229  \n",
       "70          0          1  -0.683426 -0.484232   2.276903        2.393111  \n",
       "\n",
       "[71 rows x 14 columns]"
      ]
     },
     "execution_count": 257,
     "metadata": {},
     "output_type": "execute_result"
    }
   ],
   "source": [
    "# test dataset 준비,  train StandardScaler 적용, concat\n",
    "df_hk_5_test_sd = pd.DataFrame(sd_5_train.transform(test_df_hk_3[['height', 'age', 'salary', 'expenditure']]),\n",
    "                               columns=['height_st', 'age_st', 'salary_st', 'expenditure_st'])\n",
    "df_hk_5_test_sd\n",
    "# test.transform, pd.DataFrame\n",
    "\n",
    "\n",
    "# test concat, reset_index(drop=True) \n",
    "test_df_hk_5 = pd.concat([test_df_hk_3.reset_index(drop=True), df_hk_5_test_sd.reset_index(drop=True)],axis=1)\n",
    "test_df_hk_5\n"
   ]
  },
  {
   "cell_type": "code",
   "execution_count": 258,
   "metadata": {},
   "outputs": [
    {
     "data": {
      "text/html": [
       "<div>\n",
       "<style scoped>\n",
       "    .dataframe tbody tr th:only-of-type {\n",
       "        vertical-align: middle;\n",
       "    }\n",
       "\n",
       "    .dataframe tbody tr th {\n",
       "        vertical-align: top;\n",
       "    }\n",
       "\n",
       "    .dataframe thead th {\n",
       "        text-align: right;\n",
       "    }\n",
       "</style>\n",
       "<table border=\"1\" class=\"dataframe\">\n",
       "  <thead>\n",
       "    <tr style=\"text-align: right;\">\n",
       "      <th></th>\n",
       "      <th>car_type</th>\n",
       "      <th>height_st</th>\n",
       "      <th>age_st</th>\n",
       "      <th>salary_st</th>\n",
       "      <th>expenditure_st</th>\n",
       "      <th>gender_F</th>\n",
       "      <th>gender_M</th>\n",
       "    </tr>\n",
       "  </thead>\n",
       "  <tbody>\n",
       "    <tr>\n",
       "      <th>0</th>\n",
       "      <td>MM</td>\n",
       "      <td>-0.239118</td>\n",
       "      <td>0.273098</td>\n",
       "      <td>-0.035574</td>\n",
       "      <td>0.100201</td>\n",
       "      <td>0</td>\n",
       "      <td>1</td>\n",
       "    </tr>\n",
       "    <tr>\n",
       "      <th>1</th>\n",
       "      <td>LL</td>\n",
       "      <td>-0.336058</td>\n",
       "      <td>0.525541</td>\n",
       "      <td>3.112271</td>\n",
       "      <td>3.221411</td>\n",
       "      <td>1</td>\n",
       "      <td>0</td>\n",
       "    </tr>\n",
       "    <tr>\n",
       "      <th>2</th>\n",
       "      <td>SS</td>\n",
       "      <td>1.392703</td>\n",
       "      <td>-0.989119</td>\n",
       "      <td>-1.485021</td>\n",
       "      <td>-1.474118</td>\n",
       "      <td>0</td>\n",
       "      <td>1</td>\n",
       "    </tr>\n",
       "    <tr>\n",
       "      <th>3</th>\n",
       "      <td>SS</td>\n",
       "      <td>-0.384528</td>\n",
       "      <td>0.273098</td>\n",
       "      <td>-0.976055</td>\n",
       "      <td>-0.969458</td>\n",
       "      <td>1</td>\n",
       "      <td>0</td>\n",
       "    </tr>\n",
       "    <tr>\n",
       "      <th>4</th>\n",
       "      <td>SS</td>\n",
       "      <td>1.449252</td>\n",
       "      <td>0.020654</td>\n",
       "      <td>-0.339847</td>\n",
       "      <td>-0.338634</td>\n",
       "      <td>0</td>\n",
       "      <td>1</td>\n",
       "    </tr>\n",
       "    <tr>\n",
       "      <th>...</th>\n",
       "      <td>...</td>\n",
       "      <td>...</td>\n",
       "      <td>...</td>\n",
       "      <td>...</td>\n",
       "      <td>...</td>\n",
       "      <td>...</td>\n",
       "      <td>...</td>\n",
       "    </tr>\n",
       "    <tr>\n",
       "      <th>160</th>\n",
       "      <td>SS</td>\n",
       "      <td>0.067858</td>\n",
       "      <td>-0.105567</td>\n",
       "      <td>-0.588798</td>\n",
       "      <td>-0.585478</td>\n",
       "      <td>1</td>\n",
       "      <td>0</td>\n",
       "    </tr>\n",
       "    <tr>\n",
       "      <th>161</th>\n",
       "      <td>MM</td>\n",
       "      <td>-0.336058</td>\n",
       "      <td>0.020654</td>\n",
       "      <td>-0.898604</td>\n",
       "      <td>-0.892662</td>\n",
       "      <td>1</td>\n",
       "      <td>0</td>\n",
       "    </tr>\n",
       "    <tr>\n",
       "      <th>162</th>\n",
       "      <td>MM</td>\n",
       "      <td>-0.239118</td>\n",
       "      <td>-0.610454</td>\n",
       "      <td>-0.776894</td>\n",
       "      <td>-0.634847</td>\n",
       "      <td>0</td>\n",
       "      <td>1</td>\n",
       "    </tr>\n",
       "    <tr>\n",
       "      <th>163</th>\n",
       "      <td>MM</td>\n",
       "      <td>1.150354</td>\n",
       "      <td>0.399319</td>\n",
       "      <td>0.135925</td>\n",
       "      <td>-0.278294</td>\n",
       "      <td>0</td>\n",
       "      <td>1</td>\n",
       "    </tr>\n",
       "    <tr>\n",
       "      <th>164</th>\n",
       "      <td>MM</td>\n",
       "      <td>-1.620512</td>\n",
       "      <td>-0.736675</td>\n",
       "      <td>0.727875</td>\n",
       "      <td>1.062894</td>\n",
       "      <td>1</td>\n",
       "      <td>0</td>\n",
       "    </tr>\n",
       "  </tbody>\n",
       "</table>\n",
       "<p>165 rows × 7 columns</p>\n",
       "</div>"
      ],
      "text/plain": [
       "    car_type  height_st    age_st  salary_st  expenditure_st  gender_F  \\\n",
       "0         MM  -0.239118  0.273098  -0.035574        0.100201         0   \n",
       "1         LL  -0.336058  0.525541   3.112271        3.221411         1   \n",
       "2         SS   1.392703 -0.989119  -1.485021       -1.474118         0   \n",
       "3         SS  -0.384528  0.273098  -0.976055       -0.969458         1   \n",
       "4         SS   1.449252  0.020654  -0.339847       -0.338634         0   \n",
       "..       ...        ...       ...        ...             ...       ...   \n",
       "160       SS   0.067858 -0.105567  -0.588798       -0.585478         1   \n",
       "161       MM  -0.336058  0.020654  -0.898604       -0.892662         1   \n",
       "162       MM  -0.239118 -0.610454  -0.776894       -0.634847         0   \n",
       "163       MM   1.150354  0.399319   0.135925       -0.278294         0   \n",
       "164       MM  -1.620512 -0.736675   0.727875        1.062894         1   \n",
       "\n",
       "     gender_M  \n",
       "0           1  \n",
       "1           0  \n",
       "2           1  \n",
       "3           0  \n",
       "4           1  \n",
       "..        ...  \n",
       "160         0  \n",
       "161         0  \n",
       "162         1  \n",
       "163         1  \n",
       "164         0  \n",
       "\n",
       "[165 rows x 7 columns]"
      ]
     },
     "execution_count": 258,
     "metadata": {},
     "output_type": "execute_result"
    }
   ],
   "source": [
    "# train, test df 생성 , ['car_type', 'height_st', 'age_st', 'salary_st', 'expenditure_st', 'gender_F', 'gender_M']\n",
    "train_df_hk_5 = train_df_hk_5[['car_type', 'height_st', 'age_st', 'salary_st', 'expenditure_st', 'gender_F', 'gender_M']]\n",
    "test_df_hk_5 = test_df_hk_5[['car_type', 'height_st', 'age_st', 'salary_st', 'expenditure_st', 'gender_F', 'gender_M']]\n",
    "train_df_hk_5"
   ]
  },
  {
   "cell_type": "code",
   "execution_count": 259,
   "metadata": {},
   "outputs": [],
   "source": [
    "# KNeighborsClassifier 호출\n",
    "from sklearn.neighbors import KNeighborsClassifier\n",
    "from sklearn.neighbors import KNeighborsClassifier"
   ]
  },
  {
   "cell_type": "code",
   "execution_count": 262,
   "metadata": {},
   "outputs": [],
   "source": [
    "# KNeighborsClassifier 모델링(n_neighbors=3), fitting\n",
    "model_5 = KNeighborsClassifier(n_neighbors=3).fit(X = train_df_hk_5.drop('car_type', axis=1),\n",
    "                                        y = train_df_hk_5['car_type'])"
   ]
  },
  {
   "cell_type": "code",
   "execution_count": 265,
   "metadata": {},
   "outputs": [],
   "source": [
    "# KNeighborsClassifier 예측\n",
    "model5_pred = model_5.predict(test_df_hk_5.drop('car_type',axis=1))"
   ]
  },
  {
   "cell_type": "code",
   "execution_count": null,
   "metadata": {},
   "outputs": [],
   "source": [
    "# KNeighborsClassifier 확률값\n"
   ]
  },
  {
   "cell_type": "code",
   "execution_count": null,
   "metadata": {
    "scrolled": true
   },
   "outputs": [],
   "source": [
    "# classification_report (KNeighborsClassifier)\n"
   ]
  },
  {
   "cell_type": "code",
   "execution_count": null,
   "metadata": {
    "scrolled": true
   },
   "outputs": [],
   "source": [
    "# classification_report (MultinomialNB)  비교\n"
   ]
  },
  {
   "cell_type": "code",
   "execution_count": 266,
   "metadata": {
    "scrolled": false
   },
   "outputs": [
    {
     "name": "stdout",
     "output_type": "stream",
     "text": [
      "              precision    recall  f1-score   support\n",
      "\n",
      "          LL       0.60      0.80      0.69        15\n",
      "          MM       0.83      0.67      0.74        36\n",
      "          SS       0.82      0.90      0.86        20\n",
      "\n",
      "    accuracy                           0.76        71\n",
      "   macro avg       0.75      0.79      0.76        71\n",
      "weighted avg       0.78      0.76      0.76        71\n",
      "\n"
     ]
    }
   ],
   "source": [
    "# classification_report (tree) 비교\n",
    "print(classification_report(test_df_hk_3['car_type'], model5_pred))"
   ]
  },
  {
   "cell_type": "markdown",
   "metadata": {},
   "source": [
    "##  $\\Sigma$ (시그마) Quiz"
   ]
  },
  {
   "cell_type": "markdown",
   "metadata": {},
   "source": [
    "### quiz 1) diamond 데이터 셋 활용"
   ]
  },
  {
   "cell_type": "markdown",
   "metadata": {},
   "source": [
    "다이아몬드 특성을 바탕으로 cut 분류 "
   ]
  },
  {
   "cell_type": "markdown",
   "metadata": {},
   "source": [
    "데이터(diamonds.csv) 사이즈 : 53940 X 10\n",
    "<br> \n",
    "<br> <b>carat:</b> weight of the diamond (0.2--5.01)\n",
    "<br> <b>cut:</b> quality of the cut (Fair, Good, Very Good, Premium, Ideal)\n",
    "<br> <b>color:</b> diamond colour, from D (best) to J (worst)\n",
    "<br> <b>clarity:</b> a measurement of how clear the diamond is (I1 (worst), SI2, SI1, VS2, VS1, VVS2, VVS1, IF (best))\n",
    "<br> <b>depth:</b> total depth percentage = z / mean(x, y) = 2 * z / (x + y) (43--79)\n",
    "<br> <b>table:</b> width of top of diamond relative to widest point (43--95) \n",
    "<br> <b>price:</b> price in US dollars (us326--us18,823)\n",
    "<br> <b>x:</b> length in mm (0--10.74)\n",
    "<br> <b>y:</b> width in mm (0--58.9)\n",
    "<br> <b>z:</b> depth in mm (0--31.8)\n",
    "\n",
    "<br>\n",
    "<br>\n",
    "목표: 단가 높은 다이아몬드 판단하기  \n",
    "<br>1. 캐럿당 가격을 알 수 있는 <b>carat_per_price</b> 합성변수 생성, carat_per_price = price / carat \n",
    "<br> 상위 25% 값인 약 4949.5997 보다 높으면 1, 나머지는 0 으로하는 target 변수 생성 \n",
    "<br>2. cut, color, clarity one-hot인코딩(dummy) 진행 price 제외한 모든 수치형 변수 독립변수로 추가( 종속변수 제외, 총 26개 변수)\n",
    "<br>3. 트레이닝 데이터셋, 테스트 데이터셋 7:3 비율로 생성(random_state=123)\n",
    "<br>4. from sklearn.tree import DecisionTreeClassifier 활용 \n",
    "<br>(불순도 기준: Gini, Max Depth: 6, Min Samples Splits: 5, Seed: 1234, 그 외: Default)\n",
    "<br> 26개 독립변수를 활용하여 target을 분류 예측하는 의사결정 나무 모델 적합 \n",
    "<br> 5. 테스트 셋(16,182 rows)을 바탕으로 예측하고 실제값과 비교해 f1_score를 구하시오(target 1 기준으로)"
   ]
  },
  {
   "cell_type": "code",
   "execution_count": null,
   "metadata": {},
   "outputs": [],
   "source": [
    "# 파일 로딩\n",
    "df_dia = pd.read_csv('.\\\\data\\\\diamonds.csv')\n",
    "df_dia.head(3)"
   ]
  },
  {
   "cell_type": "code",
   "execution_count": null,
   "metadata": {},
   "outputs": [],
   "source": [
    "# step1) 1. 캐럿당 가격을 알 수 있는 <b>carat_per_price</b> 합성변수 생성, carat_per_price = price / carat\n",
    "\n",
    "# step1) 상위 25% 값인 약 4950 보다 높으면 1, 나머지는 0 으로하는 target 변수 생성\n",
    "\n",
    "# value_counts\n",
    "\n",
    "# step2) cut, color, clarity one-hot인코딩, price 제외한 모든 수치형 변수 독립변수로 추가( 종속변수 제외, 총 26개 변수)\n",
    "\n",
    "# concat\n",
    "\n",
    "# train_test_split(7:3 비율로 생성, random_state=123)\n",
    "from sklearn.model_selection import train_test_split\n",
    "\n",
    "# step4) DecisionTreeClassifier 활용 (불순도 기준: Gini, Max Depth: 6, Min Samples Splits: 5, Seed: 1234, 그 외: Default)\n",
    "# 26개 독립변수를 활용하여 target을 분류 예측하는 의사결정 나무 모델 적합\n",
    "\n",
    "from sklearn.tree import DecisionTreeClassifier\n",
    "\n",
    "# predict\n",
    "\n",
    "# crosstab\n",
    "\n",
    "# step5) f1_score를 구하시오(target 1 기준으로)\n"
   ]
  },
  {
   "cell_type": "code",
   "execution_count": null,
   "metadata": {
    "colab": {
     "base_uri": "https://localhost:8080/"
    },
    "executionInfo": {
     "elapsed": 15,
     "status": "ok",
     "timestamp": 1668725563817,
     "user": {
      "displayName": "jinyang park",
      "userId": "06576046992691541404"
     },
     "user_tz": -540
    },
    "id": "U7bJWMjX4d89",
    "outputId": "364f40c0-7f47-4b94-aedd-94f53fe84574"
   },
   "outputs": [],
   "source": [
    "# feature_importances_ 확인\n",
    "\n",
    "# 시각화\n",
    "sns.barplot( x='imp_3', y='feature', data=model_imp_3.head(10))\n",
    "plt.show()"
   ]
  },
  {
   "cell_type": "markdown",
   "metadata": {},
   "source": [
    "의사결정 나무 시각화 "
   ]
  },
  {
   "cell_type": "code",
   "execution_count": null,
   "metadata": {},
   "outputs": [],
   "source": [
    "from sklearn.tree import plot_tree\n",
    "plt.figure(figsize=(25,10))\n",
    "a = plot_tree(model_tree, \n",
    "              feature_names= model_tree.feature_names_in_, \n",
    "              class_names= str(dia_train['target'].unique()), \n",
    "              filled=True, \n",
    "              rounded=True,\n",
    "              max_depth= 3, \n",
    "              fontsize=14)"
   ]
  },
  {
   "cell_type": "markdown",
   "metadata": {},
   "source": [
    "### quiz 2)  와인 데이터 셋 활용"
   ]
  },
  {
   "cell_type": "markdown",
   "metadata": {},
   "source": [
    "와인의 다양한 특성 바탕으로 KNN 분류 예측 모델 생성 \n",
    "\n",
    "데이터(sklearn_wine.csv) 사이즈 : 178 X 14\n",
    "\n",
    "<br><b>alcohol</b>: 알코올\n",
    "<br><b>malic acid</b>: 말산\n",
    "<br><b>ash</b> : 회분\n",
    "<br><b>alcalinity of ash</b>: 회분의 알칼리도\n",
    "<br><b>magnesium</b>: 마그네슘\n",
    "<br><b>total phenols</b>: 총 폴리페놀\n",
    "<br><b>color intensity</b>: 색상의 강도\n",
    "<br><b>hue</b>: 색상 \n",
    "\n",
    "등\n",
    "\n",
    "목표: 와인의 화학적 특성을 바탕으로 와인 종류를 예측하기 \n",
    "1. 종속변수는 target 변수에서 항목이 1일경우 1, 나머지는 0으로 하는 칼럼을 만들고 target 변수 그대로 덮어쓴다.\n",
    "2. 독립변수는 13개 수치형 변수 그대로 활용하되 정규화(minmax)를 통해 단위를 통일한다. \n",
    "3. 트레이닝 데이터셋과 테스트 데이터 셋 7:3으로 분할 한다.(random_state = 123으로 설정) \n",
    "4. K-Nearest Neighbor 알고리즘을 활용하되 n_neighbor 수는 3으로 설정한다. \n",
    "5. 트레이닝 데이터셋을 바탕으로 모델을 학습하고 학습한 모델을 바탕으로 테스트 데이터셋을 분류 예측한다. \n",
    "6. recall 값과 f1값을 구하시오 "
   ]
  },
  {
   "cell_type": "code",
   "execution_count": null,
   "metadata": {},
   "outputs": [],
   "source": [
    "# 파일 로딩\n",
    "df_wine = pd.read_csv('.\\\\data\\\\sklearn_wine.csv').drop('Unnamed: 0', axis=1)\n",
    "df_wine[:5]"
   ]
  },
  {
   "cell_type": "code",
   "execution_count": null,
   "metadata": {},
   "outputs": [],
   "source": [
    "# step1) 종속변수는 target 변수에서 항목이 1일경우 1, 나머지는 0으로 하는 칼럼을 만들고 target 변수 그대로 덮어쓴다.\n",
    "\n",
    "\n",
    "# step2) 독립변수는 13개 수치형 변수 그대로 활용하되 정규화(minmax)를 통해 단위를 통일한다. \n",
    "\n",
    "from sklearn.preprocessing import MinMaxScaler\n",
    "\n",
    "\n",
    "# step3) 트레이닝 데이터셋과 테스트 데이터 셋 7:3으로 분할 한다.(random_state = 123으로 설정) \n",
    "\n",
    "\n",
    "# step4) K-Nearest Neighbor 알고리즘을 활용하되 n_neighbor 수는 3으로 설정한다\n",
    "\n",
    "\n",
    "# step5) 테스트 데이터셋을 분류 예측 \n",
    "# step6) recall 값을 구하시오 \n",
    "\n"
   ]
  },
  {
   "cell_type": "markdown",
   "metadata": {},
   "source": [
    "## $\\Omega$(오메가) Quiz"
   ]
  },
  {
   "cell_type": "markdown",
   "metadata": {},
   "source": [
    "1) 타이타닉 생존자 분류하기 \n",
    "\n",
    "<br> 데이터셋(seaborn_titanic.csv): seaborn library dataset\n",
    "<br> 891 rows × 15 columns\n",
    "\n",
    "<br><b> survived</b> : 생존 여부( 0: 사망/ 1: 생존) \n",
    "<br><b> pclass</b> : 좌석등급(1/2/3)\n",
    "<br><b> sex</b> : 성별 \n",
    "<br><b> age</b> : 나이 \n",
    "<br><b> sibsp</b> : 형제자매 + 배우자 인원수 \n",
    "<br><b> parch</b> : 부모 + 자식 인원수 \n",
    "<br><b> fare</b> : 요금 \n",
    "<br><b> embarked</b> : 탑승 항구(S/C/Q)\n",
    "<br><b> class</b> : 좌석등급(First, Second, Third) \n",
    "<br><b> who</b> : 성별 \n",
    "<br><b> deck</b> : 선실 고유번호 가장 앞자리 알파벳(A/B/C/D/E/F/G)\n",
    "<br><b> embark_town</b> : 탑승 항구(Southampon/Cherbourg/Queenstown) \n",
    "<br><b> alive</b> : 생존여부 \n",
    "<br><b> alone</b> : 혼자인지 여부 \n",
    "\n",
    "등"
   ]
  },
  {
   "cell_type": "markdown",
   "metadata": {},
   "source": [
    "<br><실행순서>\n",
    "<br>1. 종속변수 : survived / 독립변수 : sex, age, sibsp, parch, fare, embarked, class로 한다\n",
    "<br>2. 해당 변수 중 하나라도 결측치가 있는 데이터 셋은 제외한다 \n",
    "<br>3. 독립변수 중 sex, embarked, class는 더미변수화 하며 drop_first 옵션은 True로 지정한다 \n",
    "<br>4. 수치형 독립변수 중 가장 왜도가 큰 변수 값은 log변환 한다.(변환시 np.log( 1+ 변수) 활용 할 것) \n",
    "<br>5. 트레이닝셋:테스트셋 7:3으로 분할한다(random_state =123)  \n",
    "<br>6. sklearn 라이브러리 활용 로지스틱 회귀분석 트레이닝셋 학습을 진행한다(파라미터 값 C=100000 ,solver='newton-cg' 적용)\n",
    "<br>7. 학습한 모델을 바탕으로 테스트셋 예측을 진행한다. \n",
    "<br>   이때 f1-score를 높이기 위해 예측값은 \n",
    "       확률값을 확인하여 target=1로 예측한 확률값이 0.4보다 큰 경우에는 1로 나머지는 0으로 분류한다        \n",
    "<br>8. 7번의 단계를 모두 수행한 후 class 1에 대한 변경된 f1-score값은 무엇인가"
   ]
  },
  {
   "cell_type": "code",
   "execution_count": null,
   "metadata": {},
   "outputs": [],
   "source": [
    "# 파일 로딩\n",
    "df_titanic = pd.read_csv('.\\\\data\\\\seaborn_titanic.csv')\n",
    "df_titanic[:5]"
   ]
  },
  {
   "cell_type": "code",
   "execution_count": null,
   "metadata": {},
   "outputs": [],
   "source": [
    "# step1) 종속변수 : survived / 독립변수 : sex, age, sibsp, parch, fare, embarked, class\n",
    "\n",
    "# step2) 해당 변수 중 하나라도 결측치가 있는 데이터 셋은 제외한다\n",
    "\n",
    "# step3) 독립변수 중 sex, embarked, class는 더미변수화 하며 drop_first 옵션은 True로 지정한다\n",
    "\n",
    "# skew\n",
    "\n",
    "# step4) 수치형 독립변수 중 가장 왜도가 큰 변수 값은 log변환 한다.(변환시 np.log( 1+ 변수) 활용 할 것)\n",
    "\n",
    "# step5) 트레이닝셋:테스트셋 7:3으로 분할한다(random_state =123)\n",
    "\n",
    "# step6) sklearn 라이브러리 활용 로지스틱 회귀분석 트레이닝셋 학습을 진행한다(파라미터 값 C=100000 ,solver='newton-cg' 적용)\n",
    "\n",
    "# step7) 테스트셋 예측, 이때 f1-score를 높이기 위해 \n",
    "# 예측값은 확률값을 확인하여 target=1로 예측한 확률값이 0.4보다 큰 경우에는 1로 나머지는 0으로 분류한다\n",
    "\n",
    "# predict_proba\n",
    "\n",
    "# step7) 테스트셋 예측, 이때 f1-score를 높이기 위해 \n",
    "# 예측값은 확률값을 확인하여 target=1로 예측한 확률값이 0.4보다 큰 경우에는 1로 나머지는 0으로 분류한다\n",
    "\n",
    "# step8) 7번의 단계를 모두 수행한 후 class 1에 대한 변경된 f1-score값은 무엇인가\n"
   ]
  },
  {
   "cell_type": "code",
   "execution_count": null,
   "metadata": {},
   "outputs": [],
   "source": []
  }
 ],
 "metadata": {
  "colab": {
   "authorship_tag": "ABX9TyMDMucM2pMTNZILG4KX61Uv",
   "collapsed_sections": [
    "4JTxsWF-5sXG",
    "hfMi2HeL4piH",
    "5YwW9JcI1BcB",
    "0DC3DnJKED-q",
    "7OEylfG6Ou24",
    "z4IpIXV-edh3",
    "vhWiJegbvSiL",
    "rttRLvNIl51S",
    "X7ZNaAeiw8e1",
    "LrwKIIBM3AuA",
    "JpMOZEbbpdH6",
    "Ht5WvWhG6tun",
    "joz0fttoOWYJ"
   ],
   "provenance": [],
   "toc_visible": true
  },
  "kernelspec": {
   "display_name": "Python 3 (ipykernel)",
   "language": "python",
   "name": "python3"
  },
  "language_info": {
   "codemirror_mode": {
    "name": "ipython",
    "version": 3
   },
   "file_extension": ".py",
   "mimetype": "text/x-python",
   "name": "python",
   "nbconvert_exporter": "python",
   "pygments_lexer": "ipython3",
   "version": "3.9.7"
  }
 },
 "nbformat": 4,
 "nbformat_minor": 1
}
