{
 "cells": [
  {
   "cell_type": "markdown",
   "id": "LHdZK9XdZKYd",
   "metadata": {
    "id": "LHdZK9XdZKYd"
   },
   "source": [
    "# [KDT] ch2 기초 통계"
   ]
  },
  {
   "cell_type": "code",
   "execution_count": 4,
   "id": "659ed5d3",
   "metadata": {},
   "outputs": [
    {
     "name": "stdout",
     "output_type": "stream",
     "text": [
      "Requirement already satisfied: seaborn in c:\\anaconda3\\lib\\site-packages (0.11.2)\n",
      "Requirement already satisfied: numpy>=1.15 in c:\\anaconda3\\lib\\site-packages (from seaborn) (1.20.3)\n",
      "Requirement already satisfied: pandas>=0.23 in c:\\anaconda3\\lib\\site-packages (from seaborn) (1.3.4)\n",
      "Requirement already satisfied: scipy>=1.0 in c:\\anaconda3\\lib\\site-packages (from seaborn) (1.7.1)\n",
      "Requirement already satisfied: matplotlib>=2.2 in c:\\anaconda3\\lib\\site-packages (from seaborn) (3.4.3)\n",
      "Requirement already satisfied: python-dateutil>=2.7 in c:\\anaconda3\\lib\\site-packages (from matplotlib>=2.2->seaborn) (2.8.2)\n",
      "Requirement already satisfied: kiwisolver>=1.0.1 in c:\\anaconda3\\lib\\site-packages (from matplotlib>=2.2->seaborn) (1.3.1)\n",
      "Requirement already satisfied: pillow>=6.2.0 in c:\\anaconda3\\lib\\site-packages (from matplotlib>=2.2->seaborn) (8.4.0)\n",
      "Requirement already satisfied: pyparsing>=2.2.1 in c:\\anaconda3\\lib\\site-packages (from matplotlib>=2.2->seaborn) (3.0.4)\n",
      "Requirement already satisfied: cycler>=0.10 in c:\\anaconda3\\lib\\site-packages (from matplotlib>=2.2->seaborn) (0.10.0)\n",
      "Requirement already satisfied: six in c:\\anaconda3\\lib\\site-packages (from cycler>=0.10->matplotlib>=2.2->seaborn) (1.16.0)\n",
      "Requirement already satisfied: pytz>=2017.3 in c:\\anaconda3\\lib\\site-packages (from pandas>=0.23->seaborn) (2021.3)\n",
      "Requirement already satisfied: matplotlib in c:\\anaconda3\\lib\\site-packages (3.4.3)\n",
      "Requirement already satisfied: pyparsing>=2.2.1 in c:\\anaconda3\\lib\\site-packages (from matplotlib) (3.0.4)\n",
      "Requirement already satisfied: kiwisolver>=1.0.1 in c:\\anaconda3\\lib\\site-packages (from matplotlib) (1.3.1)\n",
      "Requirement already satisfied: numpy>=1.16 in c:\\anaconda3\\lib\\site-packages (from matplotlib) (1.20.3)\n",
      "Requirement already satisfied: python-dateutil>=2.7 in c:\\anaconda3\\lib\\site-packages (from matplotlib) (2.8.2)\n",
      "Requirement already satisfied: cycler>=0.10 in c:\\anaconda3\\lib\\site-packages (from matplotlib) (0.10.0)\n",
      "Requirement already satisfied: pillow>=6.2.0 in c:\\anaconda3\\lib\\site-packages (from matplotlib) (8.4.0)\n",
      "Requirement already satisfied: six in c:\\anaconda3\\lib\\site-packages (from cycler>=0.10->matplotlib) (1.16.0)\n",
      "Collecting sklearn\n",
      "  Downloading sklearn-0.0.post1.tar.gz (3.6 kB)\n",
      "Building wheels for collected packages: sklearn\n",
      "  Building wheel for sklearn (setup.py): started\n",
      "  Building wheel for sklearn (setup.py): finished with status 'done'\n",
      "  Created wheel for sklearn: filename=sklearn-0.0.post1-py3-none-any.whl size=2344 sha256=494f300f88a24ef7a587751f162f80956f932d92347484f237289e9f553a4fb0\n",
      "  Stored in directory: c:\\users\\김진산\\appdata\\local\\pip\\cache\\wheels\\f8\\e0\\3d\\9d0c2020c44a519b9f02ab4fa6d2a4a996c98d79ab2f569fa1\n",
      "Successfully built sklearn\n",
      "Installing collected packages: sklearn\n",
      "Successfully installed sklearn-0.0.post1\n"
     ]
    }
   ],
   "source": [
    "# !pip install seaborn\n",
    "# !pip install matplotlib\n",
    "# !pip install sklearn"
   ]
  },
  {
   "cell_type": "code",
   "execution_count": 5,
   "id": "hUdbGv2JYynV",
   "metadata": {
    "id": "hUdbGv2JYynV"
   },
   "outputs": [],
   "source": [
    "import pandas as pd\n",
    "import numpy as np\n",
    "import datetime\n",
    "import seaborn as sns\n",
    "import matplotlib.pyplot as plt\n",
    "\n",
    "import warnings\n",
    "warnings.filterwarnings('ignore')"
   ]
  },
  {
   "cell_type": "code",
   "execution_count": 6,
   "id": "syEh_JSsY9Gd",
   "metadata": {
    "colab": {
     "base_uri": "https://localhost:8080/",
     "height": 35
    },
    "executionInfo": {
     "elapsed": 392,
     "status": "ok",
     "timestamp": 1671690958870,
     "user": {
      "displayName": "jinyang park",
      "userId": "06576046992691541404"
     },
     "user_tz": -540
    },
    "id": "syEh_JSsY9Gd",
    "outputId": "fdfaff2e-038d-4ade-eed3-06d500c322bb"
   },
   "outputs": [
    {
     "data": {
      "text/plain": [
       "'1.3.4'"
      ]
     },
     "execution_count": 6,
     "metadata": {},
     "output_type": "execute_result"
    }
   ],
   "source": [
    "pd.__version__"
   ]
  },
  {
   "cell_type": "markdown",
   "id": "MZ8Q3hUmtb1N",
   "metadata": {
    "id": "MZ8Q3hUmtb1N"
   },
   "source": [
    "## 통계량"
   ]
  },
  {
   "cell_type": "code",
   "execution_count": 8,
   "id": "uR9_zvLAivod",
   "metadata": {
    "colab": {
     "base_uri": "https://localhost:8080/"
    },
    "executionInfo": {
     "elapsed": 6,
     "status": "ok",
     "timestamp": 1671692064255,
     "user": {
      "displayName": "jinyang park",
      "userId": "06576046992691541404"
     },
     "user_tz": -540
    },
    "id": "uR9_zvLAivod",
    "outputId": "991d5534-7d62-455a-b4b5-c5cdfc505a0d"
   },
   "outputs": [
    {
     "data": {
      "text/plain": [
       "array([0, 1, 2, 3, 4, 5, 6, 7, 8, 9])"
      ]
     },
     "execution_count": 8,
     "metadata": {},
     "output_type": "execute_result"
    }
   ],
   "source": [
    "# np.arange(10)\n",
    "array = np.arange(10)\n",
    "array"
   ]
  },
  {
   "cell_type": "code",
   "execution_count": 10,
   "id": "Vvw8HkJWjpUs",
   "metadata": {
    "colab": {
     "base_uri": "https://localhost:8080/"
    },
    "executionInfo": {
     "elapsed": 384,
     "status": "ok",
     "timestamp": 1671692087953,
     "user": {
      "displayName": "jinyang park",
      "userId": "06576046992691541404"
     },
     "user_tz": -540
    },
    "id": "Vvw8HkJWjpUs",
    "outputId": "8d40ab84-ff00-417e-e508-8943f6057314"
   },
   "outputs": [
    {
     "data": {
      "text/plain": [
       "4.5"
      ]
     },
     "execution_count": 10,
     "metadata": {},
     "output_type": "execute_result"
    }
   ],
   "source": [
    "# mean\n",
    "array.mean()"
   ]
  },
  {
   "cell_type": "code",
   "execution_count": 14,
   "id": "RwgNup9WnT4-",
   "metadata": {
    "colab": {
     "base_uri": "https://localhost:8080/"
    },
    "executionInfo": {
     "elapsed": 6,
     "status": "ok",
     "timestamp": 1671692154696,
     "user": {
      "displayName": "jinyang park",
      "userId": "06576046992691541404"
     },
     "user_tz": -540
    },
    "id": "RwgNup9WnT4-",
    "outputId": "1e8e8228-462a-4949-f6c7-8ec714379a30"
   },
   "outputs": [
    {
     "data": {
      "text/plain": [
       "8.0"
      ]
     },
     "execution_count": 14,
     "metadata": {},
     "output_type": "execute_result"
    }
   ],
   "source": [
    "# array [8,8,8,8,8,8,8,8,8] \n",
    "array8 =  [8,8,8,8,8,8,8,8,8] \n",
    "np.mean(array8)"
   ]
  },
  {
   "cell_type": "code",
   "execution_count": 16,
   "id": "hw23Uvmwjw4G",
   "metadata": {
    "colab": {
     "base_uri": "https://localhost:8080/"
    },
    "executionInfo": {
     "elapsed": 264,
     "status": "ok",
     "timestamp": 1671692169538,
     "user": {
      "displayName": "jinyang park",
      "userId": "06576046992691541404"
     },
     "user_tz": -540
    },
    "id": "hw23Uvmwjw4G",
    "outputId": "6d4e52b0-71a0-4783-8c8f-576a7061236e"
   },
   "outputs": [
    {
     "data": {
      "text/plain": [
       "4.5"
      ]
     },
     "execution_count": 16,
     "metadata": {},
     "output_type": "execute_result"
    }
   ],
   "source": [
    "# np.arange(10)통계량\n",
    "np.median(array)"
   ]
  },
  {
   "cell_type": "code",
   "execution_count": 19,
   "id": "mORMfSygyFAv",
   "metadata": {
    "colab": {
     "base_uri": "https://localhost:8080/"
    },
    "executionInfo": {
     "elapsed": 292,
     "status": "ok",
     "timestamp": 1671694989214,
     "user": {
      "displayName": "jinyang park",
      "userId": "06576046992691541404"
     },
     "user_tz": -540
    },
    "id": "mORMfSygyFAv",
    "outputId": "82b2822a-f4c9-4961-914e-56e8f429e500"
   },
   "outputs": [
    {
     "data": {
      "text/plain": [
       "0.0"
      ]
     },
     "execution_count": 19,
     "metadata": {},
     "output_type": "execute_result"
    }
   ],
   "source": [
    "# array [8,8,8,8,8,8,8,8,8]  통계량\n",
    "np.median(array8)\n",
    "np.var(array8)\n",
    "np.std(array8)"
   ]
  },
  {
   "cell_type": "code",
   "execution_count": 24,
   "id": "xcwazqTln89z",
   "metadata": {
    "colab": {
     "base_uri": "https://localhost:8080/"
    },
    "executionInfo": {
     "elapsed": 452,
     "status": "ok",
     "timestamp": 1671692299595,
     "user": {
      "displayName": "jinyang park",
      "userId": "06576046992691541404"
     },
     "user_tz": -540
    },
    "id": "xcwazqTln89z",
    "outputId": "1177a460-6d10-4348-92c2-b44fdc726035"
   },
   "outputs": [
    {
     "data": {
      "text/plain": [
       "ModeResult(mode=array([0]), count=array([1]))"
      ]
     },
     "execution_count": 24,
     "metadata": {},
     "output_type": "execute_result"
    }
   ],
   "source": [
    "# mod\n",
    "from scipy.stats import mode\n",
    "mode(array)"
   ]
  },
  {
   "cell_type": "code",
   "execution_count": 23,
   "id": "p2vsgN9GyYr_",
   "metadata": {
    "colab": {
     "base_uri": "https://localhost:8080/"
    },
    "executionInfo": {
     "elapsed": 308,
     "status": "ok",
     "timestamp": 1671695017092,
     "user": {
      "displayName": "jinyang park",
      "userId": "06576046992691541404"
     },
     "user_tz": -540
    },
    "id": "p2vsgN9GyYr_",
    "outputId": "499772e0-23fb-46dc-93c3-744a1c95da73"
   },
   "outputs": [
    {
     "data": {
      "text/plain": [
       "ModeResult(mode=array([8]), count=array([9]))"
      ]
     },
     "execution_count": 23,
     "metadata": {},
     "output_type": "execute_result"
    }
   ],
   "source": [
    "from scipy.stats import mode\n",
    "mode(array8)"
   ]
  },
  {
   "cell_type": "code",
   "execution_count": 29,
   "id": "4ee_wgugjgde",
   "metadata": {
    "id": "4ee_wgugjgde",
    "outputId": "c3e0c6c2-2f77-40de-c931-8a581ab36d52"
   },
   "outputs": [
    {
     "data": {
      "text/plain": [
       "(55.0, 825.0, 28.722813232690143)"
      ]
     },
     "execution_count": 29,
     "metadata": {},
     "output_type": "execute_result"
    }
   ],
   "source": [
    "# 데이터 값(scale)이 커질때 평균과 분산의 변화\n",
    "arr2 = np.arange(10,110,10)\n",
    "arr2\n",
    "np.mean(arr2), np.var(arr2), np.std(arr2)"
   ]
  },
  {
   "cell_type": "code",
   "execution_count": 32,
   "id": "Nd3wB1bdn1X6",
   "metadata": {
    "id": "Nd3wB1bdn1X6",
    "outputId": "599cc9ab-51a7-4ae9-ef96-d71851cd9274"
   },
   "outputs": [
    {
     "data": {
      "text/plain": [
       "(550.0, 82500.0, 287.22813232690146)"
      ]
     },
     "execution_count": 32,
     "metadata": {},
     "output_type": "execute_result"
    }
   ],
   "source": [
    "# arr2 * 10\n",
    "arr20 =  arr2 * 10\n",
    "arr20\n",
    "np.mean(arr20), np.var(arr20), np.std(arr20)"
   ]
  },
  {
   "cell_type": "code",
   "execution_count": 36,
   "id": "6ed495c3",
   "metadata": {},
   "outputs": [
    {
     "data": {
      "text/plain": [
       "<AxesSubplot:ylabel='Frequency'>"
      ]
     },
     "execution_count": 36,
     "metadata": {},
     "output_type": "execute_result"
    },
    {
     "data": {
      "image/png": "[encoded data removed]",
      "text/plain": [
       "<Figure size 432x288 with 1 Axes>"
      ]
     },
     "metadata": {
      "needs_background": "light"
     },
     "output_type": "display_data"
    }
   ],
   "source": [
    "pd.DataFrame(arr2).plot.hist(bins = 20)"
   ]
  },
  {
   "cell_type": "code",
   "execution_count": 37,
   "id": "3cf02ce3",
   "metadata": {},
   "outputs": [
    {
     "data": {
      "text/plain": [
       "<AxesSubplot:ylabel='Frequency'>"
      ]
     },
     "execution_count": 37,
     "metadata": {},
     "output_type": "execute_result"
    },
    {
     "data": {
      "image/png": "[encoded data removed]",
      "text/plain": [
       "<Figure size 432x288 with 1 Axes>"
      ]
     },
     "metadata": {
      "needs_background": "light"
     },
     "output_type": "display_data"
    }
   ],
   "source": [
    "pd.DataFrame(arr20).plot.hist(bins = 20)"
   ]
  },
  {
   "cell_type": "markdown",
   "id": "ykZ5wr87Znl8",
   "metadata": {
    "id": "ykZ5wr87Znl8"
   },
   "source": [
    "## Quiz\n",
    "\n",
    "data(hk_221206.csv)를 읽고 \n",
    "\n",
    "1) height column에 대한\n",
    "- 평균 (mean)\n",
    "- 중앙값 (mean)\n",
    "- 최빈값 (mode)\n",
    "- 1사분위수, 2사분위수, 3사분위수, IQR\n",
    "- 첨도\n",
    "- 왜도를 구하시오\n",
    "\n",
    "2) age column에 대한\n",
    "- 평균 (mean)\n",
    "- 중앙값 (mean)\n",
    "- 최대값 (max)를 구하시오"
   ]
  },
  {
   "cell_type": "code",
   "execution_count": null,
   "id": "dkCC3Fn4Y9nT",
   "metadata": {
    "colab": {
     "base_uri": "https://localhost:8080/"
    },
    "executionInfo": {
     "elapsed": 1236,
     "status": "ok",
     "timestamp": 1670293400558,
     "user": {
      "displayName": "jinyang park",
      "userId": "06576046992691541404"
     },
     "user_tz": -540
    },
    "id": "dkCC3Fn4Y9nT",
    "outputId": "20a7be86-33e0-45ca-e604-b00784650296",
    "scrolled": true
   },
   "outputs": [],
   "source": [
    "# 파일 로딩 \n"
   ]
  },
  {
   "cell_type": "code",
   "execution_count": null,
   "id": "SqEMJF39n1X7",
   "metadata": {
    "id": "SqEMJF39n1X7",
    "outputId": "40782762-dd17-4097-ceb2-63a4162e6a1c"
   },
   "outputs": [],
   "source": [
    "# 변수 type 확인\n"
   ]
  },
  {
   "cell_type": "code",
   "execution_count": null,
   "id": "nvaMG0S9Zjpr",
   "metadata": {
    "colab": {
     "base_uri": "https://localhost:8080/"
    },
    "executionInfo": {
     "elapsed": 33,
     "status": "ok",
     "timestamp": 1670293400560,
     "user": {
      "displayName": "jinyang park",
      "userId": "06576046992691541404"
     },
     "user_tz": -540
    },
    "id": "nvaMG0S9Zjpr",
    "outputId": "35521381-f316-4fd2-a803-6f226ccafd2b"
   },
   "outputs": [],
   "source": [
    "# 1) height column에 대한 통계량\n"
   ]
  },
  {
   "cell_type": "code",
   "execution_count": null,
   "id": "9nKKrHnrasbc",
   "metadata": {
    "colab": {
     "base_uri": "https://localhost:8080/"
    },
    "executionInfo": {
     "elapsed": 39,
     "status": "ok",
     "timestamp": 1670293401447,
     "user": {
      "displayName": "jinyang park",
      "userId": "06576046992691541404"
     },
     "user_tz": -540
    },
    "id": "9nKKrHnrasbc",
    "outputId": "12ff1047-0e1e-49a7-a6b0-1d1432a3862f"
   },
   "outputs": [],
   "source": [
    "# 2) age column에 대한\n"
   ]
  },
  {
   "cell_type": "code",
   "execution_count": null,
   "id": "6P0c8FfydWZz",
   "metadata": {
    "colab": {
     "base_uri": "https://localhost:8080/",
     "height": 390
    },
    "executionInfo": {
     "elapsed": 30,
     "status": "ok",
     "timestamp": 1670293400562,
     "user": {
      "displayName": "jinyang park",
      "userId": "06576046992691541404"
     },
     "user_tz": -540
    },
    "id": "6P0c8FfydWZz",
    "outputId": "62441956-671b-4f06-db96-f4d186fb374b"
   },
   "outputs": [],
   "source": [
    "# 그래프 (분포)\n"
   ]
  },
  {
   "cell_type": "code",
   "execution_count": null,
   "id": "V_IbeEXHd7FN",
   "metadata": {
    "colab": {
     "base_uri": "https://localhost:8080/",
     "height": 270
    },
    "executionInfo": {
     "elapsed": 49,
     "status": "ok",
     "timestamp": 1670293401444,
     "user": {
      "displayName": "jinyang park",
      "userId": "06576046992691541404"
     },
     "user_tz": -540
    },
    "id": "V_IbeEXHd7FN",
    "outputId": "51cdadc1-11bc-4480-8c78-e0eb44a82193"
   },
   "outputs": [],
   "source": [
    "# Grouped boxplots by seaborn\n"
   ]
  },
  {
   "cell_type": "code",
   "execution_count": null,
   "id": "IiuIQ7zfheEU",
   "metadata": {
    "colab": {
     "base_uri": "https://localhost:8080/",
     "height": 297
    },
    "executionInfo": {
     "elapsed": 43,
     "status": "ok",
     "timestamp": 1670293401446,
     "user": {
      "displayName": "jinyang park",
      "userId": "06576046992691541404"
     },
     "user_tz": -540
    },
    "id": "IiuIQ7zfheEU",
    "outputId": "40997593-c58c-4c9d-aa01-7a5e1ddd0bb5",
    "scrolled": false
   },
   "outputs": [],
   "source": [
    "# Grouped boxplots by seaborn\n",
    "sns.boxplot(x='company', \n",
    "            y='height', \n",
    "            data=df_hk)"
   ]
  },
  {
   "cell_type": "code",
   "execution_count": null,
   "id": "4EHwiLbZb3K7",
   "metadata": {
    "id": "4EHwiLbZb3K7"
   },
   "outputs": [],
   "source": []
  },
  {
   "cell_type": "markdown",
   "id": "oFOyy7RpWeun",
   "metadata": {
    "id": "oFOyy7RpWeun"
   },
   "source": [
    "## 조건부확률"
   ]
  },
  {
   "cell_type": "markdown",
   "id": "jieiCA5yTxpO",
   "metadata": {
    "id": "jieiCA5yTxpO"
   },
   "source": [
    "df_hk에서 \n",
    "\n",
    "1) 1명을 선택했을때 Gender 가 Female 이었다. company가 'A'일 확률은 ?"
   ]
  },
  {
   "cell_type": "code",
   "execution_count": 38,
   "id": "AlbwTaRaWhPw",
   "metadata": {
    "colab": {
     "base_uri": "https://localhost:8080/"
    },
    "executionInfo": {
     "elapsed": 34,
     "status": "ok",
     "timestamp": 1670293401449,
     "user": {
      "displayName": "jinyang park",
      "userId": "06576046992691541404"
     },
     "user_tz": -540
    },
    "id": "AlbwTaRaWhPw",
    "outputId": "29c2fd5f-4f79-4fff-a148-7f76d4dbf72d"
   },
   "outputs": [
    {
     "data": {
      "text/html": [
       "<div>\n",
       "<style scoped>\n",
       "    .dataframe tbody tr th:only-of-type {\n",
       "        vertical-align: middle;\n",
       "    }\n",
       "\n",
       "    .dataframe tbody tr th {\n",
       "        vertical-align: top;\n",
       "    }\n",
       "\n",
       "    .dataframe thead th {\n",
       "        text-align: right;\n",
       "    }\n",
       "</style>\n",
       "<table border=\"1\" class=\"dataframe\">\n",
       "  <thead>\n",
       "    <tr style=\"text-align: right;\">\n",
       "      <th></th>\n",
       "      <th>name</th>\n",
       "      <th>social_security_number</th>\n",
       "      <th>gender</th>\n",
       "      <th>height</th>\n",
       "      <th>age</th>\n",
       "      <th>blood_type</th>\n",
       "      <th>company</th>\n",
       "      <th>grades</th>\n",
       "      <th>salary</th>\n",
       "      <th>expenditure</th>\n",
       "      <th>car_type</th>\n",
       "    </tr>\n",
       "  </thead>\n",
       "  <tbody>\n",
       "    <tr>\n",
       "      <th>0</th>\n",
       "      <td>hkd1</td>\n",
       "      <td>990623-2</td>\n",
       "      <td>F</td>\n",
       "      <td>161.9</td>\n",
       "      <td>22</td>\n",
       "      <td>A</td>\n",
       "      <td>A</td>\n",
       "      <td>A</td>\n",
       "      <td>4100</td>\n",
       "      <td>1975</td>\n",
       "      <td>L</td>\n",
       "    </tr>\n",
       "    <tr>\n",
       "      <th>1</th>\n",
       "      <td>hkd10</td>\n",
       "      <td>900303-2</td>\n",
       "      <td>F</td>\n",
       "      <td>169.4</td>\n",
       "      <td>31</td>\n",
       "      <td>A</td>\n",
       "      <td>A</td>\n",
       "      <td>B</td>\n",
       "      <td>4720</td>\n",
       "      <td>2970</td>\n",
       "      <td>m</td>\n",
       "    </tr>\n",
       "    <tr>\n",
       "      <th>2</th>\n",
       "      <td>hkd100</td>\n",
       "      <td>681205-2</td>\n",
       "      <td>F</td>\n",
       "      <td>168.3</td>\n",
       "      <td>55</td>\n",
       "      <td>A</td>\n",
       "      <td>A</td>\n",
       "      <td>B</td>\n",
       "      <td>7280</td>\n",
       "      <td>5905</td>\n",
       "      <td>m</td>\n",
       "    </tr>\n",
       "    <tr>\n",
       "      <th>3</th>\n",
       "      <td>hkd101</td>\n",
       "      <td>931226-2</td>\n",
       "      <td>F</td>\n",
       "      <td>155.3</td>\n",
       "      <td>28</td>\n",
       "      <td>AB</td>\n",
       "      <td>B</td>\n",
       "      <td>B</td>\n",
       "      <td>4060</td>\n",
       "      <td>2935</td>\n",
       "      <td>m</td>\n",
       "    </tr>\n",
       "    <tr>\n",
       "      <th>4</th>\n",
       "      <td>hkd102</td>\n",
       "      <td>920123-1</td>\n",
       "      <td>M</td>\n",
       "      <td>188.6</td>\n",
       "      <td>29</td>\n",
       "      <td>O</td>\n",
       "      <td>B</td>\n",
       "      <td>F</td>\n",
       "      <td>4390</td>\n",
       "      <td>4015</td>\n",
       "      <td>SS</td>\n",
       "    </tr>\n",
       "  </tbody>\n",
       "</table>\n",
       "</div>"
      ],
      "text/plain": [
       "     name social_security_number gender  height  age blood_type company  \\\n",
       "0    hkd1               990623-2      F   161.9   22          A       A   \n",
       "1   hkd10               900303-2      F   169.4   31          A       A   \n",
       "2  hkd100               681205-2      F   168.3   55          A       A   \n",
       "3  hkd101               931226-2      F   155.3   28         AB       B   \n",
       "4  hkd102               920123-1      M   188.6   29          O       B   \n",
       "\n",
       "  grades  salary  expenditure car_type  \n",
       "0      A    4100         1975        L  \n",
       "1      B    4720         2970        m  \n",
       "2      B    7280         5905        m  \n",
       "3      B    4060         2935        m  \n",
       "4      F    4390         4015       SS  "
      ]
     },
     "execution_count": 38,
     "metadata": {},
     "output_type": "execute_result"
    }
   ],
   "source": [
    "# 파일 로딩\n",
    "df_hk = pd.read_csv('c:ktd_2_data230224/hk_221015.csv')\n",
    "df_hk.head()"
   ]
  },
  {
   "cell_type": "code",
   "execution_count": 39,
   "id": "m0yJ1SSuWuyI",
   "metadata": {
    "colab": {
     "base_uri": "https://localhost:8080/",
     "height": 143
    },
    "executionInfo": {
     "elapsed": 5,
     "status": "ok",
     "timestamp": 1670294394532,
     "user": {
      "displayName": "jinyang park",
      "userId": "06576046992691541404"
     },
     "user_tz": -540
    },
    "id": "m0yJ1SSuWuyI",
    "outputId": "177d416f-df59-4ced-9f2f-8ca3f999f963",
    "scrolled": true
   },
   "outputs": [
    {
     "data": {
      "text/html": [
       "<div>\n",
       "<style scoped>\n",
       "    .dataframe tbody tr th:only-of-type {\n",
       "        vertical-align: middle;\n",
       "    }\n",
       "\n",
       "    .dataframe tbody tr th {\n",
       "        vertical-align: top;\n",
       "    }\n",
       "\n",
       "    .dataframe thead th {\n",
       "        text-align: right;\n",
       "    }\n",
       "</style>\n",
       "<table border=\"1\" class=\"dataframe\">\n",
       "  <thead>\n",
       "    <tr style=\"text-align: right;\">\n",
       "      <th>company</th>\n",
       "      <th>A</th>\n",
       "      <th>B</th>\n",
       "      <th>C</th>\n",
       "    </tr>\n",
       "    <tr>\n",
       "      <th>gender</th>\n",
       "      <th></th>\n",
       "      <th></th>\n",
       "      <th></th>\n",
       "    </tr>\n",
       "  </thead>\n",
       "  <tbody>\n",
       "    <tr>\n",
       "      <th>F</th>\n",
       "      <td>40</td>\n",
       "      <td>47</td>\n",
       "      <td>25</td>\n",
       "    </tr>\n",
       "    <tr>\n",
       "      <th>M</th>\n",
       "      <td>60</td>\n",
       "      <td>53</td>\n",
       "      <td>25</td>\n",
       "    </tr>\n",
       "  </tbody>\n",
       "</table>\n",
       "</div>"
      ],
      "text/plain": [
       "company   A   B   C\n",
       "gender             \n",
       "F        40  47  25\n",
       "M        60  53  25"
      ]
     },
     "execution_count": 39,
     "metadata": {},
     "output_type": "execute_result"
    }
   ],
   "source": [
    "# crosstab \n",
    "pd.crosstab(df_hk['gender'], df_hk['company'])"
   ]
  },
  {
   "cell_type": "code",
   "execution_count": 42,
   "id": "xvjQigy1n1X-",
   "metadata": {
    "id": "xvjQigy1n1X-",
    "outputId": "2bc53a15-aee1-4d87-fc15-c9c2b019e663",
    "scrolled": true
   },
   "outputs": [
    {
     "data": {
      "text/plain": [
       "0.35714285714285715"
      ]
     },
     "execution_count": 42,
     "metadata": {},
     "output_type": "execute_result"
    }
   ],
   "source": [
    "# 조건부 확률\n",
    "40/(40 + 47 + 25)"
   ]
  },
  {
   "cell_type": "code",
   "execution_count": 43,
   "id": "2cda267c",
   "metadata": {},
   "outputs": [
    {
     "data": {
      "text/plain": [
       "[925,\n",
       " 985,\n",
       " 823,\n",
       " 563,\n",
       " 381,\n",
       " 21,\n",
       " 808,\n",
       " 677,\n",
       " 384,\n",
       " 725,\n",
       " 936,\n",
       " 311,\n",
       " 617,\n",
       " 44,\n",
       " 116,\n",
       " 748,\n",
       " 126,\n",
       " 362,\n",
       " 734,\n",
       " 990,\n",
       " 949,\n",
       " 849,\n",
       " 678,\n",
       " 616,\n",
       " 876,\n",
       " 483,\n",
       " 502,\n",
       " 489,\n",
       " 832,\n",
       " 316,\n",
       " 250,\n",
       " 166,\n",
       " 232,\n",
       " 982,\n",
       " 465,\n",
       " 174,\n",
       " 662,\n",
       " 979,\n",
       " 755,\n",
       " 377,\n",
       " 742,\n",
       " 943,\n",
       " 420,\n",
       " 606,\n",
       " 269,\n",
       " 291,\n",
       " 623,\n",
       " 807,\n",
       " 26,\n",
       " 864,\n",
       " 728,\n",
       " 3,\n",
       " 382,\n",
       " 219,\n",
       " 6,\n",
       " 633,\n",
       " 293,\n",
       " 461,\n",
       " 485,\n",
       " 30,\n",
       " 236,\n",
       " 547,\n",
       " 610,\n",
       " 368,\n",
       " 90,\n",
       " 877,\n",
       " 152,\n",
       " 220,\n",
       " 303,\n",
       " 768,\n",
       " 694,\n",
       " 94,\n",
       " 833,\n",
       " 590,\n",
       " 440,\n",
       " 750,\n",
       " 787,\n",
       " 211,\n",
       " 615,\n",
       " 510,\n",
       " 797,\n",
       " 421,\n",
       " 97,\n",
       " 460,\n",
       " 977,\n",
       " 878,\n",
       " 88,\n",
       " 109,\n",
       " 922,\n",
       " 305,\n",
       " 685,\n",
       " 61,\n",
       " 424,\n",
       " 585,\n",
       " 257,\n",
       " 507,\n",
       " 445,\n",
       " 409,\n",
       " 493,\n",
       " 772]"
      ]
     },
     "execution_count": 43,
     "metadata": {},
     "output_type": "execute_result"
    }
   ],
   "source": [
    "import random\n",
    "random.sample(range(1, 1000),100)"
   ]
  },
  {
   "cell_type": "markdown",
   "id": "vKR18ePxWXlM",
   "metadata": {
    "id": "vKR18ePxWXlM"
   },
   "source": [
    "## 중심극한정리"
   ]
  },
  {
   "cell_type": "code",
   "execution_count": 51,
   "id": "GEP34qQUQFIK",
   "metadata": {
    "colab": {
     "base_uri": "https://localhost:8080/",
     "height": 265
    },
    "executionInfo": {
     "elapsed": 1349,
     "status": "ok",
     "timestamp": 1670305330042,
     "user": {
      "displayName": "jinyang park",
      "userId": "06576046992691541404"
     },
     "user_tz": -540
    },
    "id": "GEP34qQUQFIK",
    "outputId": "fbf70fa1-908c-410a-e561-d54f1912ddaf"
   },
   "outputs": [
    {
     "data": {
      "image/png": "[encoded data removed]",
      "text/plain": [
       "<Figure size 432x288 with 1 Axes>"
      ]
     },
     "metadata": {
      "needs_background": "light"
     },
     "output_type": "display_data"
    }
   ],
   "source": [
    "import matplotlib.pyplot as plt\n",
    "import numpy as np\n",
    "import random\n",
    "\n",
    "avg_values = []\n",
    "for i in range (1,150000): # 횟수를 증가시키면 정규분포로 변화\n",
    "  random_sample = random.sample(range(1, 1000),100)\n",
    "  x = np.mean(random_sample)\n",
    "  avg_values.append(x)\n",
    "\n",
    "plt.hist(avg_values, bins = 100)\n",
    "plt.show()"
   ]
  },
  {
   "cell_type": "code",
   "execution_count": null,
   "id": "3TP3LmxlVOkc",
   "metadata": {
    "id": "3TP3LmxlVOkc"
   },
   "outputs": [],
   "source": []
  },
  {
   "cell_type": "markdown",
   "id": "Ti5nRHrZg5KI",
   "metadata": {
    "id": "Ti5nRHrZg5KI"
   },
   "source": [
    "# Chart 기본"
   ]
  },
  {
   "cell_type": "code",
   "execution_count": 52,
   "id": "yEYVEwuKhIEd",
   "metadata": {
    "id": "yEYVEwuKhIEd"
   },
   "outputs": [],
   "source": [
    "import pandas as pd\n",
    "import numpy as np\n",
    "import matplotlib.pyplot as plt\n",
    "import seaborn as sns\n",
    "# import warnings\n",
    "# warnings.filterwarnings('ignore')"
   ]
  },
  {
   "cell_type": "code",
   "execution_count": 55,
   "id": "fxZHnB7aigbN",
   "metadata": {
    "colab": {
     "base_uri": "https://localhost:8080/",
     "height": 265
    },
    "executionInfo": {
     "elapsed": 35,
     "status": "ok",
     "timestamp": 1670743920413,
     "user": {
      "displayName": "jinyang park",
      "userId": "06576046992691541404"
     },
     "user_tz": -540
    },
    "id": "fxZHnB7aigbN",
    "outputId": "7a2dab24-b0a4-4c83-a6ff-944a746199a1"
   },
   "outputs": [
    {
     "data": {
      "image/png": "[encoded data removed]",
      "text/plain": [
       "<Figure size 432x288 with 1 Axes>"
      ]
     },
     "metadata": {
      "needs_background": "light"
     },
     "output_type": "display_data"
    }
   ],
   "source": [
    "# matplotlib inline\n",
    "plt.plot([0,1,2,3],[1,2,3,4])\n",
    "plt.show()"
   ]
  },
  {
   "cell_type": "code",
   "execution_count": 56,
   "id": "6827cea9",
   "metadata": {
    "colab": {
     "base_uri": "https://localhost:8080/",
     "height": 265
    },
    "executionInfo": {
     "elapsed": 615,
     "status": "ok",
     "timestamp": 1670743920997,
     "user": {
      "displayName": "jinyang park",
      "userId": "06576046992691541404"
     },
     "user_tz": -540
    },
    "id": "6827cea9",
    "outputId": "e1d200c0-a28e-4bdd-a0d1-e5c9a9c1dd6a"
   },
   "outputs": [
    {
     "data": {
      "image/png": "[encoded data removed]",
      "text/plain": [
       "<Figure size 432x288 with 1 Axes>"
      ]
     },
     "metadata": {
      "needs_background": "light"
     },
     "output_type": "display_data"
    }
   ],
   "source": [
    "# x, y값 변경\n",
    "plt.plot([0,1,2,3],[1,4,9,16])\n",
    "plt.show()"
   ]
  },
  {
   "cell_type": "markdown",
   "id": "5f0e57a0",
   "metadata": {
    "id": "5f0e57a0"
   },
   "source": [
    "## Figure와 Axes "
   ]
  },
  {
   "cell_type": "code",
   "execution_count": 57,
   "id": "hMrnLKEij211",
   "metadata": {
    "colab": {
     "base_uri": "https://localhost:8080/",
     "height": 265
    },
    "executionInfo": {
     "elapsed": 24,
     "status": "ok",
     "timestamp": 1670743920998,
     "user": {
      "displayName": "jinyang park",
      "userId": "06576046992691541404"
     },
     "user_tz": -540
    },
    "id": "hMrnLKEij211",
    "outputId": "88be0d84-276c-4d64-f27e-91c549b17232"
   },
   "outputs": [
    {
     "data": {
      "image/png": "[encoded data removed]",
      "text/plain": [
       "<Figure size 720x288 with 1 Axes>"
      ]
     },
     "metadata": {
      "needs_background": "light"
     },
     "output_type": "display_data"
    }
   ],
   "source": [
    "# plt.figure()는 figure의 속성을 정의, figure는 canvas 역할\n",
    "plt.figure(figsize=(10,4))\n",
    "plt.plot([0,1,2,3],[1,4,9,16])\n",
    "plt.show()"
   ]
  },
  {
   "cell_type": "code",
   "execution_count": 58,
   "id": "06737ffa",
   "metadata": {
    "colab": {
     "base_uri": "https://localhost:8080/",
     "height": 53
    },
    "executionInfo": {
     "elapsed": 23,
     "status": "ok",
     "timestamp": 1670743920999,
     "user": {
      "displayName": "jinyang park",
      "userId": "06576046992691541404"
     },
     "user_tz": -540
    },
    "id": "06737ffa",
    "outputId": "ea201a35-0bae-4bc0-ac32-267fb9701170"
   },
   "outputs": [
    {
     "data": {
      "text/plain": [
       "<Figure size 720x288 with 0 Axes>"
      ]
     },
     "metadata": {},
     "output_type": "display_data"
    },
    {
     "data": {
      "image/png": "[encoded data removed]",
      "text/plain": [
       "<Figure size 720x288 with 1 Axes>"
      ]
     },
     "metadata": {},
     "output_type": "display_data"
    }
   ],
   "source": [
    "figure = plt.figure(figsize=(10, 4))\n",
    "plt.figure(figsize=(10,4), facecolor='yellow')\n",
    "plt.plot([0,1,2,3],[1,4,9,16])\n",
    "plt.show()\n"
   ]
  },
  {
   "cell_type": "code",
   "execution_count": null,
   "id": "ded4c3db",
   "metadata": {
    "colab": {
     "base_uri": "https://localhost:8080/",
     "height": 265
    },
    "executionInfo": {
     "elapsed": 366,
     "status": "ok",
     "timestamp": 1670743921344,
     "user": {
      "displayName": "jinyang park",
      "userId": "06576046992691541404"
     },
     "user_tz": -540
    },
    "id": "ded4c3db",
    "outputId": "7ce025db-78ab-4ce6-ef3f-4b709c3afb53",
    "scrolled": false
   },
   "outputs": [],
   "source": [
    "# figure 속성으로 figure 바탕 색상 지정 \n",
    "plt.figure(figsize=(10,4), facecolor='yellow')\n",
    "plt.plot([0,1,2,3],[1,4,9,16])\n",
    "plt.show()"
   ]
  },
  {
   "cell_type": "code",
   "execution_count": 61,
   "id": "kEpAyNoCBsBQ",
   "metadata": {
    "colab": {
     "base_uri": "https://localhost:8080/",
     "height": 295
    },
    "executionInfo": {
     "elapsed": 375,
     "status": "ok",
     "timestamp": 1670743921709,
     "user": {
      "displayName": "jinyang park",
      "userId": "06576046992691541404"
     },
     "user_tz": -540
    },
    "id": "kEpAyNoCBsBQ",
    "outputId": "10e88e4d-7b0f-4aa4-c3d8-e53d44c89c0f"
   },
   "outputs": [
    {
     "data": {
      "image/png": "[encoded data removed]",
      "text/plain": [
       "<Figure size 720x288 with 1 Axes>"
      ]
     },
     "metadata": {},
     "output_type": "display_data"
    }
   ],
   "source": [
    "# axes 속성으로 x축, y축 lable, title을 지정\n",
    "plt.figure(figsize=(10,4), facecolor='yellow')\n",
    "plt.plot([0,1,2,3],[1,4,9,16], color = 'red',marker='o')\n",
    "plt.xlabel('x_label')\n",
    "plt.ylabel('y_label')\n",
    "plt.title('matplotlib chart')\n",
    "plt.show()"
   ]
  },
  {
   "cell_type": "code",
   "execution_count": 63,
   "id": "JxleQDx9C2bD",
   "metadata": {
    "colab": {
     "base_uri": "https://localhost:8080/",
     "height": 295
    },
    "executionInfo": {
     "elapsed": 12,
     "status": "ok",
     "timestamp": 1670743921710,
     "user": {
      "displayName": "jinyang park",
      "userId": "06576046992691541404"
     },
     "user_tz": -540
    },
    "id": "JxleQDx9C2bD",
    "outputId": "880ff78e-bac9-4b73-b165-fda6567987dc",
    "scrolled": false
   },
   "outputs": [
    {
     "data": {
      "image/png": "[encoded data removed]",
      "text/plain": [
       "<Figure size 720x288 with 1 Axes>"
      ]
     },
     "metadata": {},
     "output_type": "display_data"
    }
   ],
   "source": [
    "# 다양한 속성 적용이 가능, https://matplotlib.org/stable/api/markers_api.html\n",
    "plt.figure(figsize=(10,4), facecolor='yellow')\n",
    "plt.plot([0,1,2,3],[1,4,9,16], color = 'red',marker='o', linestyle = 'dashed',linewidth=2,markersize =10)\n",
    "plt.xlabel('x_label')\n",
    "plt.ylabel('y_label')\n",
    "plt.title('matplotlib chart')\n",
    "plt.show()"
   ]
  },
  {
   "cell_type": "code",
   "execution_count": 64,
   "id": "tMK7SNh2EdoO",
   "metadata": {
    "colab": {
     "base_uri": "https://localhost:8080/",
     "height": 295
    },
    "executionInfo": {
     "elapsed": 358,
     "status": "ok",
     "timestamp": 1670743922058,
     "user": {
      "displayName": "jinyang park",
      "userId": "06576046992691541404"
     },
     "user_tz": -540
    },
    "id": "tMK7SNh2EdoO",
    "outputId": "e26f1645-2371-4d23-c9ba-6f0774dc476d",
    "scrolled": false
   },
   "outputs": [
    {
     "data": {
      "image/png": "[encoded data removed]",
      "text/plain": [
       "<Figure size 720x288 with 1 Axes>"
      ]
     },
     "metadata": {},
     "output_type": "display_data"
    }
   ],
   "source": [
    "# 범례 적용, 두개 이상의 차트를 한 axes내에 표시\n",
    "plt.figure(figsize=(10,4), facecolor='yellow')\n",
    "plt.plot([0,1,2,3],[1,4,9,16], color = 'red',marker='o', linestyle = 'dashed',linewidth=2,markersize =10)\n",
    "plt.plot([0,1,2,3],[2,8,12,40], color = 'green',marker='p', linestyle = 'solid',linewidth=2,markersize =10)\n",
    "plt.xlabel('x_label')\n",
    "plt.ylabel('y_label')\n",
    "plt.title('matplotlib chart')\n",
    "plt.show()"
   ]
  },
  {
   "cell_type": "markdown",
   "id": "157b171f",
   "metadata": {
    "id": "157b171f"
   },
   "source": [
    "\n",
    "## 시각화 matplotlib, seaborn"
   ]
  },
  {
   "cell_type": "code",
   "execution_count": 65,
   "id": "e1e6bb56",
   "metadata": {
    "colab": {
     "base_uri": "https://localhost:8080/",
     "height": 206
    },
    "executionInfo": {
     "elapsed": 2217,
     "status": "ok",
     "timestamp": 1670758528296,
     "user": {
      "displayName": "jinyang park",
      "userId": "06576046992691541404"
     },
     "user_tz": -540
    },
    "id": "e1e6bb56",
    "outputId": "ac5fdfac-517b-4b4e-dfe5-799141960828"
   },
   "outputs": [
    {
     "data": {
      "text/html": [
       "<div>\n",
       "<style scoped>\n",
       "    .dataframe tbody tr th:only-of-type {\n",
       "        vertical-align: middle;\n",
       "    }\n",
       "\n",
       "    .dataframe tbody tr th {\n",
       "        vertical-align: top;\n",
       "    }\n",
       "\n",
       "    .dataframe thead th {\n",
       "        text-align: right;\n",
       "    }\n",
       "</style>\n",
       "<table border=\"1\" class=\"dataframe\">\n",
       "  <thead>\n",
       "    <tr style=\"text-align: right;\">\n",
       "      <th></th>\n",
       "      <th>name</th>\n",
       "      <th>social_security_number</th>\n",
       "      <th>gender</th>\n",
       "      <th>height</th>\n",
       "      <th>age</th>\n",
       "      <th>blood_type</th>\n",
       "      <th>company</th>\n",
       "      <th>grades</th>\n",
       "      <th>salary</th>\n",
       "      <th>expenditure</th>\n",
       "      <th>car_type</th>\n",
       "    </tr>\n",
       "  </thead>\n",
       "  <tbody>\n",
       "    <tr>\n",
       "      <th>0</th>\n",
       "      <td>hkd1</td>\n",
       "      <td>990623-2</td>\n",
       "      <td>F</td>\n",
       "      <td>161.9</td>\n",
       "      <td>22</td>\n",
       "      <td>A</td>\n",
       "      <td>A</td>\n",
       "      <td>A</td>\n",
       "      <td>4100</td>\n",
       "      <td>1975</td>\n",
       "      <td>L</td>\n",
       "    </tr>\n",
       "    <tr>\n",
       "      <th>1</th>\n",
       "      <td>hkd10</td>\n",
       "      <td>900303-2</td>\n",
       "      <td>F</td>\n",
       "      <td>169.4</td>\n",
       "      <td>31</td>\n",
       "      <td>A</td>\n",
       "      <td>A</td>\n",
       "      <td>B</td>\n",
       "      <td>4720</td>\n",
       "      <td>2970</td>\n",
       "      <td>m</td>\n",
       "    </tr>\n",
       "    <tr>\n",
       "      <th>2</th>\n",
       "      <td>hkd100</td>\n",
       "      <td>681205-2</td>\n",
       "      <td>F</td>\n",
       "      <td>168.3</td>\n",
       "      <td>55</td>\n",
       "      <td>A</td>\n",
       "      <td>A</td>\n",
       "      <td>B</td>\n",
       "      <td>7280</td>\n",
       "      <td>5905</td>\n",
       "      <td>m</td>\n",
       "    </tr>\n",
       "    <tr>\n",
       "      <th>3</th>\n",
       "      <td>hkd101</td>\n",
       "      <td>931226-2</td>\n",
       "      <td>F</td>\n",
       "      <td>155.3</td>\n",
       "      <td>28</td>\n",
       "      <td>AB</td>\n",
       "      <td>B</td>\n",
       "      <td>B</td>\n",
       "      <td>4060</td>\n",
       "      <td>2935</td>\n",
       "      <td>m</td>\n",
       "    </tr>\n",
       "    <tr>\n",
       "      <th>4</th>\n",
       "      <td>hkd102</td>\n",
       "      <td>920123-1</td>\n",
       "      <td>M</td>\n",
       "      <td>188.6</td>\n",
       "      <td>29</td>\n",
       "      <td>O</td>\n",
       "      <td>B</td>\n",
       "      <td>F</td>\n",
       "      <td>4390</td>\n",
       "      <td>4015</td>\n",
       "      <td>SS</td>\n",
       "    </tr>\n",
       "  </tbody>\n",
       "</table>\n",
       "</div>"
      ],
      "text/plain": [
       "     name social_security_number gender  height  age blood_type company  \\\n",
       "0    hkd1               990623-2      F   161.9   22          A       A   \n",
       "1   hkd10               900303-2      F   169.4   31          A       A   \n",
       "2  hkd100               681205-2      F   168.3   55          A       A   \n",
       "3  hkd101               931226-2      F   155.3   28         AB       B   \n",
       "4  hkd102               920123-1      M   188.6   29          O       B   \n",
       "\n",
       "  grades  salary  expenditure car_type  \n",
       "0      A    4100         1975        L  \n",
       "1      B    4720         2970        m  \n",
       "2      B    7280         5905        m  \n",
       "3      B    4060         2935        m  \n",
       "4      F    4390         4015       SS  "
      ]
     },
     "execution_count": 65,
     "metadata": {},
     "output_type": "execute_result"
    }
   ],
   "source": [
    "# 파일 로딩 \n",
    "df_hk[:5]"
   ]
  },
  {
   "cell_type": "code",
   "execution_count": 66,
   "id": "yvXLZvub_PBT",
   "metadata": {
    "colab": {
     "base_uri": "https://localhost:8080/"
    },
    "executionInfo": {
     "elapsed": 8,
     "status": "ok",
     "timestamp": 1670758863969,
     "user": {
      "displayName": "jinyang park",
      "userId": "06576046992691541404"
     },
     "user_tz": -540
    },
    "id": "yvXLZvub_PBT",
    "outputId": "6c8272bd-ec9a-4ce3-d2b3-11a82da8f9e2"
   },
   "outputs": [
    {
     "name": "stdout",
     "output_type": "stream",
     "text": [
      "<class 'pandas.core.frame.DataFrame'>\n",
      "RangeIndex: 250 entries, 0 to 249\n",
      "Data columns (total 11 columns):\n",
      " #   Column                  Non-Null Count  Dtype  \n",
      "---  ------                  --------------  -----  \n",
      " 0   name                    250 non-null    object \n",
      " 1   social_security_number  250 non-null    object \n",
      " 2   gender                  250 non-null    object \n",
      " 3   height                  250 non-null    float64\n",
      " 4   age                     250 non-null    int64  \n",
      " 5   blood_type              250 non-null    object \n",
      " 6   company                 250 non-null    object \n",
      " 7   grades                  250 non-null    object \n",
      " 8   salary                  250 non-null    int64  \n",
      " 9   expenditure             250 non-null    int64  \n",
      " 10  car_type                250 non-null    object \n",
      "dtypes: float64(1), int64(3), object(7)\n",
      "memory usage: 21.6+ KB\n"
     ]
    }
   ],
   "source": [
    "# Data type을 살펴보고 EDA를 수행 \n",
    "df_hk.info()"
   ]
  },
  {
   "cell_type": "markdown",
   "id": "2908c943",
   "metadata": {
    "id": "2908c943"
   },
   "source": [
    "## histogram\n",
    "\n",
    "* histogram은 연속값에 대한 구간별 도수 분포를 시각화\n"
   ]
  },
  {
   "cell_type": "code",
   "execution_count": 70,
   "id": "7a68dc76",
   "metadata": {
    "id": "7a68dc76"
   },
   "outputs": [
    {
     "data": {
      "image/png": "[encoded data removed]",
      "text/plain": [
       "<Figure size 432x288 with 1 Axes>"
      ]
     },
     "metadata": {
      "needs_background": "light"
     },
     "output_type": "display_data"
    }
   ],
   "source": [
    "# matplotlib histogram, matplotlib는 x,y축 이름 지정 필요\n",
    "plt.hist(x = df_hk['age'])\n",
    "plt.xlabel('x_axis')\n",
    "plt.ylabel('y_axis')\n",
    "plt.title('age chart')\n",
    "plt.show()"
   ]
  },
  {
   "cell_type": "code",
   "execution_count": 72,
   "id": "aea9cf9b",
   "metadata": {
    "colab": {
     "base_uri": "https://localhost:8080/",
     "height": 297
    },
    "executionInfo": {
     "elapsed": 23,
     "status": "ok",
     "timestamp": 1670736058671,
     "user": {
      "displayName": "jinyang park",
      "userId": "06576046992691541404"
     },
     "user_tz": -540
    },
    "id": "aea9cf9b",
    "outputId": "1e7d14f2-6640-42e6-ddde-d65a3d9d5e1c"
   },
   "outputs": [
    {
     "data": {
      "text/plain": [
       "<AxesSubplot:ylabel='Frequency'>"
      ]
     },
     "execution_count": 72,
     "metadata": {},
     "output_type": "execute_result"
    },
    {
     "data": {
      "image/png": "[encoded data removed]",
      "text/plain": [
       "<Figure size 432x288 with 1 Axes>"
      ]
     },
     "metadata": {
      "needs_background": "light"
     },
     "output_type": "display_data"
    }
   ],
   "source": [
    "# Pandas 에서도 hist 함수를 바로 호출할 수 있음. \n",
    "df_hk['age'].plot.hist()"
   ]
  },
  {
   "cell_type": "markdown",
   "id": "39c61dbf",
   "metadata": {
    "id": "39c61dbf"
   },
   "source": [
    "\n",
    "* seaborn의 histogram은 histplot과 displot이 대표적이며 histplot은 axes레벨, displot은 figure레벨임\n"
   ]
  },
  {
   "cell_type": "code",
   "execution_count": 75,
   "id": "a4cd62c8",
   "metadata": {
    "colab": {
     "base_uri": "https://localhost:8080/",
     "height": 297
    },
    "executionInfo": {
     "elapsed": 528,
     "status": "ok",
     "timestamp": 1670736059181,
     "user": {
      "displayName": "jinyang park",
      "userId": "06576046992691541404"
     },
     "user_tz": -540
    },
    "id": "a4cd62c8",
    "outputId": "0891afdb-efe6-4667-a288-2f96767e7844"
   },
   "outputs": [
    {
     "data": {
      "text/plain": [
       "<AxesSubplot:xlabel='age', ylabel='Count'>"
      ]
     },
     "execution_count": 75,
     "metadata": {},
     "output_type": "execute_result"
    },
    {
     "data": {
      "image/png": "[encoded data removed]",
      "text/plain": [
       "<Figure size 432x288 with 1 Axes>"
      ]
     },
     "metadata": {
      "needs_background": "light"
     },
     "output_type": "display_data"
    }
   ],
   "source": [
    "# seaborn histogram histplot\n",
    "sns.histplot(df_hk['age'], bins=20)"
   ]
  },
  {
   "cell_type": "code",
   "execution_count": 77,
   "id": "uqmCwEvkGIf1",
   "metadata": {
    "colab": {
     "base_uri": "https://localhost:8080/",
     "height": 297
    },
    "executionInfo": {
     "elapsed": 28,
     "status": "ok",
     "timestamp": 1670736059181,
     "user": {
      "displayName": "jinyang park",
      "userId": "06576046992691541404"
     },
     "user_tz": -540
    },
    "id": "uqmCwEvkGIf1",
    "outputId": "d898404d-abf1-43df-cd54-45c143e534b8"
   },
   "outputs": [
    {
     "data": {
      "text/plain": [
       "<AxesSubplot:xlabel='age', ylabel='Density'>"
      ]
     },
     "execution_count": 77,
     "metadata": {},
     "output_type": "execute_result"
    },
    {
     "data": {
      "image/png": "[encoded data removed]",
      "text/plain": [
       "<Figure size 432x288 with 1 Axes>"
      ]
     },
     "metadata": {
      "needs_background": "light"
     },
     "output_type": "display_data"
    }
   ],
   "source": [
    "# seaborn histogram distplot\n",
    "sns.distplot(df_hk['age'],bins=20)"
   ]
  },
  {
   "cell_type": "code",
   "execution_count": 78,
   "id": "33abc861",
   "metadata": {
    "colab": {
     "base_uri": "https://localhost:8080/",
     "height": 406
    },
    "executionInfo": {
     "elapsed": 655,
     "status": "ok",
     "timestamp": 1670736059813,
     "user": {
      "displayName": "jinyang park",
      "userId": "06576046992691541404"
     },
     "user_tz": -540
    },
    "id": "33abc861",
    "outputId": "3dfde154-7b30-401b-bfa5-616d36a4f7c2"
   },
   "outputs": [
    {
     "data": {
      "text/plain": [
       "<AxesSubplot:xlabel='age', ylabel='Count'>"
      ]
     },
     "execution_count": 78,
     "metadata": {},
     "output_type": "execute_result"
    },
    {
     "data": {
      "image/png": "[encoded data removed]",
      "text/plain": [
       "<Figure size 576x288 with 1 Axes>"
      ]
     },
     "metadata": {
      "needs_background": "light"
     },
     "output_type": "display_data"
    }
   ],
   "source": [
    "# seaborn histogram canvas의 사이즈 지정\n",
    "\n",
    "plt.figure(figsize=(8, 4))\n",
    "sns.histplot(df_hk['age'], kde=True)\n",
    "# plt.show()"
   ]
  },
  {
   "cell_type": "code",
   "execution_count": 79,
   "id": "cfeea870",
   "metadata": {
    "colab": {
     "base_uri": "https://localhost:8080/",
     "height": 406
    },
    "executionInfo": {
     "elapsed": 24,
     "status": "ok",
     "timestamp": 1670736059814,
     "user": {
      "displayName": "jinyang park",
      "userId": "06576046992691541404"
     },
     "user_tz": -540
    },
    "id": "cfeea870",
    "outputId": "7aa55e48-dd5b-4f86-d6a7-5aeefa1aeea3"
   },
   "outputs": [
    {
     "data": {
      "text/plain": [
       "<AxesSubplot:xlabel='age', ylabel='Count'>"
      ]
     },
     "execution_count": 79,
     "metadata": {},
     "output_type": "execute_result"
    },
    {
     "data": {
      "image/png": "[encoded data removed]",
      "text/plain": [
       "<Figure size 864x288 with 1 Axes>"
      ]
     },
     "metadata": {
      "needs_background": "light"
     },
     "output_type": "display_data"
    }
   ],
   "source": [
    "# seaborn histogram bins로 x구간 조정\n",
    "\n",
    "plt.figure(figsize=(12, 4))\n",
    "sns.histplot(x='age', data=df_hk, kde=True, bins=30)"
   ]
  },
  {
   "cell_type": "markdown",
   "id": "396f3ed9",
   "metadata": {
    "id": "396f3ed9"
   },
   "source": [
    "## countplot \n",
    "* countplot은 범주형에 대한 count 시각화"
   ]
  },
  {
   "cell_type": "code",
   "execution_count": 80,
   "id": "6a35e56b",
   "metadata": {
    "id": "6a35e56b"
   },
   "outputs": [
    {
     "data": {
      "text/html": [
       "<div>\n",
       "<style scoped>\n",
       "    .dataframe tbody tr th:only-of-type {\n",
       "        vertical-align: middle;\n",
       "    }\n",
       "\n",
       "    .dataframe tbody tr th {\n",
       "        vertical-align: top;\n",
       "    }\n",
       "\n",
       "    .dataframe thead th {\n",
       "        text-align: right;\n",
       "    }\n",
       "</style>\n",
       "<table border=\"1\" class=\"dataframe\">\n",
       "  <thead>\n",
       "    <tr style=\"text-align: right;\">\n",
       "      <th></th>\n",
       "      <th>name</th>\n",
       "      <th>social_security_number</th>\n",
       "      <th>gender</th>\n",
       "      <th>height</th>\n",
       "      <th>age</th>\n",
       "      <th>blood_type</th>\n",
       "      <th>company</th>\n",
       "      <th>grades</th>\n",
       "      <th>salary</th>\n",
       "      <th>expenditure</th>\n",
       "      <th>car_type</th>\n",
       "    </tr>\n",
       "  </thead>\n",
       "  <tbody>\n",
       "    <tr>\n",
       "      <th>0</th>\n",
       "      <td>hkd1</td>\n",
       "      <td>990623-2</td>\n",
       "      <td>F</td>\n",
       "      <td>161.9</td>\n",
       "      <td>22</td>\n",
       "      <td>A</td>\n",
       "      <td>A</td>\n",
       "      <td>A</td>\n",
       "      <td>4100</td>\n",
       "      <td>1975</td>\n",
       "      <td>L</td>\n",
       "    </tr>\n",
       "    <tr>\n",
       "      <th>1</th>\n",
       "      <td>hkd10</td>\n",
       "      <td>900303-2</td>\n",
       "      <td>F</td>\n",
       "      <td>169.4</td>\n",
       "      <td>31</td>\n",
       "      <td>A</td>\n",
       "      <td>A</td>\n",
       "      <td>B</td>\n",
       "      <td>4720</td>\n",
       "      <td>2970</td>\n",
       "      <td>m</td>\n",
       "    </tr>\n",
       "    <tr>\n",
       "      <th>2</th>\n",
       "      <td>hkd100</td>\n",
       "      <td>681205-2</td>\n",
       "      <td>F</td>\n",
       "      <td>168.3</td>\n",
       "      <td>55</td>\n",
       "      <td>A</td>\n",
       "      <td>A</td>\n",
       "      <td>B</td>\n",
       "      <td>7280</td>\n",
       "      <td>5905</td>\n",
       "      <td>m</td>\n",
       "    </tr>\n",
       "    <tr>\n",
       "      <th>3</th>\n",
       "      <td>hkd101</td>\n",
       "      <td>931226-2</td>\n",
       "      <td>F</td>\n",
       "      <td>155.3</td>\n",
       "      <td>28</td>\n",
       "      <td>AB</td>\n",
       "      <td>B</td>\n",
       "      <td>B</td>\n",
       "      <td>4060</td>\n",
       "      <td>2935</td>\n",
       "      <td>m</td>\n",
       "    </tr>\n",
       "    <tr>\n",
       "      <th>4</th>\n",
       "      <td>hkd102</td>\n",
       "      <td>920123-1</td>\n",
       "      <td>M</td>\n",
       "      <td>188.6</td>\n",
       "      <td>29</td>\n",
       "      <td>O</td>\n",
       "      <td>B</td>\n",
       "      <td>F</td>\n",
       "      <td>4390</td>\n",
       "      <td>4015</td>\n",
       "      <td>SS</td>\n",
       "    </tr>\n",
       "  </tbody>\n",
       "</table>\n",
       "</div>"
      ],
      "text/plain": [
       "     name social_security_number gender  height  age blood_type company  \\\n",
       "0    hkd1               990623-2      F   161.9   22          A       A   \n",
       "1   hkd10               900303-2      F   169.4   31          A       A   \n",
       "2  hkd100               681205-2      F   168.3   55          A       A   \n",
       "3  hkd101               931226-2      F   155.3   28         AB       B   \n",
       "4  hkd102               920123-1      M   188.6   29          O       B   \n",
       "\n",
       "  grades  salary  expenditure car_type  \n",
       "0      A    4100         1975        L  \n",
       "1      B    4720         2970        m  \n",
       "2      B    7280         5905        m  \n",
       "3      B    4060         2935        m  \n",
       "4      F    4390         4015       SS  "
      ]
     },
     "execution_count": 80,
     "metadata": {},
     "output_type": "execute_result"
    }
   ],
   "source": [
    "# 파일 로딩\n",
    "df_hk[:5]"
   ]
  },
  {
   "cell_type": "code",
   "execution_count": 81,
   "id": "1b0a85c4",
   "metadata": {
    "id": "1b0a85c4"
   },
   "outputs": [
    {
     "data": {
      "text/plain": [
       "<AxesSubplot:xlabel='gender', ylabel='count'>"
      ]
     },
     "execution_count": 81,
     "metadata": {},
     "output_type": "execute_result"
    },
    {
     "data": {
      "image/png": "[encoded data removed]",
      "text/plain": [
       "<Figure size 432x288 with 1 Axes>"
      ]
     },
     "metadata": {
      "needs_background": "light"
     },
     "output_type": "display_data"
    }
   ],
   "source": [
    "# countplot\n",
    "sns.countplot(x='gender',data=df_hk)\n"
   ]
  },
  {
   "cell_type": "markdown",
   "id": "3a5cedbc",
   "metadata": {
    "id": "3a5cedbc"
   },
   "source": [
    "## barplot"
   ]
  },
  {
   "cell_type": "code",
   "execution_count": 87,
   "id": "Ka7-tE2ZHPeB",
   "metadata": {
    "colab": {
     "base_uri": "https://localhost:8080/",
     "height": 265
    },
    "executionInfo": {
     "elapsed": 37,
     "status": "ok",
     "timestamp": 1670736060286,
     "user": {
      "displayName": "jinyang park",
      "userId": "06576046992691541404"
     },
     "user_tz": -540
    },
    "id": "Ka7-tE2ZHPeB",
    "outputId": "5f7cc5e5-58ae-4783-f7e5-c51c237331fe"
   },
   "outputs": [
    {
     "data": {
      "image/png": "[encoded data removed]",
      "text/plain": [
       "<Figure size 432x288 with 1 Axes>"
      ]
     },
     "metadata": {
      "needs_background": "light"
     },
     "output_type": "display_data"
    }
   ],
   "source": [
    "# matplotlib barplot\n",
    "# bar 값을 만들어야 함\n",
    "\n",
    "a_mean = df_hk[df_hk['company'] == 'A'].salary.mean()\n",
    "b_mean = df_hk[df_hk['company'] == 'B'].salary.mean()\n",
    "c_mean = df_hk[df_hk['company'] == 'C'].salary.mean()\n",
    "X = df_hk['company'].unique()\n",
    "\n",
    "plt.bar(x=X, height=[a_mean,b_mean,c_mean])\n",
    "plt.xticks([0,1,2],['company A','company B','company C']) # plt.xticks([0,1,2] 눈금간격\n",
    "plt.show()"
   ]
  },
  {
   "cell_type": "code",
   "execution_count": 88,
   "id": "eYExnL63J5aL",
   "metadata": {
    "colab": {
     "base_uri": "https://localhost:8080/",
     "height": 265
    },
    "executionInfo": {
     "elapsed": 36,
     "status": "ok",
     "timestamp": 1670736060287,
     "user": {
      "displayName": "jinyang park",
      "userId": "06576046992691541404"
     },
     "user_tz": -540
    },
    "id": "eYExnL63J5aL",
    "outputId": "27254180-32b7-4997-bef8-9eac9e2002f1"
   },
   "outputs": [
    {
     "data": {
      "image/png": "[encoded data removed]",
      "text/plain": [
       "<Figure size 432x288 with 1 Axes>"
      ]
     },
     "metadata": {
      "needs_background": "light"
     },
     "output_type": "display_data"
    }
   ],
   "source": [
    "# 개별값 계산\n",
    "\n",
    "a_count = (df_hk['company'] == 'A').sum()\n",
    "b_count = (df_hk['company'] == 'B').sum()\n",
    "c_count = (df_hk['company'] == 'C').sum()\n",
    "\n",
    "X = df_hk['company'].unique()\n",
    "\n",
    "plt.bar(x=X, height=[a_count,b_count,c_count])\n",
    "plt.xticks([0,1,2],['company A','company B','company C'])\n",
    "plt.show()"
   ]
  },
  {
   "cell_type": "code",
   "execution_count": 89,
   "id": "9b69192a",
   "metadata": {},
   "outputs": [
    {
     "data": {
      "image/png": "[encoded data removed]",
      "text/plain": [
       "<Figure size 432x288 with 1 Axes>"
      ]
     },
     "metadata": {
      "needs_background": "light"
     },
     "output_type": "display_data"
    }
   ],
   "source": [
    "# count_values 사용\n",
    "count = df_hk['company'].value_counts().tolist()\n",
    "\n",
    "X = df_hk['company'].unique()\n",
    "plt.bar(x=X, height=count)\n",
    "plt.xticks([0,1,2],['company A','company B','company C'])\n",
    "plt.show()"
   ]
  },
  {
   "cell_type": "markdown",
   "id": "eRxsXG0OKXPs",
   "metadata": {
    "id": "eRxsXG0OKXPs"
   },
   "source": [
    "* seaborn barplot은 범주형에 대한 mean, sum, median 시각화"
   ]
  },
  {
   "cell_type": "code",
   "execution_count": 91,
   "id": "ca785ed5",
   "metadata": {
    "colab": {
     "base_uri": "https://localhost:8080/",
     "height": 297
    },
    "executionInfo": {
     "elapsed": 554,
     "status": "ok",
     "timestamp": 1670736060806,
     "user": {
      "displayName": "jinyang park",
      "userId": "06576046992691541404"
     },
     "user_tz": -540
    },
    "id": "ca785ed5",
    "outputId": "cb0128a7-102b-4c59-e963-da0b3705382c"
   },
   "outputs": [
    {
     "data": {
      "text/plain": [
       "<AxesSubplot:xlabel='company', ylabel='salary'>"
      ]
     },
     "execution_count": 91,
     "metadata": {},
     "output_type": "execute_result"
    },
    {
     "data": {
      "image/png": "[encoded data removed]",
      "text/plain": [
       "<Figure size 432x288 with 1 Axes>"
      ]
     },
     "metadata": {
      "needs_background": "light"
     },
     "output_type": "display_data"
    }
   ],
   "source": [
    "# seaborn barplot y값 default mean으로 계산 (sum, median 변경 가능)\n",
    "sns.barplot(x='company',y='salary', data=df_hk)"
   ]
  },
  {
   "cell_type": "code",
   "execution_count": 93,
   "id": "9b9c1c2b",
   "metadata": {
    "colab": {
     "base_uri": "https://localhost:8080/",
     "height": 297
    },
    "executionInfo": {
     "elapsed": 30,
     "status": "ok",
     "timestamp": 1670736060807,
     "user": {
      "displayName": "jinyang park",
      "userId": "06576046992691541404"
     },
     "user_tz": -540
    },
    "id": "9b9c1c2b",
    "outputId": "827fb26a-5bc2-4a31-d12c-f249291c984d"
   },
   "outputs": [
    {
     "data": {
      "text/plain": [
       "<AxesSubplot:xlabel='salary', ylabel='company'>"
      ]
     },
     "execution_count": 93,
     "metadata": {},
     "output_type": "execute_result"
    },
    {
     "data": {
      "image/png": "[encoded data removed]",
      "text/plain": [
       "<Figure size 432x288 with 1 Axes>"
      ]
     },
     "metadata": {
      "needs_background": "light"
     },
     "output_type": "display_data"
    }
   ],
   "source": [
    "# x, y 변경시 가로형으로 인식하고 출력\n",
    "sns.barplot(y='company',x='salary', data=df_hk, ci=None, color ='green')"
   ]
  },
  {
   "cell_type": "code",
   "execution_count": null,
   "id": "9c30d80c",
   "metadata": {
    "colab": {
     "base_uri": "https://localhost:8080/",
     "height": 297
    },
    "executionInfo": {
     "elapsed": 27,
     "status": "ok",
     "timestamp": 1670736060808,
     "user": {
      "displayName": "jinyang park",
      "userId": "06576046992691541404"
     },
     "user_tz": -540
    },
    "id": "9c30d80c",
    "outputId": "7cfbd951-929e-481d-bbd6-9cb5ba31cfa8"
   },
   "outputs": [],
   "source": [
    "# confidence interval을 없애고, color를 통일.\n",
    "sns.barplot(y='company',x='salary', data=df_hk, ci=None, color ='green')"
   ]
  },
  {
   "cell_type": "code",
   "execution_count": 96,
   "id": "6a013057",
   "metadata": {
    "colab": {
     "base_uri": "https://localhost:8080/",
     "height": 297
    },
    "executionInfo": {
     "elapsed": 31,
     "status": "ok",
     "timestamp": 1670737232210,
     "user": {
      "displayName": "jinyang park",
      "userId": "06576046992691541404"
     },
     "user_tz": -540
    },
    "id": "6a013057",
    "outputId": "4b40aa18-d4e3-4e3e-a3d3-938bdfc1f2aa"
   },
   "outputs": [
    {
     "data": {
      "text/plain": [
       "<AxesSubplot:xlabel='company', ylabel='salary'>"
      ]
     },
     "execution_count": 96,
     "metadata": {},
     "output_type": "execute_result"
    },
    {
     "data": {
      "image/png": "[encoded data removed]",
      "text/plain": [
       "<Figure size 432x288 with 1 Axes>"
      ]
     },
     "metadata": {
      "needs_background": "light"
     },
     "output_type": "display_data"
    }
   ],
   "source": [
    "# 평균외에 총합, 중압값으로 표현. estimator= np.median, np.sum\n",
    "sns.barplot(x='company',y='salary', data=df_hk, ci=None, estimator=np.median)\n",
    "sns.barplot(x='company',y='salary', data=df_hk, ci=None, estimator=np.sum)"
   ]
  },
  {
   "cell_type": "code",
   "execution_count": 97,
   "id": "jASA_pqtrylp",
   "metadata": {
    "colab": {
     "base_uri": "https://localhost:8080/",
     "height": 297
    },
    "executionInfo": {
     "elapsed": 638,
     "status": "ok",
     "timestamp": 1670737274801,
     "user": {
      "displayName": "jinyang park",
      "userId": "06576046992691541404"
     },
     "user_tz": -540
    },
    "id": "jASA_pqtrylp",
    "outputId": "f0a97a94-4fad-47b2-c66c-7ce1e350b537"
   },
   "outputs": [
    {
     "data": {
      "text/plain": [
       "<AxesSubplot:xlabel='company', ylabel='salary'>"
      ]
     },
     "execution_count": 97,
     "metadata": {},
     "output_type": "execute_result"
    },
    {
     "data": {
      "image/png": "[encoded data removed]",
      "text/plain": [
       "<Figure size 432x288 with 1 Axes>"
      ]
     },
     "metadata": {
      "needs_background": "light"
     },
     "output_type": "display_data"
    }
   ],
   "source": [
    "# hue 인자를 사용하여 x값 세분화\n",
    "sns.barplot(x='company',y='salary', data=df_hk, ci=None, estimator=np.sum, hue='gender')"
   ]
  },
  {
   "cell_type": "markdown",
   "id": "c6dee0ec",
   "metadata": {
    "id": "c6dee0ec"
   },
   "source": [
    "## box plot\n",
    "* 4분위를 박스 형태로 **표현**"
   ]
  },
  {
   "cell_type": "code",
   "execution_count": 100,
   "id": "4TEIDNeyNzrK",
   "metadata": {
    "colab": {
     "base_uri": "https://localhost:8080/",
     "height": 265
    },
    "executionInfo": {
     "elapsed": 34,
     "status": "ok",
     "timestamp": 1670736061327,
     "user": {
      "displayName": "jinyang park",
      "userId": "06576046992691541404"
     },
     "user_tz": -540
    },
    "id": "4TEIDNeyNzrK",
    "outputId": "55fe4393-859b-4879-ce0b-dac5ec17b05d"
   },
   "outputs": [
    {
     "data": {
      "image/png": "[encoded data removed]",
      "text/plain": [
       "<Figure size 432x288 with 1 Axes>"
      ]
     },
     "metadata": {
      "needs_background": "light"
     },
     "output_type": "display_data"
    }
   ],
   "source": [
    "# matplotlib barplot, x(범주형), y(연속형)\n",
    "plt.boxplot(x=df_hk[['age','height']], data=df_hk)\n",
    "plt.show()"
   ]
  },
  {
   "cell_type": "code",
   "execution_count": 106,
   "id": "e64397bc",
   "metadata": {
    "colab": {
     "base_uri": "https://localhost:8080/",
     "height": 269
    },
    "executionInfo": {
     "elapsed": 486,
     "status": "ok",
     "timestamp": 1670736061780,
     "user": {
      "displayName": "jinyang park",
      "userId": "06576046992691541404"
     },
     "user_tz": -540
    },
    "id": "e64397bc",
    "outputId": "aa6bb665-158f-410f-a0ae-636aab7f0e8a"
   },
   "outputs": [
    {
     "data": {
      "image/png": "[encoded data removed]",
      "text/plain": [
       "<Figure size 432x288 with 1 Axes>"
      ]
     },
     "metadata": {
      "needs_background": "light"
     },
     "output_type": "display_data"
    }
   ],
   "source": [
    "# matplotlib barplot, x(범주형), y(연속형)\n",
    "\n",
    "a_age = df_hk.loc[df_hk['company'] == 'A'].age\n",
    "b_age = df_hk.loc[df_hk['company'] == 'B'].age\n",
    "c_age = df_hk.loc[df_hk['company'] == 'C'].age\n",
    "\n",
    "plt.boxplot([a_age,b_age,c_age])\n",
    "plt.xticks([1,2,3],['Company A','Company B','Company C'])\n",
    "plt.show()"
   ]
  },
  {
   "cell_type": "code",
   "execution_count": null,
   "id": "vS23il3pEe-T",
   "metadata": {
    "colab": {
     "base_uri": "https://localhost:8080/",
     "height": 265
    },
    "executionInfo": {
     "elapsed": 42,
     "status": "ok",
     "timestamp": 1670736061784,
     "user": {
      "displayName": "jinyang park",
      "userId": "06576046992691541404"
     },
     "user_tz": -540
    },
    "id": "vS23il3pEe-T",
    "outputId": "92f44961-b62b-4c92-b5ef-af7e6a25e911",
    "scrolled": false
   },
   "outputs": [],
   "source": [
    "# matplotlib barplot, x(범주형), y(연속형)\n"
   ]
  },
  {
   "cell_type": "code",
   "execution_count": 107,
   "id": "3d804382",
   "metadata": {
    "colab": {
     "base_uri": "https://localhost:8080/",
     "height": 270
    },
    "executionInfo": {
     "elapsed": 41,
     "status": "ok",
     "timestamp": 1670736061785,
     "user": {
      "displayName": "jinyang park",
      "userId": "06576046992691541404"
     },
     "user_tz": -540
    },
    "id": "3d804382",
    "outputId": "5f1c91ca-35a0-4b95-80da-dcf132277eca"
   },
   "outputs": [
    {
     "data": {
      "text/plain": [
       "<AxesSubplot:ylabel='age'>"
      ]
     },
     "execution_count": 107,
     "metadata": {},
     "output_type": "execute_result"
    },
    {
     "data": {
      "image/png": "[encoded data removed]",
      "text/plain": [
       "<Figure size 432x288 with 1 Axes>"
      ]
     },
     "metadata": {
      "needs_background": "light"
     },
     "output_type": "display_data"
    }
   ],
   "source": [
    "# seaborn barplot, x(범주형), y(연속형)에 대한 4분위값을 표현\n",
    "sns.boxplot(y='age', data=df_hk)"
   ]
  },
  {
   "cell_type": "code",
   "execution_count": 108,
   "id": "217e57da",
   "metadata": {
    "colab": {
     "base_uri": "https://localhost:8080/",
     "height": 297
    },
    "executionInfo": {
     "elapsed": 462,
     "status": "ok",
     "timestamp": 1670736062209,
     "user": {
      "displayName": "jinyang park",
      "userId": "06576046992691541404"
     },
     "user_tz": -540
    },
    "id": "217e57da",
    "outputId": "a9623de0-6e05-4c6c-fe2c-1db4cca1379b"
   },
   "outputs": [
    {
     "data": {
      "text/plain": [
       "<AxesSubplot:xlabel='company', ylabel='age'>"
      ]
     },
     "execution_count": 108,
     "metadata": {},
     "output_type": "execute_result"
    },
    {
     "data": {
      "image/png": "[encoded data removed]",
      "text/plain": [
       "<Figure size 432x288 with 1 Axes>"
      ]
     },
     "metadata": {
      "needs_background": "light"
     },
     "output_type": "display_data"
    }
   ],
   "source": [
    "# seaborn barplot, x(범주형), y(연속형)에 대한 4분위값을 표현\n",
    "sns.boxplot(x='company',y='age', data=df_hk)"
   ]
  },
  {
   "cell_type": "code",
   "execution_count": 110,
   "id": "iFZV-cEjuXKM",
   "metadata": {
    "colab": {
     "base_uri": "https://localhost:8080/",
     "height": 297
    },
    "executionInfo": {
     "elapsed": 16,
     "status": "ok",
     "timestamp": 1670736062214,
     "user": {
      "displayName": "jinyang park",
      "userId": "06576046992691541404"
     },
     "user_tz": -540
    },
    "id": "iFZV-cEjuXKM",
    "outputId": "9ace2df7-130a-4421-cd7a-81c71170ef9c"
   },
   "outputs": [
    {
     "data": {
      "text/plain": [
       "<AxesSubplot:xlabel='age', ylabel='company'>"
      ]
     },
     "execution_count": 110,
     "metadata": {},
     "output_type": "execute_result"
    },
    {
     "data": {
      "image/png": "[encoded data removed]",
      "text/plain": [
       "<Figure size 432x288 with 1 Axes>"
      ]
     },
     "metadata": {
      "needs_background": "light"
     },
     "output_type": "display_data"
    }
   ],
   "source": [
    "# x(연속형), y(범주형) 입력 data 변경시 가로형으로 인식하고 출력\n",
    "sns.boxplot(y='company',x='age', data=df_hk, hue='gender')"
   ]
  },
  {
   "cell_type": "code",
   "execution_count": null,
   "id": "14f84e21",
   "metadata": {
    "colab": {
     "base_uri": "https://localhost:8080/",
     "height": 297
    },
    "executionInfo": {
     "elapsed": 705,
     "status": "ok",
     "timestamp": 1670736062906,
     "user": {
      "displayName": "jinyang park",
      "userId": "06576046992691541404"
     },
     "user_tz": -540
    },
    "id": "14f84e21",
    "outputId": "5b697313-eb64-4847-bbbe-05f50fae4787"
   },
   "outputs": [],
   "source": [
    "# hue 인자를 사용하여 x값 세분화\n",
    "sns.boxplot(x='company',y='age', data=df_hk)"
   ]
  },
  {
   "cell_type": "markdown",
   "id": "NGQs8XSfy3Z-",
   "metadata": {
    "id": "NGQs8XSfy3Z-"
   },
   "source": [
    "## pie chart\n",
    "* X(범주형)값을 시각화"
   ]
  },
  {
   "cell_type": "code",
   "execution_count": 111,
   "id": "gKAwIpHVU1vG",
   "metadata": {
    "colab": {
     "base_uri": "https://localhost:8080/",
     "height": 248
    },
    "executionInfo": {
     "elapsed": 60,
     "status": "ok",
     "timestamp": 1670736062906,
     "user": {
      "displayName": "jinyang park",
      "userId": "06576046992691541404"
     },
     "user_tz": -540
    },
    "id": "gKAwIpHVU1vG",
    "outputId": "d2b24e12-d390-4375-a62a-6e293e8c34d2"
   },
   "outputs": [
    {
     "data": {
      "image/png": "[encoded data removed]",
      "text/plain": [
       "<Figure size 432x288 with 1 Axes>"
      ]
     },
     "metadata": {},
     "output_type": "display_data"
    }
   ],
   "source": [
    "a_count = df_hk[df_hk['company'] == 'A'].company.count()\n",
    "b_count = df_hk[df_hk['company'] == 'B'].company.count()\n",
    "c_count = df_hk[df_hk['company'] == 'C'].company.count()\n",
    "\n",
    "plt.pie(x = ([a_count,b_count,c_count]), \n",
    "        labels=(['company A','company B','company C']), autopct='%.1f%%') # autopct 전체 백분율, ' %.2f '는 소숫점 2자리\n",
    "\n",
    "plt.show()"
   ]
  },
  {
   "cell_type": "markdown",
   "id": "9fb89646",
   "metadata": {
    "id": "9fb89646"
   },
   "source": [
    "## scatter plot (산점도)\n",
    "* 산점도로서 X(연속형), Y(연속형) 값을 시각화"
   ]
  },
  {
   "cell_type": "code",
   "execution_count": 114,
   "id": "6ef0378f",
   "metadata": {
    "colab": {
     "base_uri": "https://localhost:8080/",
     "height": 297
    },
    "executionInfo": {
     "elapsed": 58,
     "status": "ok",
     "timestamp": 1670736062907,
     "user": {
      "displayName": "jinyang park",
      "userId": "06576046992691541404"
     },
     "user_tz": -540
    },
    "id": "6ef0378f",
    "outputId": "d80c989e-0137-47cc-b053-c8d339dad3e9"
   },
   "outputs": [
    {
     "data": {
      "image/png": "[encoded data removed]",
      "text/plain": [
       "<Figure size 432x288 with 1 Axes>"
      ]
     },
     "metadata": {
      "needs_background": "light"
     },
     "output_type": "display_data"
    }
   ],
   "source": [
    "# scatterplot, <AxesSubplot:xlabel='age', ylabel='height'>\n",
    "sns.scatterplot(x='age',y='height', data=df_hk)\n",
    "plt.show()"
   ]
  },
  {
   "cell_type": "code",
   "execution_count": 116,
   "id": "9D8xichuw67g",
   "metadata": {
    "colab": {
     "base_uri": "https://localhost:8080/",
     "height": 297
    },
    "executionInfo": {
     "elapsed": 907,
     "status": "ok",
     "timestamp": 1670736063758,
     "user": {
      "displayName": "jinyang park",
      "userId": "06576046992691541404"
     },
     "user_tz": -540
    },
    "id": "9D8xichuw67g",
    "outputId": "9c6b0595-12af-4436-bc9f-a58575743fba"
   },
   "outputs": [
    {
     "data": {
      "text/plain": [
       "<AxesSubplot:xlabel='age', ylabel='salary'>"
      ]
     },
     "execution_count": 116,
     "metadata": {},
     "output_type": "execute_result"
    },
    {
     "data": {
      "image/png": "[encoded data removed]",
      "text/plain": [
       "<Figure size 432x288 with 1 Axes>"
      ]
     },
     "metadata": {
      "needs_background": "light"
     },
     "output_type": "display_data"
    }
   ],
   "source": [
    "# scatterplot, <AxesSubplot:xlabel='age', ylabel='salary'>\n",
    "sns.scatterplot(x='age',y='salary', data=df_hk , hue='company')"
   ]
  },
  {
   "cell_type": "code",
   "execution_count": 118,
   "id": "5f41565f",
   "metadata": {
    "colab": {
     "base_uri": "https://localhost:8080/",
     "height": 297
    },
    "executionInfo": {
     "elapsed": 37,
     "status": "ok",
     "timestamp": 1670736063762,
     "user": {
      "displayName": "jinyang park",
      "userId": "06576046992691541404"
     },
     "user_tz": -540
    },
    "id": "5f41565f",
    "outputId": "9a08bbb3-202a-402f-ee05-bd18c9def498"
   },
   "outputs": [
    {
     "data": {
      "text/plain": [
       "<AxesSubplot:xlabel='age', ylabel='salary'>"
      ]
     },
     "execution_count": 118,
     "metadata": {},
     "output_type": "execute_result"
    },
    {
     "data": {
      "image/png": "[encoded data removed]",
      "text/plain": [
       "<Figure size 432x288 with 1 Axes>"
      ]
     },
     "metadata": {
      "needs_background": "light"
     },
     "output_type": "display_data"
    }
   ],
   "source": [
    "# hue 인자를 사용하여 x값 세분화\n",
    "sns.scatterplot(x='age',y='salary', data=df_hk , hue='company')"
   ]
  },
  {
   "cell_type": "markdown",
   "id": "9ed1430b",
   "metadata": {
    "id": "9ed1430b"
   },
   "source": [
    "## 상관 Heatmap\n",
    "* 컬럼간의 상관도를 Heatmap형태로 표현"
   ]
  },
  {
   "cell_type": "code",
   "execution_count": 119,
   "id": "44b94e60",
   "metadata": {
    "colab": {
     "base_uri": "https://localhost:8080/",
     "height": 175
    },
    "executionInfo": {
     "elapsed": 34,
     "status": "ok",
     "timestamp": 1670736063763,
     "user": {
      "displayName": "jinyang park",
      "userId": "06576046992691541404"
     },
     "user_tz": -540
    },
    "id": "44b94e60",
    "outputId": "ac45288f-7ffc-415f-897e-84b5b02ba60d"
   },
   "outputs": [
    {
     "data": {
      "text/html": [
       "<div>\n",
       "<style scoped>\n",
       "    .dataframe tbody tr th:only-of-type {\n",
       "        vertical-align: middle;\n",
       "    }\n",
       "\n",
       "    .dataframe tbody tr th {\n",
       "        vertical-align: top;\n",
       "    }\n",
       "\n",
       "    .dataframe thead th {\n",
       "        text-align: right;\n",
       "    }\n",
       "</style>\n",
       "<table border=\"1\" class=\"dataframe\">\n",
       "  <thead>\n",
       "    <tr style=\"text-align: right;\">\n",
       "      <th></th>\n",
       "      <th>height</th>\n",
       "      <th>age</th>\n",
       "      <th>salary</th>\n",
       "      <th>expenditure</th>\n",
       "    </tr>\n",
       "  </thead>\n",
       "  <tbody>\n",
       "    <tr>\n",
       "      <th>height</th>\n",
       "      <td>1.000000</td>\n",
       "      <td>0.040403</td>\n",
       "      <td>0.048673</td>\n",
       "      <td>0.048044</td>\n",
       "    </tr>\n",
       "    <tr>\n",
       "      <th>age</th>\n",
       "      <td>0.040403</td>\n",
       "      <td>1.000000</td>\n",
       "      <td>0.525035</td>\n",
       "      <td>0.552832</td>\n",
       "    </tr>\n",
       "    <tr>\n",
       "      <th>salary</th>\n",
       "      <td>0.048673</td>\n",
       "      <td>0.525035</td>\n",
       "      <td>1.000000</td>\n",
       "      <td>0.972185</td>\n",
       "    </tr>\n",
       "    <tr>\n",
       "      <th>expenditure</th>\n",
       "      <td>0.048044</td>\n",
       "      <td>0.552832</td>\n",
       "      <td>0.972185</td>\n",
       "      <td>1.000000</td>\n",
       "    </tr>\n",
       "  </tbody>\n",
       "</table>\n",
       "</div>"
      ],
      "text/plain": [
       "               height       age    salary  expenditure\n",
       "height       1.000000  0.040403  0.048673     0.048044\n",
       "age          0.040403  1.000000  0.525035     0.552832\n",
       "salary       0.048673  0.525035  1.000000     0.972185\n",
       "expenditure  0.048044  0.552832  0.972185     1.000000"
      ]
     },
     "execution_count": 119,
     "metadata": {},
     "output_type": "execute_result"
    }
   ],
   "source": [
    "# corr()\n",
    "df_hk.corr()"
   ]
  },
  {
   "cell_type": "code",
   "execution_count": 121,
   "id": "dfe8902e",
   "metadata": {
    "colab": {
     "base_uri": "https://localhost:8080/",
     "height": 505
    },
    "executionInfo": {
     "elapsed": 34,
     "status": "ok",
     "timestamp": 1670736063764,
     "user": {
      "displayName": "jinyang park",
      "userId": "06576046992691541404"
     },
     "user_tz": -540
    },
    "id": "dfe8902e",
    "outputId": "4318a316-b98b-4c6d-e364-498ebd320d37"
   },
   "outputs": [
    {
     "data": {
      "text/plain": [
       "<AxesSubplot:>"
      ]
     },
     "execution_count": 121,
     "metadata": {},
     "output_type": "execute_result"
    },
    {
     "data": {
      "image/png": "[encoded data removed]",
      "text/plain": [
       "<Figure size 576x576 with 2 Axes>"
      ]
     },
     "metadata": {
      "needs_background": "light"
     },
     "output_type": "display_data"
    }
   ],
   "source": [
    "# 상관 Heatmap\n",
    "\n",
    "plt.figure(figsize=(8, 8))\n",
    "corr = df_hk.corr()\n",
    "\n",
    "# DataFrame의 corr()은 숫자형 값만 상관도를 구함. \n"
   ]
  },
  {
   "cell_type": "code",
   "execution_count": 122,
   "id": "LZoib7Rn5KzA",
   "metadata": {
    "colab": {
     "base_uri": "https://localhost:8080/",
     "height": 505
    },
    "executionInfo": {
     "elapsed": 439,
     "status": "ok",
     "timestamp": 1670736064171,
     "user": {
      "displayName": "jinyang park",
      "userId": "06576046992691541404"
     },
     "user_tz": -540
    },
    "id": "LZoib7Rn5KzA",
    "outputId": "20668074-0d5e-4850-955f-c4483993a57d"
   },
   "outputs": [
    {
     "data": {
      "text/plain": [
       "<AxesSubplot:>"
      ]
     },
     "execution_count": 122,
     "metadata": {},
     "output_type": "execute_result"
    },
    {
     "data": {
      "image/png": "[encoded data removed]",
      "text/plain": [
       "<Figure size 432x288 with 2 Axes>"
      ]
     },
     "metadata": {
      "needs_background": "light"
     },
     "output_type": "display_data"
    }
   ],
   "source": [
    "# annotation(주석) 인자로 상관계수 표시\n",
    "sns.heatmap(corr, annot=True)"
   ]
  },
  {
   "cell_type": "markdown",
   "id": "zuIplK3R9ebO",
   "metadata": {
    "id": "zuIplK3R9ebO"
   },
   "source": [
    "## Quiz\n",
    "\n",
    "1) bike temp에 대한 histogram을 그리시오\n",
    "\n",
    "2) iris species별 sepal_length 평균의 bar chart를 그리시오\n",
    "\n",
    "3) diamond cut별 price에 대한 boxplot을 그리시오\n",
    "\n",
    "4) diamond cut별 price에 대한 scatter plot을 그리시오 (hue = 'color' or 'cut' 적용)"
   ]
  },
  {
   "cell_type": "code",
   "execution_count": null,
   "id": "I_PvmvKW9pQU",
   "metadata": {
    "id": "I_PvmvKW9pQU"
   },
   "outputs": [],
   "source": []
  }
 ],
 "metadata": {
  "colab": {
   "provenance": [
    {
     "file_id": "1LbXss42fKDGV8B9THlHFSRNd6zVrhlCM",
     "timestamp": 1670683712264
    }
   ],
   "toc_visible": true
  },
  "kernelspec": {
   "display_name": "Python 3 (ipykernel)",
   "language": "python",
   "name": "python3"
  },
  "language_info": {
   "codemirror_mode": {
    "name": "ipython",
    "version": 3
   },
   "file_extension": ".py",
   "mimetype": "text/x-python",
   "name": "python",
   "nbconvert_exporter": "python",
   "pygments_lexer": "ipython3",
   "version": "3.9.7"
  }
 },
 "nbformat": 4,
 "nbformat_minor": 5
}
